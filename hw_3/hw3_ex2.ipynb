{
  "nbformat": 4,
  "nbformat_minor": 0,
  "metadata": {
    "colab": {
      "provenance": [],
      "authorship_tag": "ABX9TyP85ddwMQY6GFC8EwiC+xS1",
      "include_colab_link": true
    },
    "kernelspec": {
      "name": "python3",
      "display_name": "Python 3"
    },
    "language_info": {
      "name": "python"
    },
    "accelerator": "GPU",
    "gpuClass": "standard"
  },
  "cells": [
    {
      "cell_type": "markdown",
      "metadata": {
        "id": "view-in-github",
        "colab_type": "text"
      },
      "source": [
        "<a href=\"https://colab.research.google.com/github/zhang99111/DD2360HT22/blob/main/hw_3/hw3_ex2.ipynb\" target=\"_parent\"><img src=\"https://colab.research.google.com/assets/colab-badge.svg\" alt=\"Open In Colab\"/></a>"
      ]
    },
    {
      "cell_type": "code",
      "source": [
        "from google.colab import drive\n",
        "drive.mount('/content/drive')\n",
        "%cd '/content/drive/MyDrive'"
      ],
      "metadata": {
        "colab": {
          "base_uri": "https://localhost:8080/"
        },
        "id": "9Trn5_xR8JqV",
        "outputId": "6fb50314-1e35-421f-a74e-8055324b2dd1"
      },
      "execution_count": 18,
      "outputs": [
        {
          "output_type": "stream",
          "name": "stdout",
          "text": [
            "Drive already mounted at /content/drive; to attempt to forcibly remount, call drive.mount(\"/content/drive\", force_remount=True).\n",
            "/content/drive/MyDrive\n"
          ]
        }
      ]
    },
    {
      "cell_type": "code",
      "source": [
        "!nvcc -arch=sm_75 ./lab3_ex2.cu -o lab3_ex2"
      ],
      "metadata": {
        "id": "R3ZSUq4nXzFn"
      },
      "execution_count": 11,
      "outputs": []
    },
    {
      "cell_type": "code",
      "source": [
        "!./lab3_ex2 128 128 128 128"
      ],
      "metadata": {
        "colab": {
          "base_uri": "https://localhost:8080/"
        },
        "id": "1z7gTS22ePHS",
        "outputId": "2a86f57e-894e-4831-b025-9ed547e5687e"
      },
      "execution_count": 4,
      "outputs": [
        {
          "output_type": "stream",
          "name": "stdout",
          "text": [
            "Input matrix dim (128 x 128) (128 x 128) (128 x 128)\n",
            "Host -> Device: 0.000099\n",
            "Kernel: 0.000153\n",
            "Device->Host: 0.000113\n",
            "the commdan is correct"
          ]
        }
      ]
    },
    {
      "cell_type": "code",
      "source": [
        "!./lab3_ex2 256 128 128 256"
      ],
      "metadata": {
        "colab": {
          "base_uri": "https://localhost:8080/"
        },
        "id": "C5kjggNuJgwa",
        "outputId": "319a1d29-bba9-4fde-ab63-a2d528e934df"
      },
      "execution_count": 5,
      "outputs": [
        {
          "output_type": "stream",
          "name": "stdout",
          "text": [
            "Input matrix dim (256 x 128) (128 x 256) (256 x 256)\n",
            "Host -> Device: 0.000382\n",
            "Kernel: 0.000268\n",
            "Device->Host: 0.000394\n",
            "the commdan is correct"
          ]
        }
      ]
    },
    {
      "cell_type": "code",
      "source": [
        "!./lab3_ex2 512 128 128 512"
      ],
      "metadata": {
        "colab": {
          "base_uri": "https://localhost:8080/"
        },
        "id": "PnZ2pj6QJm7N",
        "outputId": "8e1d3dc0-a72c-4cce-d325-f6dce5565edf"
      },
      "execution_count": 6,
      "outputs": [
        {
          "output_type": "stream",
          "name": "stdout",
          "text": [
            "Input matrix dim (512 x 128) (128 x 512) (512 x 512)\n",
            "Host -> Device: 0.000284\n",
            "Kernel: 0.000879\n",
            "Device->Host: 0.001401\n",
            "the commdan is correct"
          ]
        }
      ]
    },
    {
      "cell_type": "code",
      "source": [
        "!./lab3_ex2 1024 128 128 1024"
      ],
      "metadata": {
        "colab": {
          "base_uri": "https://localhost:8080/"
        },
        "id": "AndjdCOQJpi6",
        "outputId": "a8d38a6c-42b7-4135-aa7d-c7a1b72d8a1e"
      },
      "execution_count": 7,
      "outputs": [
        {
          "output_type": "stream",
          "name": "stdout",
          "text": [
            "Input matrix dim (1024 x 128) (128 x 1024) (1024 x 1024)\n",
            "Host -> Device: 0.000536\n",
            "Kernel: 0.003171\n",
            "Device->Host: 0.005285\n",
            "the commdan is correct"
          ]
        }
      ]
    },
    {
      "cell_type": "code",
      "source": [
        "!./lab3_ex2 2048 128 128 2048"
      ],
      "metadata": {
        "colab": {
          "base_uri": "https://localhost:8080/"
        },
        "id": "9227v1TGJtZG",
        "outputId": "5ce444f5-1210-465d-c377-a00d40d8e36a"
      },
      "execution_count": 8,
      "outputs": [
        {
          "output_type": "stream",
          "name": "stdout",
          "text": [
            "Input matrix dim (2048 x 128) (128 x 2048) (2048 x 2048)\n",
            "Host -> Device: 0.001001\n",
            "Kernel: 0.012269\n",
            "Device->Host: 0.021190\n",
            "the commdan is correct"
          ]
        }
      ]
    },
    {
      "cell_type": "code",
      "source": [
        "!./lab3_ex2 4096 128 128 4096"
      ],
      "metadata": {
        "colab": {
          "base_uri": "https://localhost:8080/"
        },
        "id": "EcvHX5WFJ3oY",
        "outputId": "c03f07a9-4541-4575-9a90-b6586fc3aaae"
      },
      "execution_count": 9,
      "outputs": [
        {
          "output_type": "stream",
          "name": "stdout",
          "text": [
            "Input matrix dim (4096 x 128) (128 x 4096) (4096 x 4096)\n",
            "Host -> Device: 0.001944\n",
            "Kernel: 0.048726\n",
            "Device->Host: 0.084496\n",
            "the commdan is correct"
          ]
        }
      ]
    },
    {
      "cell_type": "code",
      "source": [
        "!./lab3_ex2 128 128 128 128"
      ],
      "metadata": {
        "colab": {
          "base_uri": "https://localhost:8080/"
        },
        "id": "hRcm7gulKRsi",
        "outputId": "e89481fe-4bbd-4bf5-a616-4509a8f7e293"
      },
      "execution_count": 12,
      "outputs": [
        {
          "output_type": "stream",
          "name": "stdout",
          "text": [
            "Input matrix dim (128 x 128) (128 x 128) (128 x 128)\n",
            "float value\n",
            "Host -> Device: 0.000076\n",
            "Kernel: 0.000288\n",
            "Device->Host: 0.000069\n",
            "the commdan is correct"
          ]
        }
      ]
    },
    {
      "cell_type": "code",
      "source": [
        "!./lab3_ex2 256 128 128 256"
      ],
      "metadata": {
        "colab": {
          "base_uri": "https://localhost:8080/"
        },
        "id": "grT4xdVZKRvU",
        "outputId": "853312c6-def1-4930-93d9-d182e68cb960"
      },
      "execution_count": 13,
      "outputs": [
        {
          "output_type": "stream",
          "name": "stdout",
          "text": [
            "Input matrix dim (256 x 128) (128 x 256) (256 x 256)\n",
            "float value\n",
            "Host -> Device: 0.000095\n",
            "Kernel: 0.000546\n",
            "Device->Host: 0.000197\n",
            "the commdan is correct"
          ]
        }
      ]
    },
    {
      "cell_type": "code",
      "source": [
        "!./lab3_ex2 512 128 128 512"
      ],
      "metadata": {
        "colab": {
          "base_uri": "https://localhost:8080/"
        },
        "id": "T_79KKVVKRyO",
        "outputId": "7e7105cc-3554-4ea4-d8bc-012b247c9274"
      },
      "execution_count": 14,
      "outputs": [
        {
          "output_type": "stream",
          "name": "stdout",
          "text": [
            "Input matrix dim (512 x 128) (128 x 512) (512 x 512)\n",
            "float value\n",
            "Host -> Device: 0.000155\n",
            "Kernel: 0.001850\n",
            "Device->Host: 0.000750\n",
            "the commdan is correct"
          ]
        }
      ]
    },
    {
      "cell_type": "code",
      "source": [
        "!./lab3_ex2 1024 128 128 1024"
      ],
      "metadata": {
        "colab": {
          "base_uri": "https://localhost:8080/"
        },
        "id": "46oJH76bKR09",
        "outputId": "5d9b7035-347e-4471-fb1f-2191a7b16196"
      },
      "execution_count": 15,
      "outputs": [
        {
          "output_type": "stream",
          "name": "stdout",
          "text": [
            "Input matrix dim (1024 x 128) (128 x 1024) (1024 x 1024)\n",
            "float value\n",
            "Host -> Device: 0.000295\n",
            "Kernel: 0.006790\n",
            "Device->Host: 0.003078\n",
            "the commdan is correct"
          ]
        }
      ]
    },
    {
      "cell_type": "code",
      "source": [
        "!./lab3_ex2 2048 128 128 2048"
      ],
      "metadata": {
        "colab": {
          "base_uri": "https://localhost:8080/"
        },
        "id": "7jlps-F6KR39",
        "outputId": "56a101c4-fa8e-4b08-853e-65d1b23fe0f7"
      },
      "execution_count": 16,
      "outputs": [
        {
          "output_type": "stream",
          "name": "stdout",
          "text": [
            "Input matrix dim (2048 x 128) (128 x 2048) (2048 x 2048)\n",
            "float value\n",
            "Host -> Device: 0.000570\n",
            "Kernel: 0.026847\n",
            "Device->Host: 0.010538\n",
            "the commdan is correct"
          ]
        }
      ]
    },
    {
      "cell_type": "code",
      "source": [
        "!./lab3_ex2 4096 128 128 4096"
      ],
      "metadata": {
        "colab": {
          "base_uri": "https://localhost:8080/"
        },
        "id": "Zeu8QaymKR-F",
        "outputId": "08d85087-e92e-4ed5-d49e-19df3575c518"
      },
      "execution_count": 17,
      "outputs": [
        {
          "output_type": "stream",
          "name": "stdout",
          "text": [
            "Input matrix dim (4096 x 128) (128 x 4096) (4096 x 4096)\n",
            "float value\n",
            "Host -> Device: 0.001007\n",
            "Kernel: 0.106619\n",
            "Device->Host: 0.042862\n",
            "the commdan is correct"
          ]
        }
      ]
    },
    {
      "cell_type": "code",
      "source": [
        "!/usr/local/cuda-11/bin/nv-nsight-cu-cli ./lab3_ex2 128 128 128 128"
      ],
      "metadata": {
        "colab": {
          "base_uri": "https://localhost:8080/"
        },
        "id": "h6DW0_d88AWV",
        "outputId": "c3ffa5b6-dce8-4d6a-ade1-3101cce1631d"
      },
      "execution_count": 19,
      "outputs": [
        {
          "output_type": "stream",
          "name": "stdout",
          "text": [
            "Input matrix dim (128 x 128) (128 x 128) (128 x 128)\n",
            "==PROF== Connected to process 462 (/content/drive/MyDrive/lab3_ex2)\n",
            "float value\n",
            "Host -> Device: 0.003174\n",
            "==PROF== Profiling \"gemm\" - 1: 0%....50%....100% - 8 passes\n",
            "Kernel: 0.827395\n",
            "Device->Host: 0.000090\n",
            "the commdan is correct==PROF== Disconnected from process 462\n",
            "[462] lab3_ex2@127.0.0.1\n",
            "  gemm(float*, float*, float*, int, int, int, int), 2022-Dec-15 22:44:41, Context 1, Stream 7\n",
            "    Section: GPU Speed Of Light\n",
            "    ---------------------------------------------------------------------- --------------- ------------------------------\n",
            "    DRAM Frequency                                                           cycle/nsecond                           4.99\n",
            "    SM Frequency                                                             cycle/usecond                         584.27\n",
            "    Elapsed Cycles                                                                   cycle                        154,194\n",
            "    Memory [%]                                                                           %                           4.30\n",
            "    SOL DRAM                                                                             %                           0.29\n",
            "    Duration                                                                       usecond                         263.90\n",
            "    SOL L1/TEX Cache                                                                     %                          10.84\n",
            "    SOL L2 Cache                                                                         %                           0.27\n",
            "    SM Active Cycles                                                                 cycle                      61,160.95\n",
            "    SM [%]                                                                               %                          34.14\n",
            "    ---------------------------------------------------------------------- --------------- ------------------------------\n",
            "    WRN   This kernel grid is too small to fill the available resources on this device, resulting in only 0.4 full      \n",
            "          waves across all SMs. Look at Launch Statistics for more details.                                             \n",
            "\n",
            "    Section: Launch Statistics\n",
            "    ---------------------------------------------------------------------- --------------- ------------------------------\n",
            "    Block Size                                                                                                      1,024\n",
            "    Function Cache Configuration                                                                  cudaFuncCachePreferNone\n",
            "    Grid Size                                                                                                          16\n",
            "    Registers Per Thread                                                   register/thread                             56\n",
            "    Shared Memory Configuration Size                                                 Kbyte                          32.77\n",
            "    Driver Shared Memory Per Block                                              byte/block                              0\n",
            "    Dynamic Shared Memory Per Block                                             byte/block                              0\n",
            "    Static Shared Memory Per Block                                              byte/block                              0\n",
            "    Threads                                                                         thread                         16,384\n",
            "    Waves Per SM                                                                                                     0.40\n",
            "    ---------------------------------------------------------------------- --------------- ------------------------------\n",
            "    WRN   The grid for this launch is configured to execute only 16 blocks, which is less than the GPU's 40             \n",
            "          multiprocessors. This can underutilize some multiprocessors. If you do not intend to execute this kernel      \n",
            "          concurrently with other workloads, consider reducing the block size to have at least one block per            \n",
            "          multiprocessor or increase the size of the grid to fully utilize the available hardware resources.            \n",
            "\n",
            "    Section: Occupancy\n",
            "    ---------------------------------------------------------------------- --------------- ------------------------------\n",
            "    Block Limit SM                                                                   block                             16\n",
            "    Block Limit Registers                                                            block                              1\n",
            "    Block Limit Shared Mem                                                           block                             16\n",
            "    Block Limit Warps                                                                block                              1\n",
            "    Theoretical Active Warps per SM                                                   warp                             32\n",
            "    Theoretical Occupancy                                                                %                            100\n",
            "    Achieved Occupancy                                                                   %                          95.66\n",
            "    Achieved Active Warps Per SM                                                      warp                          30.61\n",
            "    ---------------------------------------------------------------------- --------------- ------------------------------\n",
            "\n"
          ]
        }
      ]
    },
    {
      "cell_type": "code",
      "source": [
        "!nvprof ./lab3_ex2 128 128 128 128"
      ],
      "metadata": {
        "id": "q-TQ2Fw0eZS5",
        "outputId": "2e2c4318-8ef0-4010-c866-3254040900e7",
        "colab": {
          "base_uri": "https://localhost:8080/"
        }
      },
      "execution_count": 20,
      "outputs": [
        {
          "output_type": "stream",
          "name": "stdout",
          "text": [
            "Input matrix dim (128 x 128) (128 x 128) (128 x 128)\n",
            "==472== NVPROF is profiling process 472, command: ./lab3_ex2 128 128 128 128\n",
            "float value\n",
            "Host -> Device: 0.000087\n",
            "Kernel: 0.000297\n",
            "Device->Host: 0.000077\n",
            "the commdan is correct==472== Profiling application: ./lab3_ex2 128 128 128 128\n",
            "==472== Profiling result:\n",
            "            Type  Time(%)      Time     Calls       Avg       Min       Max  Name\n",
            " GPU activities:   91.48%  264.89us         1  264.89us  264.89us  264.89us  gemm(float*, float*, float*, int, int, int, int)\n",
            "                    6.13%  17.758us         2  8.8790us  8.8630us  8.8950us  [CUDA memcpy HtoD]\n",
            "                    2.39%  6.9120us         1  6.9120us  6.9120us  6.9120us  [CUDA memcpy DtoH]\n",
            "      API calls:   99.64%  294.77ms         3  98.256ms  2.3500us  294.76ms  cudaMalloc\n",
            "                    0.12%  341.06us         1  341.06us  341.06us  341.06us  cuDeviceTotalMem\n",
            "                    0.09%  268.62us         2  134.31us  2.0740us  266.54us  cudaDeviceSynchronize\n",
            "                    0.05%  154.55us         3  51.515us  38.715us  74.468us  cudaMemcpy\n",
            "                    0.05%  138.88us       101  1.3750us     126ns  58.534us  cuDeviceGetAttribute\n",
            "                    0.04%  109.56us         3  36.521us  2.5190us  99.738us  cudaFree\n",
            "                    0.01%  28.065us         1  28.065us  28.065us  28.065us  cudaLaunchKernel\n",
            "                    0.01%  27.344us         1  27.344us  27.344us  27.344us  cuDeviceGetName\n",
            "                    0.00%  5.5370us         1  5.5370us  5.5370us  5.5370us  cuDeviceGetPCIBusId\n",
            "                    0.00%  1.4030us         3     467ns     186ns     870ns  cuDeviceGetCount\n",
            "                    0.00%  1.3050us         2     652ns     287ns  1.0180us  cuDeviceGet\n",
            "                    0.00%     261ns         1     261ns     261ns     261ns  cuDeviceGetUuid\n"
          ]
        }
      ]
    },
    {
      "cell_type": "code",
      "source": [
        "!./lab3_ex2 511 1023 1023 4094"
      ],
      "metadata": {
        "colab": {
          "base_uri": "https://localhost:8080/"
        },
        "id": "JlyJpZWEY3eN",
        "outputId": "4dcd2f3f-220f-41cf-fbc9-d0e8c751c4d1"
      },
      "execution_count": 21,
      "outputs": [
        {
          "output_type": "stream",
          "name": "stdout",
          "text": [
            "Input matrix dim (511 x 1023) (1023 x 4094) (511 x 4094)\n",
            "float value\n",
            "Host -> Device: 0.004197\n",
            "Kernel: 0.106374\n",
            "Device->Host: 0.005237\n",
            "error"
          ]
        }
      ]
    },
    {
      "cell_type": "code",
      "source": [
        "!/usr/local/cuda-11/bin/nv-nsight-cu-cli ./lab3_ex2 511 1023 1023 4094"
      ],
      "metadata": {
        "colab": {
          "base_uri": "https://localhost:8080/"
        },
        "id": "TPj89-k880-T",
        "outputId": "45c1aa2b-4fa6-4f6b-f2f7-e7822f3750c5"
      },
      "execution_count": 22,
      "outputs": [
        {
          "output_type": "stream",
          "name": "stdout",
          "text": [
            "Input matrix dim (511 x 1023) (1023 x 4094) (511 x 4094)\n",
            "==PROF== Connected to process 500 (/content/drive/MyDrive/lab3_ex2)\n",
            "float value\n",
            "Host -> Device: 0.004182\n",
            "==PROF== Profiling \"gemm\" - 1: 0%....50%....100% - 8 passes\n",
            "Kernel: 1.478402\n",
            "Device->Host: 0.006223\n",
            "error==PROF== Disconnected from process 500\n",
            "[500] lab3_ex2@127.0.0.1\n",
            "  gemm(float*, float*, float*, int, int, int, int), 2022-Dec-15 22:45:27, Context 1, Stream 7\n",
            "    Section: GPU Speed Of Light\n",
            "    ---------------------------------------------------------------------- --------------- ------------------------------\n",
            "    DRAM Frequency                                                           cycle/nsecond                           5.00\n",
            "    SM Frequency                                                             cycle/usecond                         584.99\n",
            "    Elapsed Cycles                                                                   cycle                     62,186,823\n",
            "    Memory [%]                                                                           %                          10.78\n",
            "    SOL DRAM                                                                             %                           1.34\n",
            "    Duration                                                                       msecond                         106.30\n",
            "    SOL L1/TEX Cache                                                                     %                          11.31\n",
            "    SOL L2 Cache                                                                         %                           1.00\n",
            "    SM Active Cycles                                                                 cycle                  61,251,630.48\n",
            "    SM [%]                                                                               %                          86.12\n",
            "    ---------------------------------------------------------------------- --------------- ------------------------------\n",
            "    OK    The kernel is utilizing greater than 80.0% of the available compute or memory performance of the device. To   \n",
            "          further improve performance, work will likely need to be shifted from the most utilized to another unit.      \n",
            "          Start by analyzing workloads in the Compute Workload Analysis section.                                        \n",
            "\n",
            "    Section: Launch Statistics\n",
            "    ---------------------------------------------------------------------- --------------- ------------------------------\n",
            "    Block Size                                                                                                      1,024\n",
            "    Function Cache Configuration                                                                  cudaFuncCachePreferNone\n",
            "    Grid Size                                                                                                       2,048\n",
            "    Registers Per Thread                                                   register/thread                             56\n",
            "    Shared Memory Configuration Size                                                 Kbyte                          32.77\n",
            "    Driver Shared Memory Per Block                                              byte/block                              0\n",
            "    Dynamic Shared Memory Per Block                                             byte/block                              0\n",
            "    Static Shared Memory Per Block                                              byte/block                              0\n",
            "    Threads                                                                         thread                      2,097,152\n",
            "    Waves Per SM                                                                                                    51.20\n",
            "    ---------------------------------------------------------------------- --------------- ------------------------------\n",
            "\n",
            "    Section: Occupancy\n",
            "    ---------------------------------------------------------------------- --------------- ------------------------------\n",
            "    Block Limit SM                                                                   block                             16\n",
            "    Block Limit Registers                                                            block                              1\n",
            "    Block Limit Shared Mem                                                           block                             16\n",
            "    Block Limit Warps                                                                block                              1\n",
            "    Theoretical Active Warps per SM                                                   warp                             32\n",
            "    Theoretical Occupancy                                                                %                            100\n",
            "    Achieved Occupancy                                                                   %                          96.70\n",
            "    Achieved Active Warps Per SM                                                      warp                          30.94\n",
            "    ---------------------------------------------------------------------- --------------- ------------------------------\n",
            "\n"
          ]
        }
      ]
    },
    {
      "cell_type": "code",
      "source": [
        "!nvprof ./lab3_ex2 2048 1536 1536 4096"
      ],
      "metadata": {
        "colab": {
          "base_uri": "https://localhost:8080/"
        },
        "id": "PaNBWHXIZ4MZ",
        "outputId": "cebe5937-4cbb-4485-8cf1-2dedfe649209"
      },
      "execution_count": null,
      "outputs": [
        {
          "output_type": "stream",
          "name": "stdout",
          "text": [
            "Input matrix dim (2048 x 1536) (1536 x 4096) (2048 x 4096)\n",
            "==284== NVPROF is profiling process 284, command: ./lab3_ex2 2048 1536 1536 4096\n",
            "the commdan is correct==284== Profiling application: ./lab3_ex2 2048 1536 1536 4096\n",
            "==284== Profiling result:\n",
            "            Type  Time(%)      Time     Calls       Avg       Min       Max  Name\n",
            " GPU activities:   79.03%  222.78ms         1  222.78ms  222.78ms  222.78ms  gemm(double*, double*, double*, int, int, int, int)\n",
            "                   15.00%  42.291ms         1  42.291ms  42.291ms  42.291ms  [CUDA memcpy DtoH]\n",
            "                    5.96%  16.804ms         2  8.4022ms  6.3323ms  10.472ms  [CUDA memcpy HtoD]\n",
            "      API calls:   51.89%  309.06ms         3  103.02ms  136.62us  308.78ms  cudaMalloc\n",
            "                   37.42%  222.84ms         1  222.84ms  222.84ms  222.84ms  cudaDeviceSynchronize\n",
            "                   10.21%  60.822ms         3  20.274ms  6.5959ms  43.537ms  cudaMemcpy\n",
            "                    0.36%  2.1447ms         3  714.90us  231.90us  1.1422ms  cudaFree\n",
            "                    0.08%  455.43us         1  455.43us  455.43us  455.43us  cuDeviceTotalMem\n",
            "                    0.03%  182.12us       101  1.8030us     151ns  85.621us  cuDeviceGetAttribute\n",
            "                    0.01%  35.506us         1  35.506us  35.506us  35.506us  cudaLaunchKernel\n",
            "                    0.00%  28.220us         1  28.220us  28.220us  28.220us  cuDeviceGetName\n",
            "                    0.00%  8.3810us         1  8.3810us  8.3810us  8.3810us  cuDeviceGetPCIBusId\n",
            "                    0.00%  1.3600us         3     453ns     189ns     823ns  cuDeviceGetCount\n",
            "                    0.00%  1.1030us         2     551ns     344ns     759ns  cuDeviceGet\n",
            "                    0.00%     285ns         1     285ns     285ns     285ns  cuDeviceGetUuid\n"
          ]
        }
      ]
    }
  ]
}