{
  "cells": [
    {
      "cell_type": "markdown",
      "metadata": {
        "id": "view-in-github",
        "colab_type": "text"
      },
      "source": [
        "<a href=\"https://colab.research.google.com/github/zhang99111/DD2360HT22/blob/main/hw_3/hw3_ex2__new.ipynb\" target=\"_parent\"><img src=\"https://colab.research.google.com/assets/colab-badge.svg\" alt=\"Open In Colab\"/></a>"
      ]
    },
    {
      "cell_type": "code",
      "execution_count": null,
      "metadata": {
        "colab": {
          "base_uri": "https://localhost:8080/"
        },
        "id": "9Trn5_xR8JqV",
        "outputId": "3a12aa95-17c4-4b20-cc82-3573674f01e5"
      },
      "outputs": [
        {
          "output_type": "stream",
          "name": "stdout",
          "text": [
            "Mounted at /content/drive\n",
            "/content/drive/MyDrive\n"
          ]
        }
      ],
      "source": [
        "from google.colab import drive\n",
        "drive.mount('/content/drive')\n",
        "%cd '/content/drive/MyDrive'"
      ]
    },
    {
      "cell_type": "code",
      "execution_count": null,
      "metadata": {
        "id": "R3ZSUq4nXzFn"
      },
      "outputs": [],
      "source": [
        "!nvcc /content/drive/MyDrive/lab3_ex2.cu -o lab3_ex2"
      ]
    },
    {
      "cell_type": "code",
      "execution_count": null,
      "metadata": {
        "colab": {
          "base_uri": "https://localhost:8080/"
        },
        "id": "YoyzPQS9ASWT",
        "outputId": "a2d423ca-923b-454c-b0fd-d5e87be56bc4"
      },
      "outputs": [
        {
          "output_type": "stream",
          "name": "stdout",
          "text": [
            "Input matrix dim (128 x 128) (128 x 128) (128 x 128)\n",
            "==PROF== Connected to process 1558 (/content/drive/MyDrive/lab3_ex2)\n",
            "Host -> Device: 0.000377\n",
            "==PROF== Profiling \"gemm\" - 1: 0%....50%....100% - 8 passes\n",
            "Kernel: 0.772175\n",
            "Device->Host: 0.000138\n",
            "the commdan is correct==PROF== Disconnected from process 1558\n",
            "[1558] lab3_ex2@127.0.0.1\n",
            "  gemm(double*, double*, double*, int, int, int, int), 2022-Dec-19 21:24:38, Context 1, Stream 7\n",
            "    Section: GPU Speed Of Light\n",
            "    ---------------------------------------------------------------------- --------------- ------------------------------\n",
            "    DRAM Frequency                                                           cycle/nsecond                           4.99\n",
            "    SM Frequency                                                             cycle/usecond                         584.05\n",
            "    Elapsed Cycles                                                                   cycle                         71,340\n",
            "    Memory [%]                                                                           %                           9.29\n",
            "    SOL DRAM                                                                             %                           1.15\n",
            "    Duration                                                                       usecond                         122.14\n",
            "    SOL L1/TEX Cache                                                                     %                          23.70\n",
            "    SOL L2 Cache                                                                         %                           1.14\n",
            "    SM Active Cycles                                                                 cycle                      27,972.58\n",
            "    SM [%]                                                                               %                          36.75\n",
            "    ---------------------------------------------------------------------- --------------- ------------------------------\n",
            "    WRN   This kernel grid is too small to fill the available resources on this device, resulting in only 0.4 full      \n",
            "          waves across all SMs. Look at Launch Statistics for more details.                                             \n",
            "\n",
            "    Section: Launch Statistics\n",
            "    ---------------------------------------------------------------------- --------------- ------------------------------\n",
            "    Block Size                                                                                                      1,024\n",
            "    Function Cache Configuration                                                                  cudaFuncCachePreferNone\n",
            "    Grid Size                                                                                                          16\n",
            "    Registers Per Thread                                                   register/thread                             62\n",
            "    Shared Memory Configuration Size                                                 Kbyte                          32.77\n",
            "    Driver Shared Memory Per Block                                              byte/block                              0\n",
            "    Dynamic Shared Memory Per Block                                             byte/block                              0\n",
            "    Static Shared Memory Per Block                                              byte/block                              0\n",
            "    Threads                                                                         thread                         16,384\n",
            "    Waves Per SM                                                                                                     0.40\n",
            "    ---------------------------------------------------------------------- --------------- ------------------------------\n",
            "    WRN   The grid for this launch is configured to execute only 16 blocks, which is less than the GPU's 40             \n",
            "          multiprocessors. This can underutilize some multiprocessors. If you do not intend to execute this kernel      \n",
            "          concurrently with other workloads, consider reducing the block size to have at least one block per            \n",
            "          multiprocessor or increase the size of the grid to fully utilize the available hardware resources.            \n",
            "\n",
            "    Section: Occupancy\n",
            "    ---------------------------------------------------------------------- --------------- ------------------------------\n",
            "    Block Limit SM                                                                   block                             16\n",
            "    Block Limit Registers                                                            block                              1\n",
            "    Block Limit Shared Mem                                                           block                             16\n",
            "    Block Limit Warps                                                                block                              1\n",
            "    Theoretical Active Warps per SM                                                   warp                             32\n",
            "    Theoretical Occupancy                                                                %                            100\n",
            "    Achieved Occupancy                                                                   %                          96.27\n",
            "    Achieved Active Warps Per SM                                                      warp                          30.81\n",
            "    ---------------------------------------------------------------------- --------------- ------------------------------\n",
            "\n"
          ]
        }
      ],
      "source": [
        "!/usr/local/cuda-11/bin/nv-nsight-cu-cli ./lab3_ex2 128 128 128 128"
      ]
    },
    {
      "cell_type": "code",
      "execution_count": null,
      "metadata": {
        "colab": {
          "base_uri": "https://localhost:8080/"
        },
        "id": "1z7gTS22ePHS",
        "outputId": "f871daed-5d2b-4dac-ce75-b867d3acdf05"
      },
      "outputs": [
        {
          "output_type": "stream",
          "name": "stdout",
          "text": [
            "Input matrix dim (128 x 128) (128 x 128) (128 x 128)\n",
            "==1602== NVPROF is profiling process 1602, command: ./lab3_ex2 128 128 128 128\n",
            "Host -> Device: 0.000163\n",
            "Kernel: 0.000160\n",
            "Device->Host: 0.000120\n",
            "the commdan is correct==1602== Profiling application: ./lab3_ex2 128 128 128 128\n",
            "==1602== Profiling result:\n",
            "            Type  Time(%)      Time     Calls       Avg       Min       Max  Name\n",
            " GPU activities:   73.61%  123.52us         1  123.52us  123.52us  123.52us  gemm(double*, double*, double*, int, int, int, int)\n",
            "                   19.03%  31.936us         2  15.968us  15.680us  16.256us  [CUDA memcpy HtoD]\n",
            "                    7.36%  12.352us         1  12.352us  12.352us  12.352us  [CUDA memcpy DtoH]\n",
            "      API calls:   99.48%  203.89ms         3  67.962ms  2.4110us  203.88ms  cudaMalloc\n",
            "                    0.17%  342.79us         1  342.79us  342.79us  342.79us  cuDeviceTotalMem\n",
            "                    0.12%  248.23us         3  82.742us  53.598us  119.09us  cudaMemcpy\n",
            "                    0.08%  159.61us       101  1.5800us     131ns  72.520us  cuDeviceGetAttribute\n",
            "                    0.06%  126.14us         1  126.14us  126.14us  126.14us  cudaDeviceSynchronize\n",
            "                    0.06%  125.06us         3  41.687us  2.7320us  112.28us  cudaFree\n",
            "                    0.02%  31.381us         1  31.381us  31.381us  31.381us  cuDeviceGetName\n",
            "                    0.01%  30.525us         1  30.525us  30.525us  30.525us  cudaLaunchKernel\n",
            "                    0.00%  5.0090us         1  5.0090us  5.0090us  5.0090us  cuDeviceGetPCIBusId\n",
            "                    0.00%  1.3390us         2     669ns     301ns  1.0380us  cuDeviceGet\n",
            "                    0.00%  1.2790us         3     426ns     168ns     707ns  cuDeviceGetCount\n",
            "                    0.00%     317ns         1     317ns     317ns     317ns  cuDeviceGetUuid\n"
          ]
        }
      ],
      "source": [
        "!nvprof ./lab3_ex2 128 128 128 128"
      ]
    },
    {
      "cell_type": "code",
      "execution_count": null,
      "metadata": {
        "colab": {
          "base_uri": "https://localhost:8080/"
        },
        "id": "C5kjggNuJgwa",
        "outputId": "332e1838-1ee5-4795-c22d-1a855a23fe71"
      },
      "outputs": [
        {
          "output_type": "stream",
          "name": "stdout",
          "text": [
            "Input matrix dim (256 x 128) (128 x 4096) (256 x 4096)\n",
            "==1644== NVPROF is profiling process 1644, command: ./lab3_ex2 256 128 128 4096\n",
            "Host -> Device: 0.001013\n",
            "Kernel: 0.003177\n",
            "Device->Host: 0.005386\n",
            "the commdan is correct==1644== Profiling application: ./lab3_ex2 256 128 128 4096\n",
            "==1644== Profiling result:\n",
            "            Type  Time(%)      Time     Calls       Avg       Min       Max  Name\n",
            " GPU activities:   51.22%  4.0615ms         1  4.0615ms  4.0615ms  4.0615ms  [CUDA memcpy DtoH]\n",
            "                   39.14%  3.1035ms         1  3.1035ms  3.1035ms  3.1035ms  gemm(double*, double*, double*, int, int, int, int)\n",
            "                    9.64%  764.60us         2  382.30us  26.431us  738.17us  [CUDA memcpy HtoD]\n",
            "      API calls:   94.79%  191.88ms         3  63.960ms  89.108us  191.70ms  cudaMalloc\n",
            "                    3.16%  6.3918ms         3  2.1306ms  74.851us  5.3847ms  cudaMemcpy\n",
            "                    1.54%  3.1085ms         1  3.1085ms  3.1085ms  3.1085ms  cudaDeviceSynchronize\n",
            "                    0.23%  465.30us         3  155.10us  123.47us  213.39us  cudaFree\n",
            "                    0.18%  356.25us         1  356.25us  356.25us  356.25us  cuDeviceTotalMem\n",
            "                    0.07%  148.48us       101  1.4700us     126ns  62.985us  cuDeviceGetAttribute\n",
            "                    0.02%  32.216us         1  32.216us  32.216us  32.216us  cudaLaunchKernel\n",
            "                    0.01%  28.573us         1  28.573us  28.573us  28.573us  cuDeviceGetName\n",
            "                    0.00%  5.9780us         1  5.9780us  5.9780us  5.9780us  cuDeviceGetPCIBusId\n",
            "                    0.00%  1.6210us         3     540ns     172ns  1.0330us  cuDeviceGetCount\n",
            "                    0.00%  1.4080us         2     704ns     190ns  1.2180us  cuDeviceGet\n",
            "                    0.00%     293ns         1     293ns     293ns     293ns  cuDeviceGetUuid\n"
          ]
        }
      ],
      "source": [
        "!nvprof ./lab3_ex2 256 128 128 4096"
      ]
    },
    {
      "cell_type": "code",
      "execution_count": null,
      "metadata": {
        "colab": {
          "base_uri": "https://localhost:8080/"
        },
        "id": "PnZ2pj6QJm7N",
        "outputId": "b8d6abdf-f0d8-4e10-d7a3-f75df065f829"
      },
      "outputs": [
        {
          "output_type": "stream",
          "name": "stdout",
          "text": [
            "Input matrix dim (511 x 1023) (1023 x 4094) (511 x 4094)\n",
            "==1675== NVPROF is profiling process 1675, command: ./lab3_ex2 511 1023 1023 4094\n",
            "Host -> Device: 0.008219\n",
            "Kernel: 0.048143\n",
            "Device->Host: 0.010779\n",
            "the commdan is correct==1675== Profiling application: ./lab3_ex2 511 1023 1023 4094\n",
            "==1675== Profiling result:\n",
            "            Type  Time(%)      Time     Calls       Avg       Min       Max  Name\n",
            " GPU activities:   73.73%  48.072ms         1  48.072ms  48.072ms  48.072ms  gemm(double*, double*, double*, int, int, int, int)\n",
            "                   14.33%  9.3445ms         1  9.3445ms  9.3445ms  9.3445ms  [CUDA memcpy DtoH]\n",
            "                   11.94%  7.7863ms         2  3.8932ms  773.88us  7.0124ms  [CUDA memcpy HtoD]\n",
            "      API calls:   75.90%  217.79ms         3  72.598ms  106.68us  217.55ms  cudaMalloc\n",
            "                   16.76%  48.103ms         1  48.103ms  48.103ms  48.103ms  cudaDeviceSynchronize\n",
            "                    6.62%  18.986ms         3  6.3285ms  973.59us  10.775ms  cudaMemcpy\n",
            "                    0.52%  1.4902ms         3  496.74us  147.25us  1.0924ms  cudaFree\n",
            "                    0.12%  349.59us         1  349.59us  349.59us  349.59us  cuDeviceTotalMem\n",
            "                    0.06%  163.54us       101  1.6190us     128ns  70.786us  cuDeviceGetAttribute\n",
            "                    0.01%  35.222us         1  35.222us  35.222us  35.222us  cudaLaunchKernel\n",
            "                    0.01%  30.260us         1  30.260us  30.260us  30.260us  cuDeviceGetName\n",
            "                    0.00%  5.2920us         1  5.2920us  5.2920us  5.2920us  cuDeviceGetPCIBusId\n",
            "                    0.00%  1.3790us         3     459ns     163ns     903ns  cuDeviceGetCount\n",
            "                    0.00%  1.1950us         2     597ns     290ns     905ns  cuDeviceGet\n",
            "                    0.00%     270ns         1     270ns     270ns     270ns  cuDeviceGetUuid\n"
          ]
        }
      ],
      "source": [
        "!nvprof ./lab3_ex2 511 1023 1023 4094"
      ]
    },
    {
      "cell_type": "code",
      "execution_count": null,
      "metadata": {
        "colab": {
          "base_uri": "https://localhost:8080/"
        },
        "id": "IcstSGceB13e",
        "outputId": "5c04c7c8-607a-4503-b502-4ca672bf49f7"
      },
      "outputs": [
        {
          "output_type": "stream",
          "name": "stdout",
          "text": [
            "Input matrix dim (768 x 1024) (1024 x 4096) (768 x 4096)\n",
            "==1840== NVPROF is profiling process 1840, command: ./lab3_ex2 768 1024 1024 4096\n",
            "Host -> Device: 0.008808\n",
            "Kernel: 0.071619\n",
            "Device->Host: 0.016449\n",
            "the commdan is correct==1840== Profiling application: ./lab3_ex2 768 1024 1024 4096\n",
            "==1840== Profiling result:\n",
            "            Type  Time(%)      Time     Calls       Avg       Min       Max  Name\n",
            " GPU activities:   75.32%  71.541ms         1  71.541ms  71.541ms  71.541ms  gemm(double*, double*, double*, int, int, int, int)\n",
            "                   15.93%  15.131ms         1  15.131ms  15.131ms  15.131ms  [CUDA memcpy DtoH]\n",
            "                    8.75%  8.3128ms         2  4.1564ms  1.3095ms  7.0033ms  [CUDA memcpy HtoD]\n",
            "      API calls:   68.21%  213.23ms         3  71.078ms  116.77us  212.93ms  cudaMalloc\n",
            "                   22.90%  71.573ms         1  71.573ms  71.573ms  71.573ms  cudaDeviceSynchronize\n",
            "                    8.07%  25.222ms         3  8.4074ms  1.5239ms  16.446ms  cudaMemcpy\n",
            "                    0.63%  1.9720ms         3  657.35us  188.11us  1.4522ms  cudaFree\n",
            "                    0.11%  354.85us         1  354.85us  354.85us  354.85us  cuDeviceTotalMem\n",
            "                    0.05%  168.60us       101  1.6690us     128ns  72.132us  cuDeviceGetAttribute\n",
            "                    0.01%  40.221us         1  40.221us  40.221us  40.221us  cudaLaunchKernel\n",
            "                    0.01%  33.118us         1  33.118us  33.118us  33.118us  cuDeviceGetName\n",
            "                    0.00%  6.1730us         1  6.1730us  6.1730us  6.1730us  cuDeviceGetPCIBusId\n",
            "                    0.00%  1.5490us         2     774ns     272ns  1.2770us  cuDeviceGet\n",
            "                    0.00%  1.5320us         3     510ns     183ns     971ns  cuDeviceGetCount\n",
            "                    0.00%     267ns         1     267ns     267ns     267ns  cuDeviceGetUuid\n"
          ]
        }
      ],
      "source": [
        "!nvprof ./lab3_ex2 768 1024 1024 4096\n"
      ]
    },
    {
      "cell_type": "code",
      "execution_count": null,
      "metadata": {
        "id": "AndjdCOQJpi6",
        "colab": {
          "base_uri": "https://localhost:8080/"
        },
        "outputId": "468aed7a-b66c-46e8-8991-3cdfcafbf485"
      },
      "outputs": [
        {
          "output_type": "stream",
          "name": "stdout",
          "text": [
            "Input matrix dim (1024 x 1024) (1024 x 4096) (1024 x 4096)\n",
            "==2055== NVPROF is profiling process 2055, command: ./lab3_ex2 1024 1024 1024 4096\n",
            "Host -> Device: 0.008939\n",
            "Kernel: 0.095707\n",
            "Device->Host: 0.021290\n",
            "the commdan is correct==2055== Profiling application: ./lab3_ex2 1024 1024 1024 4096\n",
            "==2055== Profiling result:\n",
            "            Type  Time(%)      Time     Calls       Avg       Min       Max  Name\n",
            " GPU activities:   77.02%  95.626ms         1  95.626ms  95.626ms  95.626ms  gemm(double*, double*, double*, int, int, int, int)\n",
            "                   16.12%  20.019ms         1  20.019ms  20.019ms  20.019ms  [CUDA memcpy DtoH]\n",
            "                    6.86%  8.5155ms         2  4.2578ms  1.6890ms  6.8265ms  [CUDA memcpy HtoD]\n",
            "      API calls:   61.83%  208.12ms         3  69.374ms  123.43us  207.82ms  cudaMalloc\n",
            "                   28.42%  95.667ms         1  95.667ms  95.667ms  95.667ms  cudaDeviceSynchronize\n",
            "                    8.97%  30.189ms         3  10.063ms  1.8534ms  21.287ms  cudaMemcpy\n",
            "                    0.61%  2.0400ms         3  679.99us  179.13us  1.4484ms  cudaFree\n",
            "                    0.10%  348.46us         1  348.46us  348.46us  348.46us  cuDeviceTotalMem\n",
            "                    0.05%  166.92us       101  1.6520us     127ns  68.204us  cuDeviceGetAttribute\n",
            "                    0.01%  35.045us         1  35.045us  35.045us  35.045us  cudaLaunchKernel\n",
            "                    0.01%  30.542us         1  30.542us  30.542us  30.542us  cuDeviceGetName\n",
            "                    0.00%  5.8800us         1  5.8800us  5.8800us  5.8800us  cuDeviceGetPCIBusId\n",
            "                    0.00%  1.2130us         3     404ns     219ns     684ns  cuDeviceGetCount\n",
            "                    0.00%  1.1160us         2     558ns     220ns     896ns  cuDeviceGet\n",
            "                    0.00%     220ns         1     220ns     220ns     220ns  cuDeviceGetUuid\n"
          ]
        }
      ],
      "source": [
        "!nvprof ./lab3_ex2 1024 1024 1024 4096"
      ]
    },
    {
      "cell_type": "code",
      "execution_count": null,
      "metadata": {
        "colab": {
          "base_uri": "https://localhost:8080/"
        },
        "id": "9227v1TGJtZG",
        "outputId": "3b4d218f-8473-4f71-c969-a8b5ebfd3c09"
      },
      "outputs": [
        {
          "output_type": "stream",
          "name": "stdout",
          "text": [
            "Input matrix dim (1536 x 1536) (1536 x 4096) (1536 x 4096)\n",
            "==2336== NVPROF is profiling process 2336, command: ./lab3_ex2 1536 1536 1536 4096\n",
            "Host -> Device: 0.016023\n",
            "Kernel: 0.181415\n",
            "Device->Host: 0.031555\n",
            "the commdan is correct==2336== Profiling application: ./lab3_ex2 1536 1536 1536 4096\n",
            "==2336== Profiling result:\n",
            "            Type  Time(%)      Time     Calls       Avg       Min       Max  Name\n",
            " GPU activities:   79.76%  180.66ms         1  180.66ms  180.66ms  180.66ms  gemm(double*, double*, double*, int, int, int, int)\n",
            "                   13.38%  30.298ms         1  30.298ms  30.298ms  30.298ms  [CUDA memcpy DtoH]\n",
            "                    6.87%  15.552ms         2  7.7762ms  4.7138ms  10.839ms  [CUDA memcpy HtoD]\n",
            "      API calls:   46.80%  203.75ms         3  67.915ms  127.71us  203.47ms  cudaMalloc\n",
            "                   41.50%  180.67ms         1  180.67ms  180.67ms  180.67ms  cudaDeviceSynchronize\n",
            "                   10.92%  47.545ms         3  15.848ms  4.9359ms  31.551ms  cudaMemcpy\n",
            "                    0.48%  2.1030ms         3  701.00us  213.80us  1.1261ms  cudaFree\n",
            "                    0.16%  710.45us         1  710.45us  710.45us  710.45us  cudaLaunchKernel\n",
            "                    0.09%  404.37us         1  404.37us  404.37us  404.37us  cuDeviceTotalMem\n",
            "                    0.04%  167.05us       101  1.6530us     131ns  71.960us  cuDeviceGetAttribute\n",
            "                    0.01%  30.250us         1  30.250us  30.250us  30.250us  cuDeviceGetName\n",
            "                    0.00%  6.9690us         1  6.9690us  6.9690us  6.9690us  cuDeviceGetPCIBusId\n",
            "                    0.00%  1.4170us         3     472ns     166ns     827ns  cuDeviceGetCount\n",
            "                    0.00%  1.2560us         2     628ns     190ns  1.0660us  cuDeviceGet\n",
            "                    0.00%     287ns         1     287ns     287ns     287ns  cuDeviceGetUuid\n"
          ]
        }
      ],
      "source": [
        "!nvprof ./lab3_ex2 1536 1536 1536 4096"
      ]
    },
    {
      "cell_type": "code",
      "execution_count": null,
      "metadata": {
        "id": "EcvHX5WFJ3oY",
        "colab": {
          "base_uri": "https://localhost:8080/"
        },
        "outputId": "86151ec3-14a7-4fab-f5da-583b3f306f4b"
      },
      "outputs": [
        {
          "output_type": "stream",
          "name": "stdout",
          "text": [
            "Input matrix dim (2048 x 2048) (2048 x 4096) (2048 x 4096)\n",
            "==3219== NVPROF is profiling process 3219, command: ./lab3_ex2 2048 2048 2048 4096\n",
            "Host -> Device: 0.023464\n",
            "Kernel: 0.265581\n",
            "Device->Host: 0.043010\n",
            "the commdan is correct==3219== Profiling application: ./lab3_ex2 2048 2048 2048 4096\n",
            "==3219== Profiling result:\n",
            "            Type  Time(%)      Time     Calls       Avg       Min       Max  Name\n",
            " GPU activities:   80.40%  265.42ms         1  265.42ms  265.42ms  265.42ms  gemm(double*, double*, double*, int, int, int, int)\n",
            "                   12.64%  41.727ms         1  41.727ms  41.727ms  41.727ms  [CUDA memcpy DtoH]\n",
            "                    6.96%  22.966ms         2  11.483ms  8.7994ms  14.166ms  [CUDA memcpy HtoD]\n",
            "      API calls:   47.91%  265.45ms         1  265.45ms  265.45ms  265.45ms  cudaDeviceSynchronize\n",
            "                   39.53%  218.98ms         3  72.993ms  143.70us  218.69ms  cudaMalloc\n",
            "                   12.00%  66.459ms         3  22.153ms  9.0881ms  43.005ms  cudaMemcpy\n",
            "                    0.40%  2.1981ms         3  732.69us  237.43us  1.1301ms  cudaFree\n",
            "                    0.10%  552.41us         1  552.41us  552.41us  552.41us  cuDeviceTotalMem\n",
            "                    0.04%  203.34us       101  2.0130us     144ns  92.313us  cuDeviceGetAttribute\n",
            "                    0.02%  123.38us         1  123.38us  123.38us  123.38us  cudaLaunchKernel\n",
            "                    0.01%  38.069us         1  38.069us  38.069us  38.069us  cuDeviceGetName\n",
            "                    0.00%  5.4370us         1  5.4370us  5.4370us  5.4370us  cuDeviceGetPCIBusId\n",
            "                    0.00%  2.2260us         3     742ns     306ns  1.1740us  cuDeviceGetCount\n",
            "                    0.00%  1.9730us         2     986ns     449ns  1.5240us  cuDeviceGet\n",
            "                    0.00%     318ns         1     318ns     318ns     318ns  cuDeviceGetUuid\n"
          ]
        }
      ],
      "source": [
        "!nvprof ./lab3_ex2 2048 2048 2048 4096"
      ]
    },
    {
      "cell_type": "code",
      "execution_count": null,
      "metadata": {
        "id": "q-TQ2Fw0eZS5",
        "colab": {
          "base_uri": "https://localhost:8080/"
        },
        "outputId": "69ce181b-9fae-4b16-afb3-2c67e55d8dde"
      },
      "outputs": [
        {
          "output_type": "stream",
          "name": "stdout",
          "text": [
            "Input matrix dim (128 x 128) (128 x 128) (128 x 128)\n",
            "==5548== NVPROF is profiling process 5548, command: ./lab3_ex2 128 128 128 128\n",
            "Host -> Device: 0.000111\n",
            "Kernel: 0.000162\n",
            "Device->Host: 0.000133\n",
            "the commdan is correct==5548== Profiling application: ./lab3_ex2 128 128 128 128\n",
            "==5548== Profiling result:\n",
            "            Type  Time(%)      Time     Calls       Avg       Min       Max  Name\n",
            " GPU activities:   74.66%  123.71us         1  123.71us  123.71us  123.71us  gemm(double*, double*, double*, int, int, int, int)\n",
            "                   17.84%  29.568us         2  14.784us  13.344us  16.224us  [CUDA memcpy HtoD]\n",
            "                    7.49%  12.416us         1  12.416us  12.416us  12.416us  [CUDA memcpy DtoH]\n",
            "      API calls:   99.45%  203.74ms         3  67.915ms  2.4890us  203.74ms  cudaMalloc\n",
            "                    0.20%  410.16us         1  410.16us  410.16us  410.16us  cuDeviceTotalMem\n",
            "                    0.12%  235.89us         3  78.629us  49.889us  131.59us  cudaMemcpy\n",
            "                    0.08%  155.74us       101  1.5410us     128ns  67.343us  cuDeviceGetAttribute\n",
            "                    0.07%  139.03us         3  46.342us  2.9230us  125.29us  cudaFree\n",
            "                    0.06%  125.80us         1  125.80us  125.80us  125.80us  cudaDeviceSynchronize\n",
            "                    0.02%  31.574us         1  31.574us  31.574us  31.574us  cudaLaunchKernel\n",
            "                    0.01%  29.780us         1  29.780us  29.780us  29.780us  cuDeviceGetName\n",
            "                    0.00%  5.1580us         1  5.1580us  5.1580us  5.1580us  cuDeviceGetPCIBusId\n",
            "                    0.00%  1.2620us         3     420ns     162ns     845ns  cuDeviceGetCount\n",
            "                    0.00%  1.1540us         2     577ns     205ns     949ns  cuDeviceGet\n",
            "                    0.00%     283ns         1     283ns     283ns     283ns  cuDeviceGetUuid\n"
          ]
        }
      ],
      "source": [
        "!nvprof ./lab3_ex2 128 128 128 128"
      ]
    },
    {
      "cell_type": "code",
      "execution_count": null,
      "metadata": {
        "id": "h6DW0_d88AWV",
        "colab": {
          "base_uri": "https://localhost:8080/"
        },
        "outputId": "fa61a043-6612-4a2b-9905-3390f05f4fa8"
      },
      "outputs": [
        {
          "output_type": "stream",
          "name": "stdout",
          "text": [
            "Input matrix dim (128 x 128) (128 x 128) (128 x 128)\n",
            "==PROF== Connected to process 5573 (/content/drive/MyDrive/lab3_ex2)\n",
            "Host -> Device: 0.000109\n",
            "==PROF== Profiling \"gemm\" - 1: 0%....50%....100% - 8 passes\n",
            "Kernel: 0.652660\n",
            "Device->Host: 0.000140\n",
            "the commdan is correct==PROF== Disconnected from process 5573\n",
            "[5573] lab3_ex2@127.0.0.1\n",
            "  gemm(double*, double*, double*, int, int, int, int), 2022-Dec-19 21:40:06, Context 1, Stream 7\n",
            "    Section: GPU Speed Of Light\n",
            "    ---------------------------------------------------------------------- --------------- ------------------------------\n",
            "    DRAM Frequency                                                           cycle/nsecond                           4.99\n",
            "    SM Frequency                                                             cycle/usecond                         584.27\n",
            "    Elapsed Cycles                                                                   cycle                         71,310\n",
            "    Memory [%]                                                                           %                           9.30\n",
            "    SOL DRAM                                                                             %                           1.16\n",
            "    Duration                                                                       usecond                         122.05\n",
            "    SOL L1/TEX Cache                                                                     %                          23.72\n",
            "    SOL L2 Cache                                                                         %                           1.14\n",
            "    SM Active Cycles                                                                 cycle                      27,952.33\n",
            "    SM [%]                                                                               %                          36.76\n",
            "    ---------------------------------------------------------------------- --------------- ------------------------------\n",
            "    WRN   This kernel grid is too small to fill the available resources on this device, resulting in only 0.4 full      \n",
            "          waves across all SMs. Look at Launch Statistics for more details.                                             \n",
            "\n",
            "    Section: Launch Statistics\n",
            "    ---------------------------------------------------------------------- --------------- ------------------------------\n",
            "    Block Size                                                                                                      1,024\n",
            "    Function Cache Configuration                                                                  cudaFuncCachePreferNone\n",
            "    Grid Size                                                                                                          16\n",
            "    Registers Per Thread                                                   register/thread                             62\n",
            "    Shared Memory Configuration Size                                                 Kbyte                          32.77\n",
            "    Driver Shared Memory Per Block                                              byte/block                              0\n",
            "    Dynamic Shared Memory Per Block                                             byte/block                              0\n",
            "    Static Shared Memory Per Block                                              byte/block                              0\n",
            "    Threads                                                                         thread                         16,384\n",
            "    Waves Per SM                                                                                                     0.40\n",
            "    ---------------------------------------------------------------------- --------------- ------------------------------\n",
            "    WRN   The grid for this launch is configured to execute only 16 blocks, which is less than the GPU's 40             \n",
            "          multiprocessors. This can underutilize some multiprocessors. If you do not intend to execute this kernel      \n",
            "          concurrently with other workloads, consider reducing the block size to have at least one block per            \n",
            "          multiprocessor or increase the size of the grid to fully utilize the available hardware resources.            \n",
            "\n",
            "    Section: Occupancy\n",
            "    ---------------------------------------------------------------------- --------------- ------------------------------\n",
            "    Block Limit SM                                                                   block                             16\n",
            "    Block Limit Registers                                                            block                              1\n",
            "    Block Limit Shared Mem                                                           block                             16\n",
            "    Block Limit Warps                                                                block                              1\n",
            "    Theoretical Active Warps per SM                                                   warp                             32\n",
            "    Theoretical Occupancy                                                                %                            100\n",
            "    Achieved Occupancy                                                                   %                          96.26\n",
            "    Achieved Active Warps Per SM                                                      warp                          30.80\n",
            "    ---------------------------------------------------------------------- --------------- ------------------------------\n",
            "\n"
          ]
        }
      ],
      "source": [
        "!/usr/local/cuda-11/bin/nv-nsight-cu-cli ./lab3_ex2 128 128 128 128"
      ]
    },
    {
      "cell_type": "code",
      "execution_count": null,
      "metadata": {
        "id": "TPj89-k880-T",
        "colab": {
          "base_uri": "https://localhost:8080/"
        },
        "outputId": "bc54fdce-1c52-4953-8725-f3f66e8283bb"
      },
      "outputs": [
        {
          "output_type": "stream",
          "name": "stdout",
          "text": [
            "Input matrix dim (511 x 1023) (1023 x 4094) (511 x 4094)\n",
            "==PROF== Connected to process 5601 (/content/drive/MyDrive/lab3_ex2)\n",
            "Host -> Device: 0.008090\n",
            "==PROF== Profiling \"gemm\" - 1: 0%....50%....100% - 8 passes\n",
            "Kernel: 1.030930\n",
            "Device->Host: 0.010659\n",
            "the commdan is correct==PROF== Disconnected from process 5601\n",
            "[5601] lab3_ex2@127.0.0.1\n",
            "  gemm(double*, double*, double*, int, int, int, int), 2022-Dec-19 21:40:45, Context 1, Stream 7\n",
            "    Section: GPU Speed Of Light\n",
            "    ---------------------------------------------------------------------- --------------- ------------------------------\n",
            "    DRAM Frequency                                                           cycle/nsecond                           5.00\n",
            "    SM Frequency                                                             cycle/usecond                         585.00\n",
            "    Elapsed Cycles                                                                   cycle                     28,107,463\n",
            "    Memory [%]                                                                           %                          25.31\n",
            "    SOL DRAM                                                                             %                           5.42\n",
            "    Duration                                                                       msecond                          48.05\n",
            "    SOL L1/TEX Cache                                                                     %                          50.62\n",
            "    SOL L2 Cache                                                                         %                           2.90\n",
            "    SM Active Cycles                                                                 cycle                  27,711,142.77\n",
            "    SM [%]                                                                               %                          95.22\n",
            "    ---------------------------------------------------------------------- --------------- ------------------------------\n",
            "    OK    The kernel is utilizing greater than 80.0% of the available compute or memory performance of the device. To   \n",
            "          further improve performance, work will likely need to be shifted from the most utilized to another unit.      \n",
            "          Start by analyzing workloads in the Compute Workload Analysis section.                                        \n",
            "\n",
            "    Section: Launch Statistics\n",
            "    ---------------------------------------------------------------------- --------------- ------------------------------\n",
            "    Block Size                                                                                                      1,024\n",
            "    Function Cache Configuration                                                                  cudaFuncCachePreferNone\n",
            "    Grid Size                                                                                                       2,048\n",
            "    Registers Per Thread                                                   register/thread                             62\n",
            "    Shared Memory Configuration Size                                                 Kbyte                          32.77\n",
            "    Driver Shared Memory Per Block                                              byte/block                              0\n",
            "    Dynamic Shared Memory Per Block                                             byte/block                              0\n",
            "    Static Shared Memory Per Block                                              byte/block                              0\n",
            "    Threads                                                                         thread                      2,097,152\n",
            "    Waves Per SM                                                                                                    51.20\n",
            "    ---------------------------------------------------------------------- --------------- ------------------------------\n",
            "\n",
            "    Section: Occupancy\n",
            "    ---------------------------------------------------------------------- --------------- ------------------------------\n",
            "    Block Limit SM                                                                   block                             16\n",
            "    Block Limit Registers                                                            block                              1\n",
            "    Block Limit Shared Mem                                                           block                             16\n",
            "    Block Limit Warps                                                                block                              1\n",
            "    Theoretical Active Warps per SM                                                   warp                             32\n",
            "    Theoretical Occupancy                                                                %                            100\n",
            "    Achieved Occupancy                                                                   %                          98.57\n",
            "    Achieved Active Warps Per SM                                                      warp                          31.54\n",
            "    ---------------------------------------------------------------------- --------------- ------------------------------\n",
            "\n"
          ]
        }
      ],
      "source": [
        "!/usr/local/cuda-11/bin/nv-nsight-cu-cli ./lab3_ex2 511 1023 1023 4094"
      ]
    },
    {
      "cell_type": "markdown",
      "metadata": {
        "id": "NHYQGp1TKdkq"
      },
      "source": [
        "float version"
      ]
    },
    {
      "cell_type": "code",
      "execution_count": null,
      "metadata": {
        "id": "PtDa_gO8KfMV"
      },
      "outputs": [],
      "source": [
        "!nvcc /content/drive/MyDrive/lab3_ex2f.cu -o lab3_ex2f"
      ]
    },
    {
      "cell_type": "code",
      "execution_count": null,
      "metadata": {
        "id": "i_RYop3cLqgM",
        "colab": {
          "base_uri": "https://localhost:8080/"
        },
        "outputId": "5e94b2d7-1bd0-4a13-d275-0eb04392e4ee"
      },
      "outputs": [
        {
          "output_type": "stream",
          "name": "stdout",
          "text": [
            "Input matrix dim (256 x 128) (128 x 4096) (256 x 4096)\n",
            "CPU Time: 0.872312\n",
            "==5814== NVPROF is profiling process 5814, command: ./lab3_ex2f 256 128 128 4096\n",
            "Host to Device Time: 0.000620\n",
            "CUDA Kernel Time: 0.000924\n",
            "Device to Host Time: 0.002665\n",
            "Results are equal.\n",
            "==5814== Profiling application: ./lab3_ex2f 256 128 128 4096\n",
            "==5814== Profiling result:\n",
            "            Type  Time(%)      Time     Calls       Avg       Min       Max  Name\n",
            " GPU activities:   55.21%  1.4742ms         1  1.4742ms  1.4742ms  1.4742ms  [CUDA memcpy DtoH]\n",
            "                   31.68%  846.01us         1  846.01us  846.01us  846.01us  gemm(float*, float*, float*, int, int, int, int)\n",
            "                   13.11%  350.01us         2  175.01us  15.871us  334.14us  [CUDA memcpy HtoD]\n",
            "      API calls:   98.00%  255.95ms         3  85.318ms  85.368us  255.77ms  cudaMalloc\n",
            "                    1.25%  3.2763ms         3  1.0921ms  58.086us  2.6639ms  cudaMemcpy\n",
            "                    0.34%  878.22us         1  878.22us  878.22us  878.22us  cudaDeviceSynchronize\n",
            "                    0.18%  463.08us         3  154.36us  136.72us  173.27us  cudaFree\n",
            "                    0.14%  363.48us         1  363.48us  363.48us  363.48us  cuDeviceTotalMem\n",
            "                    0.06%  153.86us       101  1.5230us     129ns  65.643us  cuDeviceGetAttribute\n",
            "                    0.02%  39.791us         1  39.791us  39.791us  39.791us  cudaLaunchKernel\n",
            "                    0.01%  28.505us         1  28.505us  28.505us  28.505us  cuDeviceGetName\n",
            "                    0.00%  5.6560us         1  5.6560us  5.6560us  5.6560us  cuDeviceGetPCIBusId\n",
            "                    0.00%  1.9840us         3     661ns     192ns  1.4910us  cuDeviceGetCount\n",
            "                    0.00%     932ns         2     466ns     221ns     711ns  cuDeviceGet\n",
            "                    0.00%     264ns         1     264ns     264ns     264ns  cuDeviceGetUuid\n"
          ]
        }
      ],
      "source": [
        "!nvprof ./lab3_ex2f 256 128 128 4096"
      ]
    },
    {
      "cell_type": "code",
      "execution_count": null,
      "metadata": {
        "id": "By2ZG0ikLwml",
        "colab": {
          "base_uri": "https://localhost:8080/"
        },
        "outputId": "b3d215da-4cd4-42a2-8301-231784957b06"
      },
      "outputs": [
        {
          "output_type": "stream",
          "name": "stdout",
          "text": [
            "Input matrix dim (511 x 1023) (1023 x 4094) (511 x 4094)\n",
            "CPU Time: 17.631169\n",
            "==5833== NVPROF is profiling process 5833, command: ./lab3_ex2f 511 1023 1023 4094\n",
            "Host to Device Time: 0.004097\n",
            "CUDA Kernel Time: 0.013702\n",
            "Device to Host Time: 0.006076\n",
            "Results are equal.\n",
            "==5833== Profiling application: ./lab3_ex2f 511 1023 1023 4094\n",
            "==5833== Profiling result:\n",
            "            Type  Time(%)      Time     Calls       Avg       Min       Max  Name\n",
            " GPU activities:   61.96%  13.618ms         1  13.618ms  13.618ms  13.618ms  gemm(float*, float*, float*, int, int, int, int)\n",
            "                   21.28%  4.6762ms         1  4.6762ms  4.6762ms  4.6762ms  [CUDA memcpy DtoH]\n",
            "                   16.76%  3.6841ms         2  1.8421ms  330.20us  3.3539ms  [CUDA memcpy HtoD]\n",
            "      API calls:   89.27%  212.02ms         3  70.672ms  89.821us  211.79ms  cudaMalloc\n",
            "                    5.75%  13.659ms         1  13.659ms  13.659ms  13.659ms  cudaDeviceSynchronize\n",
            "                    4.28%  10.162ms         3  3.3873ms  506.07us  6.0732ms  cudaMemcpy\n",
            "                    0.43%  1.0263ms         3  342.11us  138.31us  744.75us  cudaFree\n",
            "                    0.17%  395.77us         1  395.77us  395.77us  395.77us  cuDeviceTotalMem\n",
            "                    0.07%  161.67us       101  1.6000us     125ns  69.068us  cuDeviceGetAttribute\n",
            "                    0.02%  36.457us         1  36.457us  36.457us  36.457us  cudaLaunchKernel\n",
            "                    0.01%  28.865us         1  28.865us  28.865us  28.865us  cuDeviceGetName\n",
            "                    0.00%  6.0700us         1  6.0700us  6.0700us  6.0700us  cuDeviceGetPCIBusId\n",
            "                    0.00%  1.7000us         3     566ns     235ns  1.1740us  cuDeviceGetCount\n",
            "                    0.00%  1.5400us         2     770ns     350ns  1.1900us  cuDeviceGet\n",
            "                    0.00%     270ns         1     270ns     270ns     270ns  cuDeviceGetUuid\n"
          ]
        }
      ],
      "source": [
        "!nvprof ./lab3_ex2f 511 1023 1023 4094"
      ]
    },
    {
      "cell_type": "code",
      "execution_count": null,
      "metadata": {
        "id": "vspU1ee_L3Pi",
        "colab": {
          "base_uri": "https://localhost:8080/"
        },
        "outputId": "c9c85c4b-8124-4696-a802-07b8de948dbc"
      },
      "outputs": [
        {
          "output_type": "stream",
          "name": "stdout",
          "text": [
            "Input matrix dim (768 x 1024) (1024 x 4096) (768 x 4096)\n",
            "CPU Time: 37.628421\n",
            "==5924== NVPROF is profiling process 5924, command: ./lab3_ex2f 768 1024 1024 4096\n",
            "Host to Device Time: 0.004512\n",
            "CUDA Kernel Time: 0.020101\n",
            "Device to Host Time: 0.008271\n",
            "Results are equal.\n",
            "==5924== Profiling application: ./lab3_ex2f 768 1024 1024 4096\n",
            "==5924== Profiling result:\n",
            "            Type  Time(%)      Time     Calls       Avg       Min       Max  Name\n",
            " GPU activities:   64.35%  20.023ms         1  20.023ms  20.023ms  20.023ms  gemm(float*, float*, float*, int, int, int, int)\n",
            "                   22.63%  7.0422ms         1  7.0422ms  7.0422ms  7.0422ms  [CUDA memcpy DtoH]\n",
            "                   13.02%  4.0515ms         2  2.0258ms  559.16us  3.4924ms  [CUDA memcpy HtoD]\n",
            "      API calls:   85.81%  208.75ms         3  69.583ms  95.809us  208.54ms  cudaMalloc\n",
            "                    8.25%  20.058ms         1  20.058ms  20.058ms  20.058ms  cudaDeviceSynchronize\n",
            "                    5.25%  12.772ms         3  4.2574ms  772.95us  8.2697ms  cudaMemcpy\n",
            "                    0.45%  1.1021ms         3  367.36us  142.77us  740.39us  cudaFree\n",
            "                    0.14%  343.95us         1  343.95us  343.95us  343.95us  cuDeviceTotalMem\n",
            "                    0.07%  163.04us       101  1.6140us     126ns  71.650us  cuDeviceGetAttribute\n",
            "                    0.01%  36.463us         1  36.463us  36.463us  36.463us  cudaLaunchKernel\n",
            "                    0.01%  29.299us         1  29.299us  29.299us  29.299us  cuDeviceGetName\n",
            "                    0.00%  6.1970us         1  6.1970us  6.1970us  6.1970us  cuDeviceGetPCIBusId\n",
            "                    0.00%  1.8240us         3     608ns     212ns  1.2120us  cuDeviceGetCount\n",
            "                    0.00%  1.1810us         2     590ns     182ns     999ns  cuDeviceGet\n",
            "                    0.00%     275ns         1     275ns     275ns     275ns  cuDeviceGetUuid\n"
          ]
        }
      ],
      "source": [
        "!nvprof ./lab3_ex2f 768 1024 1024 4096"
      ]
    },
    {
      "cell_type": "code",
      "execution_count": null,
      "metadata": {
        "id": "QZPD3g_xL96b",
        "colab": {
          "base_uri": "https://localhost:8080/"
        },
        "outputId": "240df630-3eec-4a06-bed2-1c47181ffc16"
      },
      "outputs": [
        {
          "output_type": "stream",
          "name": "stdout",
          "text": [
            "Input matrix dim (1024 x 1024) (1024 x 4096) (1024 x 4096)\n",
            "CPU Time: 47.488692\n",
            "==6105== NVPROF is profiling process 6105, command: ./lab3_ex2f 1024 1024 1024 4096\n",
            "Host to Device Time: 0.004629\n",
            "CUDA Kernel Time: 0.026791\n",
            "Device to Host Time: 0.010640\n",
            "Results are equal.\n",
            "==6105== Profiling application: ./lab3_ex2f 1024 1024 1024 4096\n",
            "==6105== Profiling result:\n",
            "            Type  Time(%)      Time     Calls       Avg       Min       Max  Name\n",
            " GPU activities:   66.32%  26.710ms         1  26.710ms  26.710ms  26.710ms  gemm(float*, float*, float*, int, int, int, int)\n",
            "                   23.28%  9.3766ms         1  9.3766ms  9.3766ms  9.3766ms  [CUDA memcpy DtoH]\n",
            "                   10.40%  4.1891ms         2  2.0946ms  804.85us  3.3843ms  [CUDA memcpy HtoD]\n",
            "      API calls:   83.02%  214.00ms         3  71.332ms  94.210us  213.79ms  cudaMalloc\n",
            "                   10.38%  26.750ms         1  26.750ms  26.750ms  26.750ms  cudaDeviceSynchronize\n",
            "                    5.92%  15.260ms         3  5.0868ms  1.0085ms  10.639ms  cudaMemcpy\n",
            "                    0.44%  1.1343ms         3  378.10us  170.86us  744.89us  cudaFree\n",
            "                    0.15%  392.24us         1  392.24us  392.24us  392.24us  cuDeviceTotalMem\n",
            "                    0.07%  168.53us       101  1.6680us     129ns  70.233us  cuDeviceGetAttribute\n",
            "                    0.01%  36.267us         1  36.267us  36.267us  36.267us  cudaLaunchKernel\n",
            "                    0.01%  28.507us         1  28.507us  28.507us  28.507us  cuDeviceGetName\n",
            "                    0.00%  5.3200us         1  5.3200us  5.3200us  5.3200us  cuDeviceGetPCIBusId\n",
            "                    0.00%  1.6200us         3     540ns     224ns  1.0830us  cuDeviceGetCount\n",
            "                    0.00%  1.3040us         2     652ns     431ns     873ns  cuDeviceGet\n",
            "                    0.00%     347ns         1     347ns     347ns     347ns  cuDeviceGetUuid\n"
          ]
        }
      ],
      "source": [
        "!nvprof ./lab3_ex2f 1024 1024 1024 4096"
      ]
    },
    {
      "cell_type": "code",
      "execution_count": null,
      "metadata": {
        "id": "fkdNr4nBMFSi",
        "colab": {
          "base_uri": "https://localhost:8080/"
        },
        "outputId": "b53923cd-5cb2-44e3-894d-49b7905d6a13"
      },
      "outputs": [
        {
          "output_type": "stream",
          "name": "stdout",
          "text": [
            "Input matrix dim (1536 x 1536) (1536 x 4096) (1536 x 4096)\n",
            "CPU Time: 130.205985\n",
            "==6318== NVPROF is profiling process 6318, command: ./lab3_ex2f 1536 1536 1536 4096\n",
            "Host to Device Time: 0.007799\n",
            "CUDA Kernel Time: 0.059808\n",
            "Device to Host Time: 0.016003\n",
            "Results are equal.\n",
            "==6318== Profiling application: ./lab3_ex2f 1536 1536 1536 4096\n",
            "==6318== Profiling result:\n",
            "            Type  Time(%)      Time     Calls       Avg       Min       Max  Name\n",
            " GPU activities:   73.05%  59.726ms         1  59.726ms  59.726ms  59.726ms  gemm(float*, float*, float*, int, int, int, int)\n",
            "                   18.00%  14.715ms         1  14.715ms  14.715ms  14.715ms  [CUDA memcpy DtoH]\n",
            "                    8.96%  7.3232ms         2  3.6616ms  2.2427ms  5.0805ms  [CUDA memcpy HtoD]\n",
            "      API calls:   71.25%  212.93ms         3  70.978ms  109.60us  212.70ms  cudaMalloc\n",
            "                   20.00%  59.764ms         1  59.764ms  59.764ms  59.764ms  cudaDeviceSynchronize\n",
            "                    7.96%  23.790ms         3  7.9299ms  2.4745ms  16.001ms  cudaMemcpy\n",
            "                    0.58%  1.7479ms         3  582.63us  173.40us  1.0802ms  cudaFree\n",
            "                    0.12%  372.08us         1  372.08us  372.08us  372.08us  cuDeviceTotalMem\n",
            "                    0.05%  163.20us       101  1.6150us     127ns  69.962us  cuDeviceGetAttribute\n",
            "                    0.01%  38.313us         1  38.313us  38.313us  38.313us  cudaLaunchKernel\n",
            "                    0.01%  29.257us         1  29.257us  29.257us  29.257us  cuDeviceGetName\n",
            "                    0.00%  5.2090us         1  5.2090us  5.2090us  5.2090us  cuDeviceGetPCIBusId\n",
            "                    0.00%  1.5290us         3     509ns     144ns  1.0560us  cuDeviceGetCount\n",
            "                    0.00%  1.2260us         2     613ns     215ns  1.0110us  cuDeviceGet\n",
            "                    0.00%     279ns         1     279ns     279ns     279ns  cuDeviceGetUuid\n"
          ]
        }
      ],
      "source": [
        "!nvprof ./lab3_ex2f 1536 1536 1536 4096"
      ]
    },
    {
      "cell_type": "code",
      "execution_count": null,
      "metadata": {
        "id": "QOIjhC2DMNi5",
        "colab": {
          "base_uri": "https://localhost:8080/"
        },
        "outputId": "67e175b8-f4bd-4fd8-c406-98f12c9ccbf9"
      },
      "outputs": [
        {
          "output_type": "stream",
          "name": "stdout",
          "text": [
            "Input matrix dim (2048 x 2048) (2048 x 4096) (2048 x 4096)\n",
            "CPU Time: 455.014266\n",
            "==6885== NVPROF is profiling process 6885, command: ./lab3_ex2f 2048 2048 2048 4096\n",
            "Host to Device Time: 0.011806\n",
            "CUDA Kernel Time: 0.105967\n",
            "Device to Host Time: 0.024013\n",
            "Results are equal.\n",
            "==6885== Profiling application: ./lab3_ex2f 2048 2048 2048 4096\n",
            "==6885== Profiling result:\n",
            "            Type  Time(%)      Time     Calls       Avg       Min       Max  Name\n",
            " GPU activities:   75.74%  105.88ms         1  105.88ms  105.88ms  105.88ms  gemm(float*, float*, float*, int, int, int, int)\n",
            "                   16.15%  22.583ms         1  22.583ms  22.583ms  22.583ms  [CUDA memcpy DtoH]\n",
            "                    8.11%  11.333ms         2  5.6663ms  4.1246ms  7.2080ms  [CUDA memcpy HtoD]\n",
            "      API calls:   65.65%  276.54ms         3  92.179ms  169.90us  276.16ms  cudaMalloc\n",
            "                   25.14%  105.89ms         1  105.89ms  105.89ms  105.89ms  cudaDeviceSynchronize\n",
            "                    8.50%  35.806ms         3  11.935ms  4.3430ms  24.011ms  cudaMemcpy\n",
            "                    0.52%  2.1826ms         3  727.55us  227.88us  1.1177ms  cudaFree\n",
            "                    0.13%  528.62us         1  528.62us  528.62us  528.62us  cuDeviceTotalMem\n",
            "                    0.05%  212.01us       101  2.0990us     262ns  86.670us  cuDeviceGetAttribute\n",
            "                    0.01%  44.148us         1  44.148us  44.148us  44.148us  cudaLaunchKernel\n",
            "                    0.01%  41.182us         1  41.182us  41.182us  41.182us  cuDeviceGetName\n",
            "                    0.00%  6.6620us         1  6.6620us  6.6620us  6.6620us  cuDeviceGetPCIBusId\n",
            "                    0.00%  1.8150us         3     605ns     278ns  1.1880us  cuDeviceGetCount\n",
            "                    0.00%  1.2570us         2     628ns     313ns     944ns  cuDeviceGet\n",
            "                    0.00%     395ns         1     395ns     395ns     395ns  cuDeviceGetUuid\n"
          ]
        }
      ],
      "source": [
        "!nvprof ./lab3_ex2f 2048 2048 2048 4096"
      ]
    }
  ],
  "metadata": {
    "accelerator": "GPU",
    "colab": {
      "provenance": [],
      "include_colab_link": true
    },
    "gpuClass": "standard",
    "kernelspec": {
      "display_name": "Python 3",
      "name": "python3"
    },
    "language_info": {
      "name": "python"
    }
  },
  "nbformat": 4,
  "nbformat_minor": 0
}