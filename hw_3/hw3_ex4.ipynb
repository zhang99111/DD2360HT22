{
  "nbformat": 4,
  "nbformat_minor": 0,
  "metadata": {
    "colab": {
      "provenance": []
    },
    "kernelspec": {
      "name": "python3",
      "display_name": "Python 3"
    },
    "language_info": {
      "name": "python"
    },
    "gpuClass": "standard",
    "accelerator": "GPU"
  },
  "cells": [
    {
      "cell_type": "code",
      "execution_count": null,
      "metadata": {
        "colab": {
          "base_uri": "https://localhost:8080/"
        },
        "id": "AhbBgW4qjrdk",
        "outputId": "488fd94e-41fc-4f83-af08-9a31ffe61f52"
      },
      "outputs": [
        {
          "output_type": "stream",
          "name": "stdout",
          "text": [
            "Drive already mounted at /content/drive; to attempt to forcibly remount, call drive.mount(\"/content/drive\", force_remount=True).\n",
            "/content/drive/MyDrive\n"
          ]
        }
      ],
      "source": [
        "from google.colab import drive\n",
        "drive.mount('/content/drive')\n",
        "%cd '/content/drive/MyDrive'"
      ]
    },
    {
      "cell_type": "code",
      "source": [
        "!ls '/content/drive/MyDrive/sputniPIC-DD2360-master'"
      ],
      "metadata": {
        "colab": {
          "base_uri": "https://localhost:8080/"
        },
        "id": "RiLNc7aSAYP_",
        "outputId": "a98ed611-5564-44e9-d536-10acef767230"
      },
      "execution_count": null,
      "outputs": [
        {
          "output_type": "stream",
          "name": "stdout",
          "text": [
            "bin  include  inputfiles  Makefile  src\n"
          ]
        }
      ]
    },
    {
      "cell_type": "code",
      "source": [
        "%cd '/content/drive/MyDrive/sputniPIC-DD2360-master'"
      ],
      "metadata": {
        "colab": {
          "base_uri": "https://localhost:8080/"
        },
        "id": "kF1BC4tjAbmx",
        "outputId": "b1cae2d1-dd2f-49da-d612-bc673bb8a8a1"
      },
      "execution_count": null,
      "outputs": [
        {
          "output_type": "stream",
          "name": "stdout",
          "text": [
            "/content/drive/MyDrive/sputniPIC-DD2360-master\n"
          ]
        }
      ]
    },
    {
      "cell_type": "code",
      "source": [
        "! make all "
      ],
      "metadata": {
        "colab": {
          "base_uri": "https://localhost:8080/"
        },
        "id": "rM_Tja6gAl-W",
        "outputId": "698f46b9-4af3-4788-87fb-6a595473b877"
      },
      "execution_count": null,
      "outputs": [
        {
          "output_type": "stream",
          "name": "stdout",
          "text": [
            "nvcc -I./include -arch=sm_75 -std=c++11 -O3 -g -Xcompiler -Wall --compiler-bindir=g++ src/Particles.cu -c -o src/Particles.o\n",
            "\u001b[01m\u001b[Ksrc/Particles.cu:\u001b[m\u001b[K In function ‘\u001b[01m\u001b[Kint mover_PC(particles*, EMfield*, grid*, parameters*)\u001b[m\u001b[K’:\n",
            "\u001b[01m\u001b[Ksrc/Particles.cu:162:38:\u001b[m\u001b[K \u001b[01;35m\u001b[Kwarning: \u001b[m\u001b[K‘\u001b[01m\u001b[Kwptilde\u001b[m\u001b[K’ may be used uninitialized in this function [\u001b[01;35m\u001b[K-Wmaybe-uninitialized\u001b[m\u001b[K]\n",
            "             part->z[i] = zpt\u001b[01;35m\u001b[Kilde + wptilde*dt_sub_cycl\u001b[m\u001b[King;\n",
            "                             \u001b[01;35m\u001b[K~~~~~~~~~^~~~~~~~~~~~~~~~~\u001b[m\u001b[K\n",
            "\u001b[01m\u001b[Ksrc/Particles.cu:158:26:\u001b[m\u001b[K \u001b[01;35m\u001b[Kwarning: \u001b[m\u001b[K‘\u001b[01m\u001b[Kvptilde\u001b[m\u001b[K’ may be used uninitialized in this function [\u001b[01;35m\u001b[K-Wmaybe-uninitialized\u001b[m\u001b[K]\n",
            "             part->\u001b[01;35m\u001b[Kv[i]= 2.0*vptilde\u001b[m\u001b[K - part->v[i];\n",
            "                   \u001b[01;35m\u001b[K~~~~~~~^~~~~~~~~~\u001b[m\u001b[K\n",
            "\u001b[01m\u001b[Ksrc/Particles.cu:157:26:\u001b[m\u001b[K \u001b[01;35m\u001b[Kwarning: \u001b[m\u001b[K‘\u001b[01m\u001b[Kuptilde\u001b[m\u001b[K’ may be used uninitialized in this function [\u001b[01;35m\u001b[K-Wmaybe-uninitialized\u001b[m\u001b[K]\n",
            "             part->\u001b[01;35m\u001b[Ku[i]= 2.0*uptilde\u001b[m\u001b[K - part->u[i];\n",
            "                   \u001b[01;35m\u001b[K~~~~~~~^~~~~~~~~~\u001b[m\u001b[K\n",
            "nvcc -I./include -arch=sm_75 -std=c++11 -O3 -g -Xcompiler -Wall --compiler-bindir=g++ src/Basic.o src/TransArraySpace3D.o src/InterpDensNet.o src/ConfigFile.o src/EMfield.o src/Particles_aux.o src/Timing.o src/EMfield_aux.o src/RW_IO.o src/Grid.o src/BC.o src/InterpDensSpecies.o src/sputniPIC.o src/Particles.o -o bin/sputniPIC.out\n"
          ]
        }
      ]
    },
    {
      "cell_type": "code",
      "source": [
        "!ls '/content/drive/MyDrive/sputniPIC-DD2360-master/bin'"
      ],
      "metadata": {
        "colab": {
          "base_uri": "https://localhost:8080/"
        },
        "id": "hdg8lRNvC_9D",
        "outputId": "700088fe-d16a-41f0-fb2a-8a232c1c544c"
      },
      "execution_count": null,
      "outputs": [
        {
          "output_type": "stream",
          "name": "stdout",
          "text": [
            "sputniPIC.out\n"
          ]
        }
      ]
    },
    {
      "cell_type": "code",
      "source": [
        "!./bin/sputniPIC.out inputfiles/GEM_2D.inp"
      ],
      "metadata": {
        "colab": {
          "base_uri": "https://localhost:8080/"
        },
        "id": "wOJ3-5IwCz4E",
        "outputId": "c4de0a7f-cbee-4c91-fd3a-196f6ff915d7"
      },
      "execution_count": null,
      "outputs": [
        {
          "output_type": "stream",
          "name": "stdout",
          "text": [
            "\n",
            "-------------------------\n",
            "sputniPIC Sim. Parameters\n",
            "-------------------------\n",
            "Number of species    = 4\n",
            "Number of particles of species 0 = 4096000\t (MAX = 4096000)  QOM = -64\n",
            "Number of particles of species 1 = 4096000\t (MAX = 4096000)  QOM = 1\n",
            "Number of particles of species 2 = 4096000\t (MAX = 4096000)  QOM = -64\n",
            "Number of particles of species 3 = 4096000\t (MAX = 4096000)  QOM = 1\n",
            "x-Length                 = 40\n",
            "y-Length                 = 20\n",
            "z-Length                 = 1\n",
            "Number of cells (x)      = 256\n",
            "Number of cells (y)      = 128\n",
            "Number of cells (z)      = 1\n",
            "Time step                = 0.25\n",
            "Number of cycles         = 10\n",
            "Results saved in: data\n",
            "*************************************************\n",
            "**  Initialize GEM Challenge with Pertubation  **\n",
            "*************************************************\n",
            "** B0x = 0.0195\n",
            "** B0y = 0\n",
            "** B0z = 0\n",
            "** Delta (current sheet thickness) = 0.5\n",
            "** rho species 0 = 1 CURRENT SHEET \n",
            "** rho species 1 = 1 CURRENT SHEET \n",
            "** rho species 2 = 0.02 BACKGROUND \n",
            "** rho species 3 = 0.02 BACKGROUND \n",
            "*************************************************\n",
            "\n",
            "***********************\n",
            "   cycle = 1\n",
            "***********************\n",
            "***  MOVER with SUBCYCLYING(gpu  version) 1 - species 0 ***\n",
            "***  MOVER with SUBCYCLYING(gpu  version) 1 - species 1 ***\n",
            "***  MOVER with SUBCYCLYING(gpu  version) 1 - species 2 ***\n",
            "***  MOVER with SUBCYCLYING(gpu  version) 1 - species 3 ***\n",
            "\n",
            "***********************\n",
            "   cycle = 2\n",
            "***********************\n",
            "***  MOVER with SUBCYCLYING(gpu  version) 1 - species 0 ***\n",
            "***  MOVER with SUBCYCLYING(gpu  version) 1 - species 1 ***\n",
            "***  MOVER with SUBCYCLYING(gpu  version) 1 - species 2 ***\n",
            "***  MOVER with SUBCYCLYING(gpu  version) 1 - species 3 ***\n",
            "\n",
            "***********************\n",
            "   cycle = 3\n",
            "***********************\n",
            "***  MOVER with SUBCYCLYING(gpu  version) 1 - species 0 ***\n",
            "***  MOVER with SUBCYCLYING(gpu  version) 1 - species 1 ***\n",
            "***  MOVER with SUBCYCLYING(gpu  version) 1 - species 2 ***\n",
            "***  MOVER with SUBCYCLYING(gpu  version) 1 - species 3 ***\n",
            "\n",
            "***********************\n",
            "   cycle = 4\n",
            "***********************\n",
            "***  MOVER with SUBCYCLYING(gpu  version) 1 - species 0 ***\n",
            "***  MOVER with SUBCYCLYING(gpu  version) 1 - species 1 ***\n",
            "***  MOVER with SUBCYCLYING(gpu  version) 1 - species 2 ***\n",
            "***  MOVER with SUBCYCLYING(gpu  version) 1 - species 3 ***\n",
            "\n",
            "***********************\n",
            "   cycle = 5\n",
            "***********************\n",
            "***  MOVER with SUBCYCLYING(gpu  version) 1 - species 0 ***\n",
            "***  MOVER with SUBCYCLYING(gpu  version) 1 - species 1 ***\n",
            "***  MOVER with SUBCYCLYING(gpu  version) 1 - species 2 ***\n",
            "***  MOVER with SUBCYCLYING(gpu  version) 1 - species 3 ***\n",
            "\n",
            "***********************\n",
            "   cycle = 6\n",
            "***********************\n",
            "***  MOVER with SUBCYCLYING(gpu  version) 1 - species 0 ***\n",
            "***  MOVER with SUBCYCLYING(gpu  version) 1 - species 1 ***\n",
            "***  MOVER with SUBCYCLYING(gpu  version) 1 - species 2 ***\n",
            "***  MOVER with SUBCYCLYING(gpu  version) 1 - species 3 ***\n",
            "\n",
            "***********************\n",
            "   cycle = 7\n",
            "***********************\n",
            "***  MOVER with SUBCYCLYING(gpu  version) 1 - species 0 ***\n",
            "***  MOVER with SUBCYCLYING(gpu  version) 1 - species 1 ***\n",
            "***  MOVER with SUBCYCLYING(gpu  version) 1 - species 2 ***\n",
            "***  MOVER with SUBCYCLYING(gpu  version) 1 - species 3 ***\n",
            "\n",
            "***********************\n",
            "   cycle = 8\n",
            "***********************\n",
            "***  MOVER with SUBCYCLYING(gpu  version) 1 - species 0 ***\n",
            "***  MOVER with SUBCYCLYING(gpu  version) 1 - species 1 ***\n",
            "***  MOVER with SUBCYCLYING(gpu  version) 1 - species 2 ***\n",
            "***  MOVER with SUBCYCLYING(gpu  version) 1 - species 3 ***\n",
            "\n",
            "***********************\n",
            "   cycle = 9\n",
            "***********************\n",
            "***  MOVER with SUBCYCLYING(gpu  version) 1 - species 0 ***\n",
            "***  MOVER with SUBCYCLYING(gpu  version) 1 - species 1 ***\n",
            "***  MOVER with SUBCYCLYING(gpu  version) 1 - species 2 ***\n",
            "***  MOVER with SUBCYCLYING(gpu  version) 1 - species 3 ***\n",
            "\n",
            "***********************\n",
            "   cycle = 10\n",
            "***********************\n",
            "***  MOVER with SUBCYCLYING(gpu  version) 1 - species 0 ***\n",
            "***  MOVER with SUBCYCLYING(gpu  version) 1 - species 1 ***\n",
            "***  MOVER with SUBCYCLYING(gpu  version) 1 - species 2 ***\n",
            "***  MOVER with SUBCYCLYING(gpu  version) 1 - species 3 ***\n",
            "Opening file: ./data/E_10.vtk\n",
            "Opening file: ./data/B_10.vtk\n",
            "Opening file: ./data/rhoe_10.vtk\n",
            "Opening file: ./data/rhoi_10.vtk\n",
            "Opening file: ./data/rho_net_10.vtk\n",
            "\n",
            "**************************************\n",
            "   Tot. Simulation Time (s) = 29.2111\n",
            "   Mover Time / Cycle   (s) = 0.0983793\n",
            "   Interp. Time / Cycle (s) = 2.40876\n",
            "**************************************\n"
          ]
        }
      ]
    },
    {
      "cell_type": "markdown",
      "source": [
        "original version"
      ],
      "metadata": {
        "id": "V02AjLjzfHNI"
      }
    },
    {
      "cell_type": "code",
      "source": [
        "from google.colab import drive\n",
        "drive.mount('/content/drive')\n",
        "%cd '/content/drive/MyDrive'"
      ],
      "metadata": {
        "colab": {
          "base_uri": "https://localhost:8080/"
        },
        "id": "EUEmNnRufJ3f",
        "outputId": "65795506-118b-4e7f-f3dd-76b8b2e1a5a0"
      },
      "execution_count": null,
      "outputs": [
        {
          "output_type": "stream",
          "name": "stdout",
          "text": [
            "Drive already mounted at /content/drive; to attempt to forcibly remount, call drive.mount(\"/content/drive\", force_remount=True).\n",
            "/content/drive/MyDrive\n"
          ]
        }
      ]
    },
    {
      "cell_type": "code",
      "source": [
        "%cd '/content/drive/MyDrive/sputniPIC-DD2360-master-original'"
      ],
      "metadata": {
        "colab": {
          "base_uri": "https://localhost:8080/"
        },
        "id": "t8TxbbLRfbGR",
        "outputId": "a59302b3-5a56-4820-8d0a-5476ef4eb83c"
      },
      "execution_count": null,
      "outputs": [
        {
          "output_type": "stream",
          "name": "stdout",
          "text": [
            "/content/drive/MyDrive/sputniPIC-DD2360-master-original\n"
          ]
        }
      ]
    },
    {
      "cell_type": "code",
      "source": [
        "! make clean\n",
        "! make all "
      ],
      "metadata": {
        "colab": {
          "base_uri": "https://localhost:8080/"
        },
        "id": "hSrVltGNfgPI",
        "outputId": "510d8dc3-61aa-4d69-b81b-782056684f3d"
      },
      "execution_count": null,
      "outputs": [
        {
          "output_type": "stream",
          "name": "stdout",
          "text": [
            "rm -rf  src/Particles.o src/Basic.o src/EMfield.o src/BC.o src/TransArraySpace3D.o src/RW_IO.o src/EMfield_aux.o src/Grid.o src/Particles_aux.o src/Timing.o src/sputniPIC.o src/ConfigFile.o src/InterpDensNet.o src/InterpDensSpecies.o\n",
            "rm -rf sputniPIC.out\n",
            "mkdir -p ./bin\n",
            "nvcc -I./include -arch=sm_75 -std=c++11 -O3 -g -Xcompiler -Wall --compiler-bindir=g++ src/Particles.cu -c -o src/Particles.o\n",
            "\u001b[01m\u001b[Ksrc/Particles.cu:\u001b[m\u001b[K In function ‘\u001b[01m\u001b[Kint mover_PC(particles*, EMfield*, grid*, parameters*)\u001b[m\u001b[K’:\n",
            "\u001b[01m\u001b[Ksrc/Particles.cu:162:38:\u001b[m\u001b[K \u001b[01;35m\u001b[Kwarning: \u001b[m\u001b[K‘\u001b[01m\u001b[Kwptilde\u001b[m\u001b[K’ may be used uninitialized in this function [\u001b[01;35m\u001b[K-Wmaybe-uninitialized\u001b[m\u001b[K]\n",
            "             part->z[i] = zpt\u001b[01;35m\u001b[Kilde + wptilde*dt_sub_cycl\u001b[m\u001b[King;\n",
            "                             \u001b[01;35m\u001b[K~~~~~~~~~^~~~~~~~~~~~~~~~~\u001b[m\u001b[K\n",
            "\u001b[01m\u001b[Ksrc/Particles.cu:158:26:\u001b[m\u001b[K \u001b[01;35m\u001b[Kwarning: \u001b[m\u001b[K‘\u001b[01m\u001b[Kvptilde\u001b[m\u001b[K’ may be used uninitialized in this function [\u001b[01;35m\u001b[K-Wmaybe-uninitialized\u001b[m\u001b[K]\n",
            "             part->\u001b[01;35m\u001b[Kv[i]= 2.0*vptilde\u001b[m\u001b[K - part->v[i];\n",
            "                   \u001b[01;35m\u001b[K~~~~~~~^~~~~~~~~~\u001b[m\u001b[K\n",
            "\u001b[01m\u001b[Ksrc/Particles.cu:157:26:\u001b[m\u001b[K \u001b[01;35m\u001b[Kwarning: \u001b[m\u001b[K‘\u001b[01m\u001b[Kuptilde\u001b[m\u001b[K’ may be used uninitialized in this function [\u001b[01;35m\u001b[K-Wmaybe-uninitialized\u001b[m\u001b[K]\n",
            "             part->\u001b[01;35m\u001b[Ku[i]= 2.0*uptilde\u001b[m\u001b[K - part->u[i];\n",
            "                   \u001b[01;35m\u001b[K~~~~~~~^~~~~~~~~~\u001b[m\u001b[K\n",
            "[ -d src ] || mkdir src\n",
            "nvcc -std=c++11 -I./include -O3 -g -Xcompiler -Wall src/Basic.cpp -c -o src/Basic.o\n",
            "[ -d src ] || mkdir src\n",
            "nvcc -std=c++11 -I./include -O3 -g -Xcompiler -Wall src/EMfield.cpp -c -o src/EMfield.o\n",
            "[ -d src ] || mkdir src\n",
            "nvcc -std=c++11 -I./include -O3 -g -Xcompiler -Wall src/BC.cpp -c -o src/BC.o\n",
            "[ -d src ] || mkdir src\n",
            "nvcc -std=c++11 -I./include -O3 -g -Xcompiler -Wall src/TransArraySpace3D.cpp -c -o src/TransArraySpace3D.o\n",
            "[ -d src ] || mkdir src\n",
            "nvcc -std=c++11 -I./include -O3 -g -Xcompiler -Wall src/RW_IO.cpp -c -o src/RW_IO.o\n",
            "[ -d src ] || mkdir src\n",
            "nvcc -std=c++11 -I./include -O3 -g -Xcompiler -Wall src/EMfield_aux.cpp -c -o src/EMfield_aux.o\n",
            "[ -d src ] || mkdir src\n",
            "nvcc -std=c++11 -I./include -O3 -g -Xcompiler -Wall src/Grid.cpp -c -o src/Grid.o\n",
            "[ -d src ] || mkdir src\n",
            "nvcc -std=c++11 -I./include -O3 -g -Xcompiler -Wall src/Particles_aux.cpp -c -o src/Particles_aux.o\n",
            "\u001b[01m\u001b[Ksrc/Particles_aux.cpp:\u001b[m\u001b[K In function ‘\u001b[01m\u001b[Kvoid particle_aux_allocate(particles*, particles_aux*, int)\u001b[m\u001b[K’:\n",
            "\u001b[01m\u001b[Ksrc/Particles_aux.cpp:14:10:\u001b[m\u001b[K \u001b[01;35m\u001b[Kwarning: \u001b[m\u001b[Kunused variable ‘\u001b[01m\u001b[Knpmax\u001b[m\u001b[K’ [\u001b[01;35m\u001b[K-Wunused-variable\u001b[m\u001b[K]\n",
            "     long \u001b[01;35m\u001b[Knpmax\u001b[m\u001b[K = part->npmax;\n",
            "          \u001b[01;35m\u001b[K^~~~~\u001b[m\u001b[K\n",
            "[ -d src ] || mkdir src\n",
            "nvcc -std=c++11 -I./include -O3 -g -Xcompiler -Wall src/Timing.cpp -c -o src/Timing.o\n",
            "[ -d src ] || mkdir src\n",
            "nvcc -std=c++11 -I./include -O3 -g -Xcompiler -Wall src/sputniPIC.cpp -c -o src/sputniPIC.o\n",
            "In file included from \u001b[01m\u001b[Ksrc/sputniPIC.cpp:25:0\u001b[m\u001b[K:\n",
            "\u001b[01m\u001b[K./include/IC.h:\u001b[m\u001b[K In function ‘\u001b[01m\u001b[Kvoid initGEM(parameters*, grid*, EMfield*, EMfield_aux*, particles*, interpDensSpecies*)\u001b[m\u001b[K’:\n",
            "\u001b[01m\u001b[K./include/IC.h:82:25:\u001b[m\u001b[K \u001b[01;35m\u001b[Kwarning: \u001b[m\u001b[Kunused variable ‘\u001b[01m\u001b[Ksign\u001b[m\u001b[K’ [\u001b[01;35m\u001b[K-Wunused-variable\u001b[m\u001b[K]\n",
            "     double prob, theta, \u001b[01;35m\u001b[Ksign\u001b[m\u001b[K;\n",
            "                         \u001b[01;35m\u001b[K^~~~\u001b[m\u001b[K\n",
            "[ -d src ] || mkdir src\n",
            "nvcc -std=c++11 -I./include -O3 -g -Xcompiler -Wall src/ConfigFile.cpp -c -o src/ConfigFile.o\n",
            "[ -d src ] || mkdir src\n",
            "nvcc -std=c++11 -I./include -O3 -g -Xcompiler -Wall src/InterpDensNet.cpp -c -o src/InterpDensNet.o\n",
            "[ -d src ] || mkdir src\n",
            "nvcc -std=c++11 -I./include -O3 -g -Xcompiler -Wall src/InterpDensSpecies.cpp -c -o src/InterpDensSpecies.o\n",
            "nvcc -I./include -arch=sm_75 -std=c++11 -O3 -g -Xcompiler -Wall --compiler-bindir=g++ src/Particles.o src/Basic.o src/EMfield.o src/BC.o src/TransArraySpace3D.o src/RW_IO.o src/EMfield_aux.o src/Grid.o src/Particles_aux.o src/Timing.o src/sputniPIC.o src/ConfigFile.o src/InterpDensNet.o src/InterpDensSpecies.o -o bin/sputniPIC.out\n"
          ]
        }
      ]
    },
    {
      "cell_type": "code",
      "source": [
        "!./bin/sputniPIC.out inputfiles/GEM_2D.inp"
      ],
      "metadata": {
        "colab": {
          "base_uri": "https://localhost:8080/"
        },
        "id": "psupLhbufrwg",
        "outputId": "b53c50c9-8e12-476d-e818-8f8e1bb28f22"
      },
      "execution_count": null,
      "outputs": [
        {
          "output_type": "stream",
          "name": "stdout",
          "text": [
            "\n",
            "-------------------------\n",
            "sputniPIC Sim. Parameters\n",
            "-------------------------\n",
            "Number of species    = 4\n",
            "Number of particles of species 0 = 4096000\t (MAX = 4096000)  QOM = -64\n",
            "Number of particles of species 1 = 4096000\t (MAX = 4096000)  QOM = 1\n",
            "Number of particles of species 2 = 4096000\t (MAX = 4096000)  QOM = -64\n",
            "Number of particles of species 3 = 4096000\t (MAX = 4096000)  QOM = 1\n",
            "x-Length                 = 40\n",
            "y-Length                 = 20\n",
            "z-Length                 = 1\n",
            "Number of cells (x)      = 256\n",
            "Number of cells (y)      = 128\n",
            "Number of cells (z)      = 1\n",
            "Time step                = 0.25\n",
            "Number of cycles         = 10\n",
            "Results saved in: data\n",
            "*************************************************\n",
            "**  Initialize GEM Challenge with Pertubation  **\n",
            "*************************************************\n",
            "** B0x = 0.0195\n",
            "** B0y = 0\n",
            "** B0z = 0\n",
            "** Delta (current sheet thickness) = 0.5\n",
            "** rho species 0 = 1 CURRENT SHEET \n",
            "** rho species 1 = 1 CURRENT SHEET \n",
            "** rho species 2 = 0.02 BACKGROUND \n",
            "** rho species 3 = 0.02 BACKGROUND \n",
            "*************************************************\n",
            "\n",
            "***********************\n",
            "   cycle = 1\n",
            "***********************\n",
            "***  MOVER with SUBCYCLYING 1 - species 0 ***\n",
            "***  MOVER with SUBCYCLYING 1 - species 1 ***\n",
            "***  MOVER with SUBCYCLYING 1 - species 2 ***\n",
            "***  MOVER with SUBCYCLYING 1 - species 3 ***\n",
            "\n",
            "***********************\n",
            "   cycle = 2\n",
            "***********************\n",
            "***  MOVER with SUBCYCLYING 1 - species 0 ***\n",
            "***  MOVER with SUBCYCLYING 1 - species 1 ***\n",
            "***  MOVER with SUBCYCLYING 1 - species 2 ***\n",
            "***  MOVER with SUBCYCLYING 1 - species 3 ***\n",
            "\n",
            "***********************\n",
            "   cycle = 3\n",
            "***********************\n",
            "***  MOVER with SUBCYCLYING 1 - species 0 ***\n",
            "***  MOVER with SUBCYCLYING 1 - species 1 ***\n",
            "***  MOVER with SUBCYCLYING 1 - species 2 ***\n",
            "***  MOVER with SUBCYCLYING 1 - species 3 ***\n",
            "\n",
            "***********************\n",
            "   cycle = 4\n",
            "***********************\n",
            "***  MOVER with SUBCYCLYING 1 - species 0 ***\n",
            "***  MOVER with SUBCYCLYING 1 - species 1 ***\n",
            "***  MOVER with SUBCYCLYING 1 - species 2 ***\n",
            "***  MOVER with SUBCYCLYING 1 - species 3 ***\n",
            "\n",
            "***********************\n",
            "   cycle = 5\n",
            "***********************\n",
            "***  MOVER with SUBCYCLYING 1 - species 0 ***\n",
            "***  MOVER with SUBCYCLYING 1 - species 1 ***\n",
            "***  MOVER with SUBCYCLYING 1 - species 2 ***\n",
            "***  MOVER with SUBCYCLYING 1 - species 3 ***\n",
            "\n",
            "***********************\n",
            "   cycle = 6\n",
            "***********************\n",
            "***  MOVER with SUBCYCLYING 1 - species 0 ***\n",
            "***  MOVER with SUBCYCLYING 1 - species 1 ***\n",
            "***  MOVER with SUBCYCLYING 1 - species 2 ***\n",
            "***  MOVER with SUBCYCLYING 1 - species 3 ***\n",
            "\n",
            "***********************\n",
            "   cycle = 7\n",
            "***********************\n",
            "***  MOVER with SUBCYCLYING 1 - species 0 ***\n",
            "***  MOVER with SUBCYCLYING 1 - species 1 ***\n",
            "***  MOVER with SUBCYCLYING 1 - species 2 ***\n",
            "***  MOVER with SUBCYCLYING 1 - species 3 ***\n",
            "\n",
            "***********************\n",
            "   cycle = 8\n",
            "***********************\n",
            "***  MOVER with SUBCYCLYING 1 - species 0 ***\n",
            "***  MOVER with SUBCYCLYING 1 - species 1 ***\n",
            "***  MOVER with SUBCYCLYING 1 - species 2 ***\n",
            "***  MOVER with SUBCYCLYING 1 - species 3 ***\n",
            "\n",
            "***********************\n",
            "   cycle = 9\n",
            "***********************\n",
            "***  MOVER with SUBCYCLYING 1 - species 0 ***\n",
            "***  MOVER with SUBCYCLYING 1 - species 1 ***\n",
            "***  MOVER with SUBCYCLYING 1 - species 2 ***\n",
            "***  MOVER with SUBCYCLYING 1 - species 3 ***\n",
            "\n",
            "***********************\n",
            "   cycle = 10\n",
            "***********************\n",
            "***  MOVER with SUBCYCLYING 1 - species 0 ***\n",
            "***  MOVER with SUBCYCLYING 1 - species 1 ***\n",
            "***  MOVER with SUBCYCLYING 1 - species 2 ***\n",
            "***  MOVER with SUBCYCLYING 1 - species 3 ***\n",
            "Opening file: ./data/E_10.vtk\n",
            "Opening file: ./data/B_10.vtk\n",
            "Opening file: ./data/rhoe_10.vtk\n",
            "Opening file: ./data/rhoi_10.vtk\n",
            "Opening file: ./data/rho_net_10.vtk\n",
            "\n",
            "**************************************\n",
            "   Tot. Simulation Time (s) = 55.6065\n",
            "   Mover Time / Cycle   (s) = 2.9621\n",
            "   Interp. Time / Cycle (s) = 2.18686\n",
            "**************************************\n"
          ]
        }
      ]
    }
  ]
}