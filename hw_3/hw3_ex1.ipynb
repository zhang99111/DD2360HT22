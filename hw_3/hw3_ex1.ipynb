{
  "nbformat": 4,
  "nbformat_minor": 0,
  "metadata": {
    "colab": {
      "provenance": [],
      "include_colab_link": true
    },
    "kernelspec": {
      "name": "python3",
      "display_name": "Python 3"
    },
    "language_info": {
      "name": "python"
    },
    "gpuClass": "standard",
    "accelerator": "GPU"
  },
  "cells": [
    {
      "cell_type": "markdown",
      "metadata": {
        "id": "view-in-github",
        "colab_type": "text"
      },
      "source": [
        "<a href=\"https://colab.research.google.com/github/zhang99111/DD2360HT22/blob/main/hw_3/hw3_ex1.ipynb\" target=\"_parent\"><img src=\"https://colab.research.google.com/assets/colab-badge.svg\" alt=\"Open In Colab\"/></a>"
      ]
    },
    {
      "cell_type": "code",
      "source": [
        "from google.colab import drive\n",
        "drive.mount('/content/drive')\n",
        "%cd '/content/drive/MyDrive'"
      ],
      "metadata": {
        "colab": {
          "base_uri": "https://localhost:8080/"
        },
        "id": "HbQArfbv4Asg",
        "outputId": "f3ae779e-dfd8-411a-a6c6-e30eab64d156"
      },
      "execution_count": 1,
      "outputs": [
        {
          "output_type": "stream",
          "name": "stdout",
          "text": [
            "Mounted at /content/drive\n",
            "/content/drive/MyDrive\n"
          ]
        }
      ]
    },
    {
      "cell_type": "code",
      "source": [
        "!nvcc -arch=sm_75 ./lab3_ex1.cu -o lab3_ex1\n",
        "\n"
      ],
      "metadata": {
        "id": "TvYps9NQ40NC"
      },
      "execution_count": 2,
      "outputs": []
    },
    {
      "cell_type": "code",
      "source": [
        "!./lab3_ex1 1024"
      ],
      "metadata": {
        "colab": {
          "base_uri": "https://localhost:8080/"
        },
        "id": "H6L-jFBt9dI9",
        "outputId": "9c7a1571-3416-427a-a08b-e41512fca49e"
      },
      "execution_count": 3,
      "outputs": [
        {
          "output_type": "stream",
          "name": "stdout",
          "text": [
            "The input length is 1024\n",
            "cost Host->Device: 0.000063 - cost Device->Host: 0.000022\n",
            "CPU cost: 0.000005 - GPU cost: 0.000030\n"
          ]
        }
      ]
    },
    {
      "cell_type": "code",
      "source": [
        "!/usr/local/cuda-11/bin/nv-nsight-cu-cli ./lab3_ex1 1024"
      ],
      "metadata": {
        "colab": {
          "base_uri": "https://localhost:8080/"
        },
        "id": "xfrW5fWte3ue",
        "outputId": "da7b4af8-2400-4988-86bb-da634e5753a5"
      },
      "execution_count": 4,
      "outputs": [
        {
          "output_type": "stream",
          "name": "stdout",
          "text": [
            "The input length is 1024\n",
            "==PROF== Connected to process 347 (/content/drive/MyDrive/lab3_ex1)\n",
            "==PROF== Profiling \"vecAdd\" - 1: 0%....50%....100% - 8 passes\n",
            "cost Host->Device: 0.000054 - cost Device->Host: 0.000056\n",
            "CPU cost: 0.000005 - GPU cost: 0.812364\n",
            "==PROF== Disconnected from process 347\n",
            "[347] lab3_ex1@127.0.0.1\n",
            "  vecAdd(double*, double*, double*, int), 2022-Dec-15 22:52:25, Context 1, Stream 7\n",
            "    Section: GPU Speed Of Light\n",
            "    ---------------------------------------------------------------------- --------------- ------------------------------\n",
            "    DRAM Frequency                                                           cycle/nsecond                           4.91\n",
            "    SM Frequency                                                             cycle/usecond                         577.61\n",
            "    Elapsed Cycles                                                                   cycle                          3,013\n",
            "    Memory [%]                                                                           %                           1.16\n",
            "    SOL DRAM                                                                             %                           1.16\n",
            "    Duration                                                                       usecond                           5.22\n",
            "    SOL L1/TEX Cache                                                                     %                          27.95\n",
            "    SOL L2 Cache                                                                         %                           0.79\n",
            "    SM Active Cycles                                                                 cycle                          45.80\n",
            "    SM [%]                                                                               %                           0.42\n",
            "    ---------------------------------------------------------------------- --------------- ------------------------------\n",
            "    WRN   This kernel grid is too small to fill the available resources on this device, resulting in only 0.0 full      \n",
            "          waves across all SMs. Look at Launch Statistics for more details.                                             \n",
            "\n",
            "    Section: Launch Statistics\n",
            "    ---------------------------------------------------------------------- --------------- ------------------------------\n",
            "    Block Size                                                                                                      1,024\n",
            "    Function Cache Configuration                                                                  cudaFuncCachePreferNone\n",
            "    Grid Size                                                                                                           1\n",
            "    Registers Per Thread                                                   register/thread                             16\n",
            "    Shared Memory Configuration Size                                                 Kbyte                          32.77\n",
            "    Driver Shared Memory Per Block                                              byte/block                              0\n",
            "    Dynamic Shared Memory Per Block                                             byte/block                              0\n",
            "    Static Shared Memory Per Block                                              byte/block                              0\n",
            "    Threads                                                                         thread                          1,024\n",
            "    Waves Per SM                                                                                                     0.03\n",
            "    ---------------------------------------------------------------------- --------------- ------------------------------\n",
            "    WRN   The grid for this launch is configured to execute only 1 blocks, which is less than the GPU's 40              \n",
            "          multiprocessors. This can underutilize some multiprocessors. If you do not intend to execute this kernel      \n",
            "          concurrently with other workloads, consider reducing the block size to have at least one block per            \n",
            "          multiprocessor or increase the size of the grid to fully utilize the available hardware resources.            \n",
            "\n",
            "    Section: Occupancy\n",
            "    ---------------------------------------------------------------------- --------------- ------------------------------\n",
            "    Block Limit SM                                                                   block                             16\n",
            "    Block Limit Registers                                                            block                              4\n",
            "    Block Limit Shared Mem                                                           block                             16\n",
            "    Block Limit Warps                                                                block                              1\n",
            "    Theoretical Active Warps per SM                                                   warp                             32\n",
            "    Theoretical Occupancy                                                                %                            100\n",
            "    Achieved Occupancy                                                                   %                          79.28\n",
            "    Achieved Active Warps Per SM                                                      warp                          25.37\n",
            "    ---------------------------------------------------------------------- --------------- ------------------------------\n",
            "\n"
          ]
        }
      ]
    },
    {
      "cell_type": "code",
      "source": [
        "!./lab3_ex1 32768"
      ],
      "metadata": {
        "colab": {
          "base_uri": "https://localhost:8080/"
        },
        "id": "wzzEkgCum-b8",
        "outputId": "cf37a17c-53a4-4900-92be-e32c359ae82e"
      },
      "execution_count": 6,
      "outputs": [
        {
          "output_type": "stream",
          "name": "stdout",
          "text": [
            "The input length is 32768\n",
            "cost Host->Device: 0.000185 - cost Device->Host: 0.000211\n",
            "CPU cost: 0.000204 - GPU cost: 0.000026\n"
          ]
        }
      ]
    },
    {
      "cell_type": "code",
      "source": [
        "!./lab3_ex1 65536"
      ],
      "metadata": {
        "colab": {
          "base_uri": "https://localhost:8080/"
        },
        "id": "wlJUwosUmua-",
        "outputId": "270aadca-5cb4-4dba-b9be-c124c0a27226"
      },
      "execution_count": 7,
      "outputs": [
        {
          "output_type": "stream",
          "name": "stdout",
          "text": [
            "The input length is 65536\n",
            "cost Host->Device: 0.000328 - cost Device->Host: 0.000415\n",
            "CPU cost: 0.000395 - GPU cost: 0.000027\n"
          ]
        }
      ]
    },
    {
      "cell_type": "code",
      "source": [
        "!./lab3_ex1 131070"
      ],
      "metadata": {
        "colab": {
          "base_uri": "https://localhost:8080/"
        },
        "id": "gF-iISqy7O2E",
        "outputId": "e463f800-7a1b-4879-beb1-546b33f74eac"
      },
      "execution_count": 8,
      "outputs": [
        {
          "output_type": "stream",
          "name": "stdout",
          "text": [
            "The input length is 131070\n",
            "cost Host->Device: 0.000638 - cost Device->Host: 0.000774\n",
            "CPU cost: 0.000801 - GPU cost: 0.000032\n"
          ]
        }
      ]
    },
    {
      "cell_type": "code",
      "source": [
        "!./lab3_ex1 262144"
      ],
      "metadata": {
        "colab": {
          "base_uri": "https://localhost:8080/"
        },
        "id": "sZ5is-TImTOm",
        "outputId": "eb93ac9d-99cd-4993-b342-4305a37dcb34"
      },
      "execution_count": 9,
      "outputs": [
        {
          "output_type": "stream",
          "name": "stdout",
          "text": [
            "The input length is 262144\n",
            "cost Host->Device: 0.001111 - cost Device->Host: 0.001533\n",
            "CPU cost: 0.001595 - GPU cost: 0.000042\n"
          ]
        }
      ]
    },
    {
      "cell_type": "code",
      "source": [
        "!./lab3_ex1 524288"
      ],
      "metadata": {
        "colab": {
          "base_uri": "https://localhost:8080/"
        },
        "id": "hsLxFIIumS5s",
        "outputId": "4ba9d815-c146-406b-f4eb-54f17e8ed3ac"
      },
      "execution_count": 10,
      "outputs": [
        {
          "output_type": "stream",
          "name": "stdout",
          "text": [
            "The input length is 524288\n",
            "cost Host->Device: 0.001993 - cost Device->Host: 0.002841\n",
            "CPU cost: 0.003288 - GPU cost: 0.000065\n"
          ]
        }
      ]
    },
    {
      "cell_type": "code",
      "source": [
        "!/usr/local/cuda-11/bin/nv-nsight-cu-cli ./lab3_ex1 131070"
      ],
      "metadata": {
        "colab": {
          "base_uri": "https://localhost:8080/"
        },
        "id": "rjYKZylS8s2q",
        "outputId": "c1b5219a-176c-4b60-e423-7819b1fa23ac"
      },
      "execution_count": 11,
      "outputs": [
        {
          "output_type": "stream",
          "name": "stdout",
          "text": [
            "The input length is 131070\n",
            "==PROF== Connected to process 395 (/content/drive/MyDrive/lab3_ex1)\n",
            "==PROF== Profiling \"vecAdd\" - 1: 0%....50%....100% - 8 passes\n",
            "cost Host->Device: 0.000676 - cost Device->Host: 0.000793\n",
            "CPU cost: 0.000971 - GPU cost: 0.640207\n",
            "==PROF== Disconnected from process 395\n",
            "[395] lab3_ex1@127.0.0.1\n",
            "  vecAdd(double*, double*, double*, int), 2022-Dec-15 22:52:52, Context 1, Stream 7\n",
            "    Section: GPU Speed Of Light\n",
            "    ---------------------------------------------------------------------- --------------- ------------------------------\n",
            "    DRAM Frequency                                                           cycle/nsecond                           4.85\n",
            "    SM Frequency                                                             cycle/usecond                         567.82\n",
            "    Elapsed Cycles                                                                   cycle                          8,219\n",
            "    Memory [%]                                                                           %                          51.77\n",
            "    SOL DRAM                                                                             %                          51.77\n",
            "    Duration                                                                       usecond                          14.46\n",
            "    SOL L1/TEX Cache                                                                     %                          27.84\n",
            "    SOL L2 Cache                                                                         %                          25.82\n",
            "    SM Active Cycles                                                                 cycle                       5,884.75\n",
            "    SM [%]                                                                               %                          19.95\n",
            "    ---------------------------------------------------------------------- --------------- ------------------------------\n",
            "    WRN   This kernel exhibits low compute throughput and memory bandwidth utilization relative to the peak performance \n",
            "          of this device. Achieved compute throughput and/or memory bandwidth below 60.0% of peak typically indicate    \n",
            "          latency issues. Look at Scheduler Statistics and Warp State Statistics for potential reasons.                 \n",
            "\n",
            "    Section: Launch Statistics\n",
            "    ---------------------------------------------------------------------- --------------- ------------------------------\n",
            "    Block Size                                                                                                      1,024\n",
            "    Function Cache Configuration                                                                  cudaFuncCachePreferNone\n",
            "    Grid Size                                                                                                         128\n",
            "    Registers Per Thread                                                   register/thread                             16\n",
            "    Shared Memory Configuration Size                                                 Kbyte                          32.77\n",
            "    Driver Shared Memory Per Block                                              byte/block                              0\n",
            "    Dynamic Shared Memory Per Block                                             byte/block                              0\n",
            "    Static Shared Memory Per Block                                              byte/block                              0\n",
            "    Threads                                                                         thread                        131,072\n",
            "    Waves Per SM                                                                                                     3.20\n",
            "    ---------------------------------------------------------------------- --------------- ------------------------------\n",
            "    WRN   A wave of thread blocks is defined as the maximum number of blocks that can be executed in parallel on the    \n",
            "          target GPU. The number of blocks in a wave depends on the number of multiprocessors and the theoretical       \n",
            "          occupancy of the kernel. This kernel launch results in 3 full waves and a partial wave of 8 thread blocks.    \n",
            "          Under the assumption of a uniform execution duration of all thread blocks, the partial wave may account for   \n",
            "          up to 25.0% of the total kernel runtime with a lower occupancy of 22.6%. Try launching a grid with no         \n",
            "          partial wave. The overall impact of this tail effect also lessens with the number of full waves executed for  \n",
            "          a grid.                                                                                                       \n",
            "\n",
            "    Section: Occupancy\n",
            "    ---------------------------------------------------------------------- --------------- ------------------------------\n",
            "    Block Limit SM                                                                   block                             16\n",
            "    Block Limit Registers                                                            block                              4\n",
            "    Block Limit Shared Mem                                                           block                             16\n",
            "    Block Limit Warps                                                                block                              1\n",
            "    Theoretical Active Warps per SM                                                   warp                             32\n",
            "    Theoretical Occupancy                                                                %                            100\n",
            "    Achieved Occupancy                                                                   %                          77.38\n",
            "    Achieved Active Warps Per SM                                                      warp                          24.76\n",
            "    ---------------------------------------------------------------------- --------------- ------------------------------\n",
            "\n"
          ]
        }
      ]
    },
    {
      "cell_type": "code",
      "source": [
        "!nvprof ./lab3_ex1 134217728"
      ],
      "metadata": {
        "colab": {
          "base_uri": "https://localhost:8080/"
        },
        "id": "5G06yPwY87PR",
        "outputId": "27c38f62-91e6-4618-a0bf-d12791be5d3e"
      },
      "execution_count": 12,
      "outputs": [
        {
          "output_type": "stream",
          "name": "stdout",
          "text": [
            "The input length is 134217728\n",
            "tcmalloc: large alloc 1073741824 bytes == 0x5595d6874000 @  0x7fb288f9a1e7 0x5595d42076d1 0x7fb287c2dc87 0x5595d420748a\n",
            "==407== NVPROF is profiling process 407, command: ./lab3_ex1 134217728\n",
            "cost Host->Device: 0.461271 - cost Device->Host: 0.679010\n",
            "CPU cost: 0.847717 - GPU cost: 0.012205\n",
            "==407== Profiling application: ./lab3_ex1 134217728\n",
            "==407== Profiling result:\n",
            "            Type  Time(%)      Time     Calls       Avg       Min       Max  Name\n",
            " GPU activities:   58.91%  677.70ms         1  677.70ms  677.70ms  677.70ms  [CUDA memcpy DtoH]\n",
            "                   40.03%  460.50ms         2  230.25ms  226.96ms  233.53ms  [CUDA memcpy HtoD]\n",
            "                    1.06%  12.164ms         1  12.164ms  12.164ms  12.164ms  vecAdd(double*, double*, double*, int)\n",
            "      API calls:   82.78%  1.13990s         3  379.97ms  227.18ms  679.00ms  cudaMemcpy\n",
            "                   15.80%  217.54ms         3  72.512ms  1.0013ms  215.53ms  cudaMalloc\n",
            "                    0.89%  12.254ms         3  4.0848ms  8.9740us  12.166ms  cudaDeviceSynchronize\n",
            "                    0.45%  6.1814ms         3  2.0605ms  1.1101ms  2.9013ms  cudaFree\n",
            "                    0.04%  564.93us         1  564.93us  564.93us  564.93us  cuDeviceTotalMem\n",
            "                    0.03%  418.62us       101  4.1440us     166ns  282.91us  cuDeviceGetAttribute\n",
            "                    0.00%  44.903us         1  44.903us  44.903us  44.903us  cuDeviceGetName\n",
            "                    0.00%  36.396us         1  36.396us  36.396us  36.396us  cudaLaunchKernel\n",
            "                    0.00%  6.0930us         1  6.0930us  6.0930us  6.0930us  cuDeviceGetPCIBusId\n",
            "                    0.00%  1.9420us         2     971ns     395ns  1.5470us  cuDeviceGet\n",
            "                    0.00%  1.6130us         3     537ns     189ns     948ns  cuDeviceGetCount\n",
            "                    0.00%     333ns         1     333ns     333ns     333ns  cuDeviceGetUuid\n"
          ]
        }
      ]
    },
    {
      "cell_type": "markdown",
      "source": [],
      "metadata": {
        "id": "Y1tq07k5_r-n"
      }
    }
  ]
}