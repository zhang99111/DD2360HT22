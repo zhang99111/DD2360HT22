{
  "nbformat": 4,
  "nbformat_minor": 0,
  "metadata": {
    "colab": {
      "provenance": [],
      "include_colab_link": true
    },
    "kernelspec": {
      "name": "python3",
      "display_name": "Python 3"
    },
    "language_info": {
      "name": "python"
    },
    "gpuClass": "standard",
    "accelerator": "GPU"
  },
  "cells": [
    {
      "cell_type": "markdown",
      "metadata": {
        "id": "view-in-github",
        "colab_type": "text"
      },
      "source": [
        "<a href=\"https://colab.research.google.com/github/zhang99111/DD2360HT22/blob/main/ex_2_ex_4.ipynb\" target=\"_parent\"><img src=\"https://colab.research.google.com/assets/colab-badge.svg\" alt=\"Open In Colab\"/></a>"
      ]
    },
    {
      "cell_type": "code",
      "source": [
        "!ls /usr/local/rodinia_2.1/bin"
      ],
      "metadata": {
        "colab": {
          "base_uri": "https://localhost:8080/"
        },
        "id": "OEm6GxLePnsK",
        "outputId": "661de3da-5d67-40ee-b944-1ed150e80663"
      },
      "execution_count": null,
      "outputs": [
        {
          "output_type": "stream",
          "name": "stdout",
          "text": [
            "ls: cannot access '/usr/local/rodinia_2.1/bin': No such file or directory\n"
          ]
        }
      ]
    },
    {
      "cell_type": "markdown",
      "source": [
        "# exerciese2"
      ],
      "metadata": {
        "id": "75ViqNQLNf4p"
      }
    },
    {
      "cell_type": "code",
      "source": [
        "!cp -rf /usr/local/cuda-11/samples/1_Utilities/deviceQuery ./deviceQuery"
      ],
      "metadata": {
        "id": "_qizZP6dQX85"
      },
      "execution_count": null,
      "outputs": []
    },
    {
      "cell_type": "code",
      "source": [
        "!ls deviceQuery\n",
        "!nvcc -I/usr/local/cuda-11/samples/common/inc deviceQuery/deviceQuery.cpp -o deviceQuery/deviceQuery"
      ],
      "metadata": {
        "colab": {
          "base_uri": "https://localhost:8080/"
        },
        "id": "7Ns3UCwuQ2jy",
        "outputId": "11b6b10f-6c3a-4613-bc5d-b2eb1126db79"
      },
      "execution_count": null,
      "outputs": [
        {
          "output_type": "stream",
          "name": "stdout",
          "text": [
            "deviceQuery.cpp  Makefile  NsightEclipse.xml  readme.txt\n"
          ]
        }
      ]
    },
    {
      "cell_type": "code",
      "source": [
        "!ls ./deviceQuery"
      ],
      "metadata": {
        "colab": {
          "base_uri": "https://localhost:8080/"
        },
        "id": "tQjKCwPWRBYM",
        "outputId": "3f995433-9d6b-46f9-ac79-e552d78b92f3"
      },
      "execution_count": null,
      "outputs": [
        {
          "output_type": "stream",
          "name": "stdout",
          "text": [
            "deviceQuery.cpp  Makefile  NsightEclipse.xml  readme.txt\n"
          ]
        }
      ]
    },
    {
      "cell_type": "code",
      "source": [
        "!./deviceQuery/deviceQuery"
      ],
      "metadata": {
        "colab": {
          "base_uri": "https://localhost:8080/"
        },
        "id": "5-fV9YzBRUDk",
        "outputId": "25efc288-eb2b-4c90-efee-ebc9d5e447ac"
      },
      "execution_count": null,
      "outputs": [
        {
          "output_type": "stream",
          "name": "stdout",
          "text": [
            "./deviceQuery/deviceQuery Starting...\n",
            "\n",
            " CUDA Device Query (Runtime API) version (CUDART static linking)\n",
            "\n",
            "Detected 1 CUDA Capable device(s)\n",
            "\n",
            "Device 0: \"Tesla T4\"\n",
            "  CUDA Driver Version / Runtime Version          11.2 / 11.2\n",
            "  CUDA Capability Major/Minor version number:    7.5\n",
            "  Total amount of global memory:                 15110 MBytes (15843721216 bytes)\n",
            "  (40) Multiprocessors, ( 64) CUDA Cores/MP:     2560 CUDA Cores\n",
            "  GPU Max Clock rate:                            1590 MHz (1.59 GHz)\n",
            "  Memory Clock rate:                             5001 Mhz\n",
            "  Memory Bus Width:                              256-bit\n",
            "  L2 Cache Size:                                 4194304 bytes\n",
            "  Maximum Texture Dimension Size (x,y,z)         1D=(131072), 2D=(131072, 65536), 3D=(16384, 16384, 16384)\n",
            "  Maximum Layered 1D Texture Size, (num) layers  1D=(32768), 2048 layers\n",
            "  Maximum Layered 2D Texture Size, (num) layers  2D=(32768, 32768), 2048 layers\n",
            "  Total amount of constant memory:               65536 bytes\n",
            "  Total amount of shared memory per block:       49152 bytes\n",
            "  Total shared memory per multiprocessor:        65536 bytes\n",
            "  Total number of registers available per block: 65536\n",
            "  Warp size:                                     32\n",
            "  Maximum number of threads per multiprocessor:  1024\n",
            "  Maximum number of threads per block:           1024\n",
            "  Max dimension size of a thread block (x,y,z): (1024, 1024, 64)\n",
            "  Max dimension size of a grid size    (x,y,z): (2147483647, 65535, 65535)\n",
            "  Maximum memory pitch:                          2147483647 bytes\n",
            "  Texture alignment:                             512 bytes\n",
            "  Concurrent copy and kernel execution:          Yes with 3 copy engine(s)\n",
            "  Run time limit on kernels:                     No\n",
            "  Integrated GPU sharing Host Memory:            No\n",
            "  Support host page-locked memory mapping:       Yes\n",
            "  Alignment requirement for Surfaces:            Yes\n",
            "  Device has ECC support:                        Enabled\n",
            "  Device supports Unified Addressing (UVA):      Yes\n",
            "  Device supports Managed Memory:                Yes\n",
            "  Device supports Compute Preemption:            Yes\n",
            "  Supports Cooperative Kernel Launch:            Yes\n",
            "  Supports MultiDevice Co-op Kernel Launch:      Yes\n",
            "  Device PCI Domain ID / Bus ID / location ID:   0 / 0 / 4\n",
            "  Compute Mode:\n",
            "     < Default (multiple host threads can use ::cudaSetDevice() with device simultaneously) >\n",
            "\n",
            "deviceQuery, CUDA Driver = CUDART, CUDA Driver Version = 11.2, CUDA Runtime Version = 11.2, NumDevs = 1\n",
            "Result = PASS\n"
          ]
        }
      ]
    },
    {
      "cell_type": "markdown",
      "source": [
        "#  exercise 4"
      ],
      "metadata": {
        "id": "hiEXPSvlYj9g"
      }
    },
    {
      "cell_type": "code",
      "source": [
        "from google.colab import drive\n",
        "drive.mount('/content/drive')"
      ],
      "metadata": {
        "colab": {
          "base_uri": "https://localhost:8080/"
        },
        "id": "maWKhIMANsCR",
        "outputId": "731dfb3e-09e9-47d4-c752-4d60d2b6b25e"
      },
      "execution_count": null,
      "outputs": [
        {
          "output_type": "stream",
          "name": "stdout",
          "text": [
            "Drive already mounted at /content/drive; to attempt to forcibly remount, call drive.mount(\"/content/drive\", force_remount=True).\n"
          ]
        }
      ]
    },
    {
      "cell_type": "code",
      "source": [
        "!ls \"/content/drive//My Drive/\""
      ],
      "metadata": {
        "colab": {
          "base_uri": "https://localhost:8080/"
        },
        "id": "hMYF7MhPYlHK",
        "outputId": "e985c68d-dc6e-453e-c576-ed6dc43754de"
      },
      "execution_count": null,
      "outputs": [
        {
          "output_type": "stream",
          "name": "stdout",
          "text": [
            "'Colab Notebooks'   CV_of_Yaoyu_Zhang.pdf   IFTTT   rodinia_3.1\n"
          ]
        }
      ]
    },
    {
      "cell_type": "code",
      "source": [
        "!ls \"/content/drive//My Drive/\""
      ],
      "metadata": {
        "colab": {
          "base_uri": "https://localhost:8080/"
        },
        "id": "B9ywb32RYsed",
        "outputId": "ba2d4913-1c01-49e7-91b7-72c02320bae6"
      },
      "execution_count": null,
      "outputs": [
        {
          "output_type": "stream",
          "name": "stdout",
          "text": [
            "'Colab Notebooks'   CV_of_Yaoyu_Zhang.pdf   IFTTT   rodinia_3.1\n"
          ]
        }
      ]
    },
    {
      "cell_type": "code",
      "source": [
        "!ls \"/content/drive//My Drive/rodinia_3.1/\""
      ],
      "metadata": {
        "colab": {
          "base_uri": "https://localhost:8080/"
        },
        "id": "DEHINQTKP6RG",
        "outputId": "1601a792-b1a4-4309-b0bf-b1c10ea923e5"
      },
      "execution_count": null,
      "outputs": [
        {
          "output_type": "stream",
          "name": "stdout",
          "text": [
            "bin  common  cuda  data  LICENSE  Makefile  opencl  openmp  others  README\n"
          ]
        }
      ]
    },
    {
      "cell_type": "code",
      "source": [
        "!ls \"/content/drive//My Drive/rodinia_3.1/cuda\""
      ],
      "metadata": {
        "colab": {
          "base_uri": "https://localhost:8080/"
        },
        "id": "gnfQyv2QY7YQ",
        "outputId": "3373f2cb-8a0f-4eca-9039-c59eae392412"
      },
      "execution_count": null,
      "outputs": [
        {
          "output_type": "stream",
          "name": "stdout",
          "text": [
            "backprop  cfd.tar    hotspot\t kmeans     mummergpu  particlefilter\n",
            "bfs\t  dwt2d      hotspot3D\t lavaMD     myocyte    pathfinder\n",
            "b+tree\t  gaussian   huffman\t leukocyte  nn\t       srad\n",
            "cfd\t  heartwall  hybridsort  lud\t    nw\t       streamcluster\n"
          ]
        }
      ]
    },
    {
      "cell_type": "code",
      "source": [
        "%cd \"/content/drive//My Drive/rodinia_3.1/cuda/lavaMD\"\n",
        "!ls"
      ],
      "metadata": {
        "colab": {
          "base_uri": "https://localhost:8080/"
        },
        "id": "2wSZDBEXZWYE",
        "outputId": "7c13f947-fbdf-4c09-fcf0-31c2a0e717c6"
      },
      "execution_count": null,
      "outputs": [
        {
          "output_type": "stream",
          "name": "stdout",
          "text": [
            "/content/drive/My Drive/rodinia_3.1/cuda/lavaMD\n",
            "kernel\tlavaMD\tmain.c\tmain.h\tmain.o\tmakefile  README  result.txt  run  util\n"
          ]
        }
      ]
    },
    {
      "cell_type": "code",
      "source": [
        "!make clean\n",
        "!make KERNEL_DIM=\"-DRD_WG_SIZE_0=16\""
      ],
      "metadata": {
        "id": "8mOy1X3bcCsC",
        "colab": {
          "base_uri": "https://localhost:8080/"
        },
        "outputId": "d0ce88f5-495f-4849-c730-74193dad2643"
      },
      "execution_count": null,
      "outputs": [
        {
          "output_type": "stream",
          "name": "stdout",
          "text": [
            "rm *.o srad\n",
            "nvcc\tmain.cu \\\n",
            "\t\t\t-c -O3 -arch sm_75\n",
            "graphics.c(135): warning: result of call is not used\n",
            "\n",
            "graphics.c(143): warning: result of call is not used\n",
            "\n",
            "main.cu(168): warning: conversion from a string literal to \"char *\" is deprecated\n",
            "\n",
            "main.cu(439): warning: conversion from a string literal to \"char *\" is deprecated\n",
            "\n",
            "main.cu(109): warning: variable \"blocks3\" was declared but never referenced\n",
            "\n",
            "graphics.c(135): warning: result of call is not used\n",
            "\n",
            "graphics.c(143): warning: result of call is not used\n",
            "\n",
            "main.cu(168): warning: conversion from a string literal to \"char *\" is deprecated\n",
            "\n",
            "main.cu(439): warning: conversion from a string literal to \"char *\" is deprecated\n",
            "\n",
            "\u001b[01m\u001b[Kmain.cu:\u001b[m\u001b[K In function ‘\u001b[01m\u001b[Kint main(int, char**)\u001b[m\u001b[K’:\n",
            "\u001b[01m\u001b[Kmain.cu:479:152:\u001b[m\u001b[K \u001b[01;35m\u001b[Kwarning: \u001b[m\u001b[Kunknown conversion type character ‘\u001b[01m\u001b[K:\u001b[m\u001b[K’ in format [\u001b[01;35m\u001b[K-Wformat=\u001b[m\u001b[K]\n",
            "  printf(\"%15.12f s, %15.12f % : SETUP VARIABLES\\n\",               (float) (time1-time0) / 1000000, (float) (time1-time0) / (float) (time12-time0) * 100\u001b[01;35m\u001b[K)\u001b[m\u001b[K;\n",
            "                                                                                                                                                        \u001b[01;35m\u001b[K^\u001b[m\u001b[K\n",
            "\u001b[01m\u001b[Kmain.cu:480:165:\u001b[m\u001b[K \u001b[01;35m\u001b[Kwarning: \u001b[m\u001b[Kunknown conversion type character ‘\u001b[01m\u001b[K:\u001b[m\u001b[K’ in format [\u001b[01;35m\u001b[K-Wformat=\u001b[m\u001b[K]\n",
            "  printf(\"%15.12f s, %15.12f % : READ COMMAND LINE PARAMETERS\\n\",           (float) (time2-time1) / 1000000, (float) (time2-time1) / (float) (time12-time0) * 100);\n",
            "                                                                                                                                                                     \u001b[01;35m\u001b[K^\u001b[m\u001b[K\n",
            "\u001b[01m\u001b[Kmain.cu:481:157:\u001b[m\u001b[K \u001b[01;35m\u001b[Kwarning: \u001b[m\u001b[Kunknown conversion type character ‘\u001b[01m\u001b[K:\u001b[m\u001b[K’ in format [\u001b[01;35m\u001b[K-Wformat=\u001b[m\u001b[K]\n",
            "  printf(\"%15.12f s, %15.12f % : READ IMAGE FROM FILE\\n\",             (float) (time3-time2) / 1000000, (float) (time3-time2) / (float) (time12-time0) * 100);\n",
            "                                                                                                                                                             \u001b[01;35m\u001b[K^\u001b[m\u001b[K\n",
            "\u001b[01m\u001b[Kmain.cu:482:149:\u001b[m\u001b[K \u001b[01;35m\u001b[Kwarning: \u001b[m\u001b[Kunknown conversion type character ‘\u001b[01m\u001b[K:\u001b[m\u001b[K’ in format [\u001b[01;35m\u001b[K-Wformat=\u001b[m\u001b[K]\n",
            "  printf(\"%15.12f s, %15.12f % : RESIZE IMAGE\\n\",               (float) (time4-time3) / 1000000, (float) (time4-time3) / (float) (time12-time0) * 100\u001b[01;35m\u001b[K)\u001b[m\u001b[K;\n",
            "                                                                                                                                                     \u001b[01;35m\u001b[K^\u001b[m\u001b[K\n",
            "\u001b[01m\u001b[Kmain.cu:483:186:\u001b[m\u001b[K \u001b[01;35m\u001b[Kwarning: \u001b[m\u001b[Kunknown conversion type character ‘\u001b[01m\u001b[K:\u001b[m\u001b[K’ in format [\u001b[01;35m\u001b[K-Wformat=\u001b[m\u001b[K]\n",
            "  printf(\"%15.12f s, %15.12f % : GPU DRIVER INIT, CPU/GPU SETUP, MEMORY ALLOCATION\\n\",      (float) (time5-time4) / 1000000, (float) (time5-time4) / (float) (time12-time0) * 100);\n",
            "                                                                                                                                                                                          \u001b[01;35m\u001b[K^\u001b[m\u001b[K\n",
            "\u001b[01m\u001b[Kmain.cu:484:158:\u001b[m\u001b[K \u001b[01;35m\u001b[Kwarning: \u001b[m\u001b[Kunknown conversion type character ‘\u001b[01m\u001b[K:\u001b[m\u001b[K’ in format [\u001b[01;35m\u001b[K-Wformat=\u001b[m\u001b[K]\n",
            "  printf(\"%15.12f s, %15.12f % : COPY DATA TO CPU->GPU\\n\",             (float) (time6-time5) / 1000000, (float) (time6-time5) / (float) (time12-time0) * 100);\n",
            "                                                                                                                                                              \u001b[01;35m\u001b[K^\u001b[m\u001b[K\n",
            "\u001b[01m\u001b[Kmain.cu:485:150:\u001b[m\u001b[K \u001b[01;35m\u001b[Kwarning: \u001b[m\u001b[Kunknown conversion type character ‘\u001b[01m\u001b[K:\u001b[m\u001b[K’ in format [\u001b[01;35m\u001b[K-Wformat=\u001b[m\u001b[K]\n",
            "  printf(\"%15.12f s, %15.12f % : EXTRACT IMAGE\\n\",               (float) (time7-time6) / 1000000, (float) (time7-time6) / (float) (time12-time0) * 100\u001b[01;35m\u001b[K)\u001b[m\u001b[K;\n",
            "                                                                                                                                                      \u001b[01;35m\u001b[K^\u001b[m\u001b[K\n",
            "\u001b[01m\u001b[Kmain.cu:486:144:\u001b[m\u001b[K \u001b[01;35m\u001b[Kwarning: \u001b[m\u001b[Kunknown conversion type character ‘\u001b[01m\u001b[K:\u001b[m\u001b[K’ in format [\u001b[01;35m\u001b[K-Wformat=\u001b[m\u001b[K]\n",
            "  printf(\"%15.12f s, %15.12f % : COMPUTE\\n\",                 (float) (time8-time7) / 1000000, (float) (time8-time7) / (float) (time12-time0) * 1\u001b[01;35m\u001b[K0\u001b[m\u001b[K0);\n",
            "                                                                                                                                                \u001b[01;35m\u001b[K^\u001b[m\u001b[K\n",
            "\u001b[01m\u001b[Kmain.cu:487:151:\u001b[m\u001b[K \u001b[01;35m\u001b[Kwarning: \u001b[m\u001b[Kunknown conversion type character ‘\u001b[01m\u001b[K:\u001b[m\u001b[K’ in format [\u001b[01;35m\u001b[K-Wformat=\u001b[m\u001b[K]\n",
            "  printf(\"%15.12f s, %15.12f % : COMPRESS IMAGE\\n\",               (float) (time9-time8) / 1000000, (float) (time9-time8) / (float) (time12-time0) * 100\u001b[01;35m\u001b[K)\u001b[m\u001b[K;\n",
            "                                                                                                                                                       \u001b[01;35m\u001b[K^\u001b[m\u001b[K\n",
            "\u001b[01m\u001b[Kmain.cu:488:160:\u001b[m\u001b[K \u001b[01;35m\u001b[Kwarning: \u001b[m\u001b[Kunknown conversion type character ‘\u001b[01m\u001b[K:\u001b[m\u001b[K’ in format [\u001b[01;35m\u001b[K-Wformat=\u001b[m\u001b[K]\n",
            "  printf(\"%15.12f s, %15.12f % : COPY DATA TO GPU->CPU\\n\",             (float) (time10-time9) / 1000000, (float) (time10-time9) / (float) (time12-time0) * 100);\n",
            "                                                                                                                                                                \u001b[01;35m\u001b[K^\u001b[m\u001b[K\n",
            "\u001b[01m\u001b[Kmain.cu:489:161:\u001b[m\u001b[K \u001b[01;35m\u001b[Kwarning: \u001b[m\u001b[Kunknown conversion type character ‘\u001b[01m\u001b[K:\u001b[m\u001b[K’ in format [\u001b[01;35m\u001b[K-Wformat=\u001b[m\u001b[K]\n",
            "  printf(\"%15.12f s, %15.12f % : SAVE IMAGE INTO FILE\\n\",             (float) (time11-time10) / 1000000, (float) (time11-time10) / (float) (time12-time0) * 100);\n",
            "                                                                                                                                                                 \u001b[01;35m\u001b[K^\u001b[m\u001b[K\n",
            "\u001b[01m\u001b[Kmain.cu:490:152:\u001b[m\u001b[K \u001b[01;35m\u001b[Kwarning: \u001b[m\u001b[Kunknown conversion type character ‘\u001b[01m\u001b[K:\u001b[m\u001b[K’ in format [\u001b[01;35m\u001b[K-Wformat=\u001b[m\u001b[K]\n",
            "  printf(\"%15.12f s, %15.12f % : FREE MEMORY\\n\",                (float) (time12-time11) / 1000000, (float) (time12-time11) / (float) (time12-time0) * 10\u001b[01;35m\u001b[K0\u001b[m\u001b[K);\n",
            "                                                                                                                                                        \u001b[01;35m\u001b[K^\u001b[m\u001b[K\n",
            "\u001b[01m\u001b[Kgraphics.c:\u001b[m\u001b[K In function ‘\u001b[01m\u001b[Kvoid read_graphics(char*, float*, int, int, int)\u001b[m\u001b[K’:\n",
            "\u001b[01m\u001b[Kgraphics.c:135:7:\u001b[m\u001b[K \u001b[01;35m\u001b[Kwarning: \u001b[m\u001b[Kignoring return value of ‘\u001b[01m\u001b[Kint fscanf(FILE*, const char*, ...)\u001b[m\u001b[K’, declared with attribute warn_unused_result [\u001b[01;35m\u001b[K-Wunused-result\u001b[m\u001b[K]\n",
            " \u001b[01;35m\u001b[K    fscanf(fid, \"%d\", &t\u001b[m\u001b[Kemp);\n",
            "     \u001b[01;35m\u001b[K~~^~~~~~~~~~~~~~~~~~\u001b[m\u001b[K\n",
            "\u001b[01m\u001b[Kgraphics.c:143:7:\u001b[m\u001b[K \u001b[01;35m\u001b[Kwarning: \u001b[m\u001b[Kignoring return value of ‘\u001b[01m\u001b[Kint fscanf(FILE*, const char*, ...)\u001b[m\u001b[K’, declared with attribute warn_unused_result [\u001b[01;35m\u001b[K-Wunused-result\u001b[m\u001b[K]\n",
            " \u001b[01;35m\u001b[K    fscanf(fid, \"%d\", &t\u001b[m\u001b[Kemp);\n",
            "     \u001b[01;35m\u001b[K~~^~~~~~~~~~~~~~~~~~\u001b[m\u001b[K\n",
            "/usr/local/cuda/bin/nvcc\tmain.o \\\n",
            "\t\t\t-I/usr/local/cuda/include \\\n",
            "\t\t\t-L/usr/local/cuda/lib64  \\\n",
            "\t\t\t-lm -lcuda -lcudart -o srad\n"
          ]
        }
      ]
    },
    {
      "cell_type": "code",
      "source": [
        "!./lavaMD -boxes1d 10"
      ],
      "metadata": {
        "colab": {
          "base_uri": "https://localhost:8080/"
        },
        "id": "a2JBOQYDwhPB",
        "outputId": "c6ddc3b4-61ba-48d3-9267-401c2034d9bc"
      },
      "execution_count": null,
      "outputs": [
        {
          "output_type": "stream",
          "name": "stdout",
          "text": [
            "thread block size of kernel = 128 \n",
            "Configuration used: boxes1d = 10\n",
            "Time spent in different stages of GPU_CUDA KERNEL:\n",
            " 0.385991007090 s, 64.005088806152 % : GPU: SET DEVICE / DRIVER INIT\n",
            " 0.000383000006 s,  0.063509121537 % : GPU MEM: ALO\n",
            " 0.001920999959 s,  0.318540513515 % : GPU MEM: COPY IN\n",
            " 0.213548004627 s, 35.410560607910 % : GPU: KERNEL\n",
            " 0.000784999982 s,  0.130168825388 % : GPU MEM: COPY OUT\n",
            " 0.000434999994 s,  0.072131767869 % : GPU MEM: FRE\n",
            "Total time:\n",
            "0.603062987328 s\n"
          ]
        }
      ]
    },
    {
      "cell_type": "code",
      "source": [
        "!./b+tree -b+tree.out"
      ],
      "metadata": {
        "colab": {
          "base_uri": "https://localhost:8080/"
        },
        "id": "tNKBcpIDzPwy",
        "outputId": "33419fe4-dfb6-4cb8-9bd6-7d5bc84f54ef"
      },
      "execution_count": null,
      "outputs": [
        {
          "output_type": "stream",
          "name": "stdout",
          "text": [
            "/bin/bash: ./b+tree: No such file or directory\n"
          ]
        }
      ]
    },
    {
      "cell_type": "code",
      "source": [
        "%cd \"/content/drive//My Drive/rodinia_3.1/openmp/lavaMD\"\n",
        "!ls"
      ],
      "metadata": {
        "colab": {
          "base_uri": "https://localhost:8080/"
        },
        "id": "EiDD4r1U25pj",
        "outputId": "243efa51-2c21-4e74-8a3f-cb04e584d0f4"
      },
      "execution_count": null,
      "outputs": [
        {
          "output_type": "stream",
          "name": "stdout",
          "text": [
            "/content/drive/My Drive/rodinia_3.1/openmp/lavaMD\n",
            "kernel\tmain.c\tmain.h\tmakefile  README  run  util\n"
          ]
        }
      ]
    },
    {
      "cell_type": "code",
      "source": [
        "!make clean\n",
        "!make OUTPUT=Y"
      ],
      "metadata": {
        "colab": {
          "base_uri": "https://localhost:8080/"
        },
        "id": "KfCr3vSL_hmc",
        "outputId": "2dcf3026-26ad-46b6-ba7a-ee53cbbaf2a3"
      },
      "execution_count": null,
      "outputs": [
        {
          "output_type": "stream",
          "name": "stdout",
          "text": [
            "rm\t*.o \\\n",
            "\t./kernel/*.o \\\n",
            "\t./util/num/*.o \\\n",
            "\t./util/timer/*.o \\\n",
            "                ./util/device/*.o \\\n",
            "\tlavaMD\n",
            "rm: cannot remove '*.o': No such file or directory\n",
            "rm: cannot remove './kernel/*.o': No such file or directory\n",
            "rm: cannot remove './util/num/*.o': No such file or directory\n",
            "rm: cannot remove './util/timer/*.o': No such file or directory\n",
            "rm: cannot remove './util/device/*.o': No such file or directory\n",
            "rm: cannot remove 'lavaMD': No such file or directory\n",
            "makefile:67: recipe for target 'clean' failed\n",
            "make: *** [clean] Error 1\n",
            "gcc\t-DOUTPUT main.c \\\n",
            "\t\t-c \\\n",
            "\t\t-o main.o \\\n",
            "\t\t-O3\n",
            "\u001b[01m\u001b[Kmain.c:\u001b[m\u001b[K In function ‘\u001b[01m\u001b[Kmain\u001b[m\u001b[K’:\n",
            "\u001b[01m\u001b[Kmain.c:95:6:\u001b[m\u001b[K \u001b[01;35m\u001b[Kwarning: \u001b[m\u001b[Kimplicit declaration of function ‘\u001b[01m\u001b[Kstrcmp\u001b[m\u001b[K’ [\u001b[01;35m\u001b[K-Wimplicit-function-declaration\u001b[m\u001b[K]\n",
            "   if(\u001b[01;35m\u001b[Kstrcmp\u001b[m\u001b[K(argv[dim_cpu.cur_arg], \"-cores\")==0){\n",
            "      \u001b[01;35m\u001b[K^~~~~~\u001b[m\u001b[K\n",
            "\u001b[01m\u001b[Kmain.c:253:8:\u001b[m\u001b[K \u001b[01;35m\u001b[Kwarning: \u001b[m\u001b[Kimplicit declaration of function ‘\u001b[01m\u001b[Ktime\u001b[m\u001b[K’; did you mean ‘\u001b[01m\u001b[Ktrue\u001b[m\u001b[K’? [\u001b[01;35m\u001b[K-Wimplicit-function-declaration\u001b[m\u001b[K]\n",
            "  srand(\u001b[01;35m\u001b[Ktime\u001b[m\u001b[K(NULL));\n",
            "        \u001b[01;35m\u001b[K^~~~\u001b[m\u001b[K\n",
            "        \u001b[32m\u001b[Ktrue\u001b[m\u001b[K\n",
            "gcc\t\t\t\t./kernel/kernel_cpu.c \\\n",
            "\t\t\t\t\t-c \\\n",
            "\t\t\t\t\t-o ./kernel/kernel_cpu.o \\\n",
            "\t\t\t\t\t-O3 \\\n",
            "\t\t\t\t\t-fopenmp\n",
            "\u001b[01m\u001b[K./kernel/kernel_cpu.c:\u001b[m\u001b[K In function ‘\u001b[01m\u001b[Kkernel_cpu\u001b[m\u001b[K’:\n",
            "\u001b[01m\u001b[K./kernel/kernel_cpu.c:206:31:\u001b[m\u001b[K \u001b[01;35m\u001b[Kwarning: \u001b[m\u001b[Kunknown conversion type character ‘\u001b[01m\u001b[K:\u001b[m\u001b[K’ in format [\u001b[01;35m\u001b[K-Wformat=\u001b[m\u001b[K]\n",
            "  printf(\"%15.12f s, %15.12f % \u001b[01;35m\u001b[K:\u001b[m\u001b[K CPU/MCPU: VARIABLES\\n\",    (float) (time1-time0) / 1000000, (float) (time1-time0) / (float) (time4-time0) * 100);\n",
            "                               \u001b[01;35m\u001b[K^\u001b[m\u001b[K\n",
            "\u001b[01m\u001b[K./kernel/kernel_cpu.c:207:31:\u001b[m\u001b[K \u001b[01;35m\u001b[Kwarning: \u001b[m\u001b[Kunknown conversion type character ‘\u001b[01m\u001b[K:\u001b[m\u001b[K’ in format [\u001b[01;35m\u001b[K-Wformat=\u001b[m\u001b[K]\n",
            "  printf(\"%15.12f s, %15.12f % \u001b[01;35m\u001b[K:\u001b[m\u001b[K MCPU: SET DEVICE\\n\",     (float) (time2-time1) / 1000000, (float) (time2-time1) / (float) (time4-time0) * 100);\n",
            "                               \u001b[01;35m\u001b[K^\u001b[m\u001b[K\n",
            "\u001b[01m\u001b[K./kernel/kernel_cpu.c:208:31:\u001b[m\u001b[K \u001b[01;35m\u001b[Kwarning: \u001b[m\u001b[Kunknown conversion type character ‘\u001b[01m\u001b[K:\u001b[m\u001b[K’ in format [\u001b[01;35m\u001b[K-Wformat=\u001b[m\u001b[K]\n",
            "  printf(\"%15.12f s, %15.12f % \u001b[01;35m\u001b[K:\u001b[m\u001b[K CPU/MCPU: INPUTS\\n\",     (float) (time3-time2) / 1000000, (float) (time3-time2) / (float) (time4-time0) * 100);\n",
            "                               \u001b[01;35m\u001b[K^\u001b[m\u001b[K\n",
            "\u001b[01m\u001b[K./kernel/kernel_cpu.c:209:31:\u001b[m\u001b[K \u001b[01;35m\u001b[Kwarning: \u001b[m\u001b[Kunknown conversion type character ‘\u001b[01m\u001b[K:\u001b[m\u001b[K’ in format [\u001b[01;35m\u001b[K-Wformat=\u001b[m\u001b[K]\n",
            "  printf(\"%15.12f s, %15.12f % \u001b[01;35m\u001b[K:\u001b[m\u001b[K CPU/MCPU: KERNEL\\n\",     (float) (time4-time3) / 1000000, (float) (time4-time3) / (float) (time4-time0) * 100);\n",
            "                               \u001b[01;35m\u001b[K^\u001b[m\u001b[K\n",
            "gcc\t\t\t./util/num/num.c \\\n",
            "\t\t\t\t-c \\\n",
            "\t\t\t\t-o ./util/num/num.o \\\n",
            "\t\t\t\t-O3\n",
            "gcc\t\t\t\t./util/timer/timer.c \\\n",
            "\t\t\t\t\t-c \\\n",
            "\t\t\t\t\t-o ./util/timer/timer.o \\\n",
            "\t\t\t\t\t-O3\n",
            "\u001b[01m\u001b[K./util/timer/timer.c:\u001b[m\u001b[K In function ‘\u001b[01m\u001b[Kget_time\u001b[m\u001b[K’:\n",
            "\u001b[01m\u001b[K./util/timer/timer.c:26:2:\u001b[m\u001b[K \u001b[01;35m\u001b[Kwarning: \u001b[m\u001b[Kimplicit declaration of function ‘\u001b[01m\u001b[Kgettimeofday\u001b[m\u001b[K’; did you mean ‘\u001b[01m\u001b[Kget_time\u001b[m\u001b[K’? [\u001b[01;35m\u001b[K-Wimplicit-function-declaration\u001b[m\u001b[K]\n",
            "  \u001b[01;35m\u001b[Kgettimeofday\u001b[m\u001b[K(&tv, NULL);\n",
            "  \u001b[01;35m\u001b[K^~~~~~~~~~~~\u001b[m\u001b[K\n",
            "  \u001b[32m\u001b[Kget_time\u001b[m\u001b[K\n",
            "gcc\tmain.o \\\n",
            "\t\t./kernel/kernel_cpu.o \\\n",
            "\t\t./util/num/num.o \\\n",
            "\t\t./util/timer/timer.o \\\n",
            "\t\t-lm \\\n",
            "\t\t-lgomp \\\n",
            "\t\t-o lavaMD\n"
          ]
        }
      ]
    },
    {
      "cell_type": "code",
      "source": [
        "!./lavaMD -cores 4 -boxes1d 10"
      ],
      "metadata": {
        "colab": {
          "base_uri": "https://localhost:8080/"
        },
        "id": "OnGS8mVv_mIm",
        "outputId": "6cdb44f2-e541-4986-afcd-70a63d9f9e12"
      },
      "execution_count": null,
      "outputs": [
        {
          "output_type": "stream",
          "name": "stdout",
          "text": [
            "Configuration used: cores = 4, boxes1d = 10\n",
            "Time spent in different stages of CPU/MCPU KERNEL:\n",
            " 0.000000000000 s,  0.000000000000 % : CPU/MCPU: VARIABLES\n",
            " 0.000012000000 s,  0.000180889896 % : MCPU: SET DEVICE\n",
            " 0.000000000000 s,  0.000000000000 % : CPU/MCPU: INPUTS\n",
            " 6.633858203888 s, 99.999824523926 % : CPU/MCPU: KERNEL\n",
            "Total time:\n",
            "6.633870124817 s\n"
          ]
        }
      ]
    },
    {
      "cell_type": "code",
      "source": [
        "! ./srad 100 0.5 502 458 4"
      ],
      "metadata": {
        "colab": {
          "base_uri": "https://localhost:8080/"
        },
        "id": "eH-iFvWF-TWd",
        "outputId": "bdfebc12-f777-4693-e621-e990ce9d0c59"
      },
      "execution_count": null,
      "outputs": [
        {
          "output_type": "stream",
          "name": "stdout",
          "text": [
            "Time spent in different stages of the application:\n",
            "0.000000000000 s, 0.000000000000 % : SETUP VARIABLES\n",
            "0.000015000000 s, 0.003058839822 % : READ COMMAND LINE PARAMETERS\n",
            "0.019641999155 s, 4.005448818207 % : READ IMAGE FROM FILE\n",
            "0.000667000015 s, 0.136016413569 % : RESIZE IMAGE\n",
            "0.000061999999 s, 0.012643205002 % : SETUP, MEMORY ALLOCATION\n",
            "0.003490000032 s, 0.711690068245 % : EXTRACT IMAGE\n",
            "0.432675987482 s, 88.232437133789 % : COMPUTE\n",
            "0.004550000187 s, 0.927848100662 % : COMPRESS IMAGE\n",
            "0.028831999749 s, 5.879498004913 % : SAVE IMAGE INTO FILE\n",
            "0.000448000006 s, 0.091357350349 % : FREE MEMORY\n",
            "Total time:\n",
            "0.490381985903 s\n"
          ]
        }
      ]
    },
    {
      "cell_type": "code",
      "source": [
        "!./b+tree.out core 2 file ../../data/b+tree/mil.txt command ../../data/b+tree/command.txt"
      ],
      "metadata": {
        "colab": {
          "base_uri": "https://localhost:8080/"
        },
        "id": "pvdUepEM9l-m",
        "outputId": "cb544580-afa4-4356-93ec-e4d44ceaa0ee"
      },
      "execution_count": null,
      "outputs": [
        {
          "output_type": "stream",
          "name": "stdout",
          "text": [
            "Input File: ../../data/b+tree/mil.txt \n",
            "Command File: ../../data/b+tree/command.txt \n",
            "Command Buffer: \n",
            "j 6000 3000\n",
            "k 10000\n",
            "\n",
            "\n",
            "Getting input from file core...\n",
            "Transforming data to a GPU suitable structure...\n",
            "Tree transformation took 0.030553\n",
            "Waiting for command\n",
            "> \n",
            "******command: j count=6000, rSize=6000 \n",
            "Time spent in different stages of CPU/MCPU KERNEL:\n",
            " 0.000016000000 s,  0.110926233232 % : MCPU: SET DEVICE\n",
            " 0.014407999814 s, 99.889076232910 % : CPU/MCPU: KERNEL\n",
            "Total time:\n",
            "0.014423999935 s\n",
            "> > > > > > > > > > > > \n",
            " ******command: k count=10000 \n",
            "Time spent in different stages of CPU/MCPU KERNEL:\n",
            " 0.000001000000 s,  0.007770611439 % : MCPU: SET DEVICE\n",
            " 0.012868000194 s, 99.992225646973 % : CPU/MCPU: KERNEL\n",
            "Total time:\n",
            "0.012869000435 s\n",
            "> > > > > > > > > > \n"
          ]
        }
      ]
    },
    {
      "cell_type": "code",
      "source": [
        "!./b+tree.out file ../../data/b+tree/mil.txt command ../../data/b+tree/command.txt"
      ],
      "metadata": {
        "colab": {
          "base_uri": "https://localhost:8080/"
        },
        "id": "gt7E1Qia8erb",
        "outputId": "b5fd6f99-7964-45b8-b611-94705657e4e9"
      },
      "execution_count": null,
      "outputs": [
        {
          "output_type": "stream",
          "name": "stdout",
          "text": [
            "WG size of kernel 1 & 2  = 256 \n",
            "Selecting device 0\n",
            "Input File: ../../data/b+tree/mil.txt \n",
            "Command File: ../../data/b+tree/command.txt \n",
            "Command Buffer: \n",
            "j 6000 3000\n",
            "k 10000\n",
            "\n",
            "\n",
            "-1467Getting input from file ../../data/b+tree/mil.txt...\n",
            "Transforming data to a GPU suitable structure...\n",
            "Tree transformation took 0.091135\n",
            "Waiting for command\n",
            "> \n",
            "******command: j count=6000, rSize=6000 \n",
            "knodes_elem=7874, knodes_unit_mem=2068, knodes_mem=16283432\n",
            "# of blocks = 6000, # of threads/block = 256 (ensure that device can handle)\n",
            "Time spent in different stages of GPU_CUDA KERNEL:\n",
            " 0.190584003925 s, 97.406204223633 % : GPU: SET DEVICE / DRIVER INIT\n",
            " 0.000273999991 s,  0.140039548278 % : GPU MEM: ALO\n",
            " 0.003650000086 s,  1.865490555763 % : GPU MEM: COPY IN\n",
            " 0.000288000010 s,  0.147194862366 % : GPU: KERNEL\n",
            " 0.000035000001 s,  0.017888264731 % : GPU MEM: COPY OUT\n",
            " 0.000828000018 s,  0.423185259104 % : GPU MEM: FRE\n",
            "Total time:\n",
            "0.195658996701 s\n",
            "> > > > > > > > > > > > \n",
            " ******command: k count=10000 \n",
            "records_elem=1000000, records_unit_mem=4, records_mem=4000000\n",
            "knodes_elem=7874, knodes_unit_mem=2068, knodes_mem=16283432\n",
            "# of blocks = 10000, # of threads/block = 256 (ensure that device can handle)\n",
            "Time spent in different stages of GPU_CUDA KERNEL:\n",
            " 0.000022000000 s,  0.278692662716 % : GPU: SET DEVICE / DRIVER INIT\n",
            " 0.000353000010 s,  4.471750736237 % : GPU MEM: ALO\n",
            " 0.005905999802 s, 74.816314697266 % : GPU MEM: COPY IN\n",
            " 0.000444000005 s,  5.624525070190 % : GPU: KERNEL\n",
            " 0.000034000001 s,  0.430706888437 % : GPU MEM: COPY OUT\n",
            " 0.001135000028 s, 14.378007888794 % : GPU MEM: FRE\n",
            "Total time:\n",
            "0.007894000039 s\n",
            "> > > > > > > > > > > > > > > \n"
          ]
        }
      ]
    },
    {
      "cell_type": "code",
      "source": [
        "%cd \"/content/drive//My Drive/rodinia_3.1/cuda/srad/srad_v1\"\n",
        "!ls"
      ],
      "metadata": {
        "colab": {
          "base_uri": "https://localhost:8080/"
        },
        "id": "kxqbeJT8x7eS",
        "outputId": "d5e95a67-ae8a-43d4-8430-6517ac02b1d4"
      },
      "execution_count": null,
      "outputs": [
        {
          "output_type": "stream",
          "name": "stdout",
          "text": [
            "/content/drive/My Drive/rodinia_3.1/cuda/srad/srad_v1\n",
            "a.out\t\t    graphics.c\t   makefile\t      run\n",
            "compress_kernel.cu  image_out.pgm  prepare_kernel.cu  srad\n",
            "define.c\t    include.h\t   README\t      srad2_kernel.cu\n",
            "device.c\t    main.cu\t   reduce_kernel.cu   srad_kernel.cu\n",
            "extract_kernel.cu   main.o\t   resize.c\t      timer.c\n"
          ]
        }
      ]
    },
    {
      "cell_type": "code",
      "source": [
        "!make clean\n",
        "!make KERNEL_DIM=\"-DRD_WG_SIZE_0=16\""
      ],
      "metadata": {
        "colab": {
          "base_uri": "https://localhost:8080/"
        },
        "id": "uI3c1UCF3dAJ",
        "outputId": "5a91fcae-7909-4a3b-8067-f02120f9d19d"
      },
      "execution_count": null,
      "outputs": [
        {
          "output_type": "stream",
          "name": "stdout",
          "text": [
            "rm *.o srad\n",
            "rm: cannot remove '*.o': No such file or directory\n",
            "rm: cannot remove 'srad': No such file or directory\n",
            "makefile:24: recipe for target 'clean' failed\n",
            "make: *** [clean] Error 1\n",
            "gcc\tmain.c \\\n",
            "\t\t-c -O3 -fopenmp\n",
            "\u001b[01m\u001b[Kmain.c:\u001b[m\u001b[K In function ‘\u001b[01m\u001b[Kmain\u001b[m\u001b[K’:\n",
            "\u001b[01m\u001b[Kmain.c:369:27:\u001b[m\u001b[K \u001b[01;35m\u001b[Kwarning: \u001b[m\u001b[Kunknown conversion type character ‘\u001b[01m\u001b[K:\u001b[m\u001b[K’ in format [\u001b[01;35m\u001b[K-Wformat=\u001b[m\u001b[K]\n",
            "  printf(\"%.12f s, %.12f % \u001b[01;35m\u001b[K:\u001b[m\u001b[K SETUP VARIABLES\\n\",          (float) (time1-time0) / 1000000, (float) (time1-time0) / (float) (time10-time0) * 100);\n",
            "                           \u001b[01;35m\u001b[K^\u001b[m\u001b[K\n",
            "\u001b[01m\u001b[Kmain.c:370:27:\u001b[m\u001b[K \u001b[01;35m\u001b[Kwarning: \u001b[m\u001b[Kunknown conversion type character ‘\u001b[01m\u001b[K:\u001b[m\u001b[K’ in format [\u001b[01;35m\u001b[K-Wformat=\u001b[m\u001b[K]\n",
            "  printf(\"%.12f s, %.12f % \u001b[01;35m\u001b[K:\u001b[m\u001b[K READ COMMAND LINE PARAMETERS\\n\",  (float) (time2-time1) / 1000000, (float) (time2-time1) / (float) (time10-time0) * 100);\n",
            "                           \u001b[01;35m\u001b[K^\u001b[m\u001b[K\n",
            "\u001b[01m\u001b[Kmain.c:371:27:\u001b[m\u001b[K \u001b[01;35m\u001b[Kwarning: \u001b[m\u001b[Kunknown conversion type character ‘\u001b[01m\u001b[K:\u001b[m\u001b[K’ in format [\u001b[01;35m\u001b[K-Wformat=\u001b[m\u001b[K]\n",
            "  printf(\"%.12f s, %.12f % \u001b[01;35m\u001b[K:\u001b[m\u001b[K READ IMAGE FROM FILE\\n\",       (float) (time3-time2) / 1000000, (float) (time3-time2) / (float) (time10-time0) * 100);\n",
            "                           \u001b[01;35m\u001b[K^\u001b[m\u001b[K\n",
            "\u001b[01m\u001b[Kmain.c:372:27:\u001b[m\u001b[K \u001b[01;35m\u001b[Kwarning: \u001b[m\u001b[Kunknown conversion type character ‘\u001b[01m\u001b[K:\u001b[m\u001b[K’ in format [\u001b[01;35m\u001b[K-Wformat=\u001b[m\u001b[K]\n",
            "  printf(\"%.12f s, %.12f % \u001b[01;35m\u001b[K:\u001b[m\u001b[K RESIZE IMAGE\\n\",           (float) (time4-time3) / 1000000, (float) (time4-time3) / (float) (time10-time0) * 100);\n",
            "                           \u001b[01;35m\u001b[K^\u001b[m\u001b[K\n",
            "\u001b[01m\u001b[Kmain.c:373:27:\u001b[m\u001b[K \u001b[01;35m\u001b[Kwarning: \u001b[m\u001b[Kunknown conversion type character ‘\u001b[01m\u001b[K:\u001b[m\u001b[K’ in format [\u001b[01;35m\u001b[K-Wformat=\u001b[m\u001b[K]\n",
            "  printf(\"%.12f s, %.12f % \u001b[01;35m\u001b[K:\u001b[m\u001b[K SETUP, MEMORY ALLOCATION\\n\",     (float) (time5-time4) / 1000000, (float) (time5-time4) / (float) (time10-time0) * 100);\n",
            "                           \u001b[01;35m\u001b[K^\u001b[m\u001b[K\n",
            "\u001b[01m\u001b[Kmain.c:374:27:\u001b[m\u001b[K \u001b[01;35m\u001b[Kwarning: \u001b[m\u001b[Kunknown conversion type character ‘\u001b[01m\u001b[K:\u001b[m\u001b[K’ in format [\u001b[01;35m\u001b[K-Wformat=\u001b[m\u001b[K]\n",
            "  printf(\"%.12f s, %.12f % \u001b[01;35m\u001b[K:\u001b[m\u001b[K EXTRACT IMAGE\\n\",          (float) (time6-time5) / 1000000, (float) (time6-time5) / (float) (time10-time0) * 100);\n",
            "                           \u001b[01;35m\u001b[K^\u001b[m\u001b[K\n",
            "\u001b[01m\u001b[Kmain.c:375:27:\u001b[m\u001b[K \u001b[01;35m\u001b[Kwarning: \u001b[m\u001b[Kunknown conversion type character ‘\u001b[01m\u001b[K:\u001b[m\u001b[K’ in format [\u001b[01;35m\u001b[K-Wformat=\u001b[m\u001b[K]\n",
            "  printf(\"%.12f s, %.12f % \u001b[01;35m\u001b[K:\u001b[m\u001b[K COMPUTE\\n\",             (float) (time7-time6) / 1000000, (float) (time7-time6) / (float) (time10-time0) * 100);\n",
            "                           \u001b[01;35m\u001b[K^\u001b[m\u001b[K\n",
            "\u001b[01m\u001b[Kmain.c:376:27:\u001b[m\u001b[K \u001b[01;35m\u001b[Kwarning: \u001b[m\u001b[Kunknown conversion type character ‘\u001b[01m\u001b[K:\u001b[m\u001b[K’ in format [\u001b[01;35m\u001b[K-Wformat=\u001b[m\u001b[K]\n",
            "  printf(\"%.12f s, %.12f % \u001b[01;35m\u001b[K:\u001b[m\u001b[K COMPRESS IMAGE\\n\",          (float) (time8-time7) / 1000000, (float) (time8-time7) / (float) (time10-time0) * 100);\n",
            "                           \u001b[01;35m\u001b[K^\u001b[m\u001b[K\n",
            "\u001b[01m\u001b[Kmain.c:377:27:\u001b[m\u001b[K \u001b[01;35m\u001b[Kwarning: \u001b[m\u001b[Kunknown conversion type character ‘\u001b[01m\u001b[K:\u001b[m\u001b[K’ in format [\u001b[01;35m\u001b[K-Wformat=\u001b[m\u001b[K]\n",
            "  printf(\"%.12f s, %.12f % \u001b[01;35m\u001b[K:\u001b[m\u001b[K SAVE IMAGE INTO FILE\\n\",        (float) (time9-time8) / 1000000, (float) (time9-time8) / (float) (time10-time0) * 100);\n",
            "                           \u001b[01;35m\u001b[K^\u001b[m\u001b[K\n",
            "\u001b[01m\u001b[Kmain.c:378:27:\u001b[m\u001b[K \u001b[01;35m\u001b[Kwarning: \u001b[m\u001b[Kunknown conversion type character ‘\u001b[01m\u001b[K:\u001b[m\u001b[K’ in format [\u001b[01;35m\u001b[K-Wformat=\u001b[m\u001b[K]\n",
            "  printf(\"%.12f s, %.12f % \u001b[01;35m\u001b[K:\u001b[m\u001b[K FREE MEMORY\\n\",           (float) (time10-time9) / 1000000, (float) (time10-time9) / (float) (time10-time0) * 100);\n",
            "                           \u001b[01;35m\u001b[K^\u001b[m\u001b[K\n",
            "In file included from \u001b[01m\u001b[Kmain.c:30:0\u001b[m\u001b[K:\n",
            "\u001b[01m\u001b[Kgraphics.c:\u001b[m\u001b[K In function ‘\u001b[01m\u001b[Kread_graphics\u001b[m\u001b[K’:\n",
            "\u001b[01m\u001b[Kgraphics.c:135:5:\u001b[m\u001b[K \u001b[01;35m\u001b[Kwarning: \u001b[m\u001b[Kignoring return value of ‘\u001b[01m\u001b[Kfscanf\u001b[m\u001b[K’, declared with attribute warn_unused_result [\u001b[01;35m\u001b[K-Wunused-result\u001b[m\u001b[K]\n",
            "     \u001b[01;35m\u001b[Kfscanf(fid, \"%d\", &temp)\u001b[m\u001b[K;\n",
            "     \u001b[01;35m\u001b[K^~~~~~~~~~~~~~~~~~~~~~~~\u001b[m\u001b[K\n",
            "\u001b[01m\u001b[Kgraphics.c:143:5:\u001b[m\u001b[K \u001b[01;35m\u001b[Kwarning: \u001b[m\u001b[Kignoring return value of ‘\u001b[01m\u001b[Kfscanf\u001b[m\u001b[K’, declared with attribute warn_unused_result [\u001b[01;35m\u001b[K-Wunused-result\u001b[m\u001b[K]\n",
            "     \u001b[01;35m\u001b[Kfscanf(fid, \"%d\", &temp)\u001b[m\u001b[K;\n",
            "     \u001b[01;35m\u001b[K^~~~~~~~~~~~~~~~~~~~~~~~\u001b[m\u001b[K\n",
            "gcc\tmain.o \\\n",
            "\t\t-lm -fopenmp -o srad\n"
          ]
        }
      ]
    },
    {
      "cell_type": "code",
      "source": [
        "!chmod u+x a.out\n",
        "!./a.out 100 0.5 502 458"
      ],
      "metadata": {
        "colab": {
          "base_uri": "https://localhost:8080/"
        },
        "id": "cE0pCwLU33HX",
        "outputId": "6c70d984-17fd-4ea3-bea9-28f0ac0c8c3f"
      },
      "execution_count": null,
      "outputs": [
        {
          "output_type": "stream",
          "name": "stdout",
          "text": [
            "Time spent in different stages of the application:\n",
            " 0.000001000000 s,  0.000039173177 % : SETUP VARIABLES\n",
            " 0.000024000001 s,  0.000940156286 % : READ COMMAND LINE PARAMETERS\n",
            " 1.306610941887 s, 51.184104919434 % : READ IMAGE FROM FILE\n",
            " 0.001091000042 s,  0.042737938464 % : RESIZE IMAGE\n",
            " 0.317923992872 s, 12.454093933105 % : GPU DRIVER INIT, CPU/GPU SETUP, MEMORY ALLOCATION\n",
            " 0.000207999998 s,  0.008148021065 % : COPY DATA TO CPU->GPU\n",
            " 0.000065000000 s,  0.002546256641 % : EXTRACT IMAGE\n",
            " 0.025328999385 s,  0.992217481136 % : COMPUTE\n",
            " 0.000003000000 s,  0.000117519536 % : COMPRESS IMAGE\n",
            " 0.000415999995 s,  0.016296042129 % : COPY DATA TO GPU->CPU\n",
            " 0.899578988552 s, 35.239368438721 % : SAVE IMAGE INTO FILE\n",
            " 0.001516000018 s,  0.059386540204 % : FREE MEMORY\n",
            "Total time:\n",
            "2.552767038345 s\n"
          ]
        }
      ]
    },
    {
      "cell_type": "code",
      "source": [],
      "metadata": {
        "id": "PuzzFrrQ8Jn1"
      },
      "execution_count": null,
      "outputs": []
    },
    {
      "cell_type": "code",
      "source": [
        "!nvcc -cuda dynproc.cu\n",
        "!nvcc -o dynproc dynproc.cu.cpp "
      ],
      "metadata": {
        "colab": {
          "base_uri": "https://localhost:8080/"
        },
        "id": "P05Ian-J0ZZ2",
        "outputId": "09954504-1856-4836-fa0f-bfbf9c1f91fb"
      },
      "execution_count": null,
      "outputs": [
        {
          "output_type": "stream",
          "name": "stdout",
          "text": [
            "\u001b[01m\u001b[Kgcc:\u001b[m\u001b[K \u001b[01;31m\u001b[Kerror: \u001b[m\u001b[Kdynproc.cu: No such file or directory\n",
            "\u001b[01m\u001b[Kgcc:\u001b[m\u001b[K \u001b[01;35m\u001b[Kwarning: \u001b[m\u001b[K‘\u001b[01m\u001b[K-x c++\u001b[m\u001b[K’ after last input file has no effect\n",
            "\u001b[01m\u001b[Kgcc:\u001b[m\u001b[K \u001b[01;31m\u001b[Kfatal error: \u001b[m\u001b[Kno input files\n",
            "compilation terminated.\n",
            "\u001b[01m\u001b[Kgcc:\u001b[m\u001b[K \u001b[01;31m\u001b[Kerror: \u001b[m\u001b[Kdynproc.cu.cpp: No such file or directory\n",
            "\u001b[01m\u001b[Kgcc:\u001b[m\u001b[K \u001b[01;35m\u001b[Kwarning: \u001b[m\u001b[K‘\u001b[01m\u001b[K-x c++\u001b[m\u001b[K’ after last input file has no effect\n",
            "\u001b[01m\u001b[Kgcc:\u001b[m\u001b[K \u001b[01;31m\u001b[Kfatal error: \u001b[m\u001b[Kno input files\n",
            "compilation terminated.\n"
          ]
        }
      ]
    },
    {
      "cell_type": "code",
      "source": [
        "!make clean\n",
        "!make KERNEL_DIM=\"-DRD_WG_SIZE_0=256\""
      ],
      "metadata": {
        "colab": {
          "base_uri": "https://localhost:8080/"
        },
        "id": "mbFhaxzlygby",
        "outputId": "6b6e6307-e6f2-4116-e3a2-c2a7ead76bdb"
      },
      "execution_count": null,
      "outputs": [
        {
          "output_type": "stream",
          "name": "stdout",
          "text": [
            "rm\t*.o *.out \\\n",
            "\t./kernel/*.o \\\n",
            "\t./util/timer/*.o \\\n",
            "\t./util/num/*.o \\\n",
            "\t./util/cuda/*.o \\\n",
            "                output.txt\n",
            "rm: cannot remove '*.out': No such file or directory\n",
            "rm: cannot remove './kernel/*.o': No such file or directory\n",
            "rm: cannot remove './util/timer/*.o': No such file or directory\n",
            "rm: cannot remove './util/num/*.o': No such file or directory\n",
            "rm: cannot remove './util/cuda/*.o': No such file or directory\n",
            "rm: cannot remove 'output.txt': No such file or directory\n",
            "Makefile:182: recipe for target 'clean' failed\n",
            "make: *** [clean] Error 1\n",
            "gcc\t-DRD_WG_SIZE_0=256 ./main.c \\\n",
            "\t\t-c \\\n",
            "\t\t-o ./main.o \\\n",
            "\t\t-O3\n",
            "\u001b[01m\u001b[K./main.c:\u001b[m\u001b[K In function ‘\u001b[01m\u001b[Ktransform_to_cuda\u001b[m\u001b[K’:\n",
            "\u001b[01m\u001b[K./main.c:652:2:\u001b[m\u001b[K \u001b[01;35m\u001b[Kwarning: \u001b[m\u001b[Kimplicit declaration of function ‘\u001b[01m\u001b[Kgettimeofday\u001b[m\u001b[K’; did you mean ‘\u001b[01m\u001b[Kget_time\u001b[m\u001b[K’? [\u001b[01;35m\u001b[K-Wimplicit-function-declaration\u001b[m\u001b[K]\n",
            "  \u001b[01;35m\u001b[Kgettimeofday\u001b[m\u001b[K (&one, NULL);\n",
            "  \u001b[01;35m\u001b[K^~~~~~~~~~~~\u001b[m\u001b[K\n",
            "  \u001b[32m\u001b[Kget_time\u001b[m\u001b[K\n",
            "\u001b[01m\u001b[K./main.c:737:34:\u001b[m\u001b[K \u001b[01;35m\u001b[Kwarning: \u001b[m\u001b[Kformat ‘\u001b[01m\u001b[K%d\u001b[m\u001b[K’ expects argument of type ‘\u001b[01m\u001b[Kint\u001b[m\u001b[K’, but argument 2 has type ‘\u001b[01m\u001b[Klong int\u001b[m\u001b[K’ [\u001b[01;35m\u001b[K-Wformat=\u001b[m\u001b[K]\n",
            "   printf(\"\\nNumber of records = \u001b[01;35m\u001b[K%d\u001b[m\u001b[K, sizeof(record)=%d, total=%d\\n\",size,sizeof(record),size*sizeof(record));\n",
            "                                 \u001b[01;35m\u001b[K~^\u001b[m\u001b[K\n",
            "                                 \u001b[32m\u001b[K%ld\u001b[m\u001b[K\n",
            "\u001b[01m\u001b[K./main.c:737:53:\u001b[m\u001b[K \u001b[01;35m\u001b[Kwarning: \u001b[m\u001b[Kformat ‘\u001b[01m\u001b[K%d\u001b[m\u001b[K’ expects argument of type ‘\u001b[01m\u001b[Kint\u001b[m\u001b[K’, but argument 3 has type ‘\u001b[01m\u001b[Klong unsigned int\u001b[m\u001b[K’ [\u001b[01;35m\u001b[K-Wformat=\u001b[m\u001b[K]\n",
            "   printf(\"\\nNumber of records = %d, sizeof(record)=\u001b[01;35m\u001b[K%d\u001b[m\u001b[K, total=%d\\n\",size,sizeof(record),size*sizeof(record));\n",
            "                                                    \u001b[01;35m\u001b[K~^\u001b[m\u001b[K\n",
            "                                                    \u001b[32m\u001b[K%ld\u001b[m\u001b[K\n",
            "\u001b[01m\u001b[K./main.c:737:63:\u001b[m\u001b[K \u001b[01;35m\u001b[Kwarning: \u001b[m\u001b[Kformat ‘\u001b[01m\u001b[K%d\u001b[m\u001b[K’ expects argument of type ‘\u001b[01m\u001b[Kint\u001b[m\u001b[K’, but argument 4 has type ‘\u001b[01m\u001b[Klong unsigned int\u001b[m\u001b[K’ [\u001b[01;35m\u001b[K-Wformat=\u001b[m\u001b[K]\n",
            "   printf(\"\\nNumber of records = %d, sizeof(record)=%d, total=\u001b[01;35m\u001b[K%d\u001b[m\u001b[K\\n\",size,sizeof(record),\u001b[32m\u001b[Ksize*sizeof(record)\u001b[m\u001b[K);\n",
            "                                                              \u001b[01;35m\u001b[K~^\u001b[m\u001b[K                        \u001b[32m\u001b[K~~~~~~~~~~~~~~~~~~~\u001b[m\u001b[K\n",
            "                                                              \u001b[32m\u001b[K%ld\u001b[m\u001b[K\n",
            "\u001b[01m\u001b[K./main.c:738:31:\u001b[m\u001b[K \u001b[01;35m\u001b[Kwarning: \u001b[m\u001b[Kformat ‘\u001b[01m\u001b[K%d\u001b[m\u001b[K’ expects argument of type ‘\u001b[01m\u001b[Kint\u001b[m\u001b[K’, but argument 2 has type ‘\u001b[01m\u001b[Klong int\u001b[m\u001b[K’ [\u001b[01;35m\u001b[K-Wformat=\u001b[m\u001b[K]\n",
            "   printf(\"Number of knodes = \u001b[01;35m\u001b[K%d\u001b[m\u001b[K, sizeof(knode)=%d, total=%d\\n\",nodeindex,sizeof(knode),(nodeindex)*sizeof(knode));\n",
            "                              \u001b[01;35m\u001b[K~^\u001b[m\u001b[K\n",
            "                              \u001b[32m\u001b[K%ld\u001b[m\u001b[K\n",
            "\u001b[01m\u001b[K./main.c:738:49:\u001b[m\u001b[K \u001b[01;35m\u001b[Kwarning: \u001b[m\u001b[Kformat ‘\u001b[01m\u001b[K%d\u001b[m\u001b[K’ expects argument of type ‘\u001b[01m\u001b[Kint\u001b[m\u001b[K’, but argument 3 has type ‘\u001b[01m\u001b[Klong unsigned int\u001b[m\u001b[K’ [\u001b[01;35m\u001b[K-Wformat=\u001b[m\u001b[K]\n",
            "   printf(\"Number of knodes = %d, sizeof(knode)=\u001b[01;35m\u001b[K%d\u001b[m\u001b[K, total=%d\\n\",nodeindex,sizeof(knode),(nodeindex)*sizeof(knode));\n",
            "                                                \u001b[01;35m\u001b[K~^\u001b[m\u001b[K\n",
            "                                                \u001b[32m\u001b[K%ld\u001b[m\u001b[K\n",
            "\u001b[01m\u001b[K./main.c:738:59:\u001b[m\u001b[K \u001b[01;35m\u001b[Kwarning: \u001b[m\u001b[Kformat ‘\u001b[01m\u001b[K%d\u001b[m\u001b[K’ expects argument of type ‘\u001b[01m\u001b[Kint\u001b[m\u001b[K’, but argument 4 has type ‘\u001b[01m\u001b[Klong unsigned int\u001b[m\u001b[K’ [\u001b[01;35m\u001b[K-Wformat=\u001b[m\u001b[K]\n",
            "   printf(\"Number of knodes = %d, sizeof(knode)=%d, total=\u001b[01;35m\u001b[K%d\u001b[m\u001b[K\\n\",nodeindex,sizeof(knode),\u001b[32m\u001b[K(nodeindex)*sizeof(knode)\u001b[m\u001b[K);\n",
            "                                                          \u001b[01;35m\u001b[K~^\u001b[m\u001b[K                            \u001b[32m\u001b[K~~~~~~~~~~~~~~~~~~~~~~~~~\u001b[m\u001b[K\n",
            "                                                          \u001b[32m\u001b[K%ld\u001b[m\u001b[K\n",
            "\u001b[01m\u001b[K./main.c:739:45:\u001b[m\u001b[K \u001b[01;35m\u001b[Kwarning: \u001b[m\u001b[Kformat ‘\u001b[01m\u001b[K%d\u001b[m\u001b[K’ expects argument of type ‘\u001b[01m\u001b[Kint\u001b[m\u001b[K’, but argument 2 has type ‘\u001b[01m\u001b[Klong int\u001b[m\u001b[K’ [\u001b[01;35m\u001b[K-Wformat=\u001b[m\u001b[K]\n",
            "   printf(\"\\nDone Transformation. Mem used: \u001b[01;35m\u001b[K%d\u001b[m\u001b[K\\n\", mem_used);\n",
            "                                            \u001b[01;35m\u001b[K~^\u001b[m\u001b[K\n",
            "                                            \u001b[32m\u001b[K%ld\u001b[m\u001b[K\n",
            "\u001b[01m\u001b[K./main.c:\u001b[m\u001b[K In function ‘\u001b[01m\u001b[Kprint_tree\u001b[m\u001b[K’:\n",
            "\u001b[01m\u001b[K./main.c:930:13:\u001b[m\u001b[K \u001b[01;35m\u001b[Kwarning: \u001b[m\u001b[Kformat ‘\u001b[01m\u001b[K%x\u001b[m\u001b[K’ expects argument of type ‘\u001b[01m\u001b[Kunsigned int\u001b[m\u001b[K’, but argument 2 has type ‘\u001b[01m\u001b[Knode * {aka struct node *}\u001b[m\u001b[K’ [\u001b[01;35m\u001b[K-Wformat=\u001b[m\u001b[K]\n",
            "   printf(\"(\u001b[01;35m\u001b[K%x\u001b[m\u001b[K)\", n);\n",
            "            \u001b[01;35m\u001b[K~^\u001b[m\u001b[K\n",
            "\u001b[01m\u001b[K./main.c:933:13:\u001b[m\u001b[K \u001b[01;35m\u001b[Kwarning: \u001b[m\u001b[Kformat ‘\u001b[01m\u001b[K%x\u001b[m\u001b[K’ expects argument of type ‘\u001b[01m\u001b[Kunsigned int\u001b[m\u001b[K’, but argument 2 has type ‘\u001b[01m\u001b[Kvoid *\u001b[m\u001b[K’ [\u001b[01;35m\u001b[K-Wformat=\u001b[m\u001b[K]\n",
            "    printf(\"\u001b[01;35m\u001b[K%x\u001b[m\u001b[K \", \u001b[32m\u001b[Kn->pointers[i]\u001b[m\u001b[K);\n",
            "            \u001b[01;35m\u001b[K~^\u001b[m\u001b[K    \u001b[32m\u001b[K~~~~~~~~~~~~~~\u001b[m\u001b[K\n",
            "            \u001b[32m\u001b[K%p\u001b[m\u001b[K\n",
            "\u001b[01m\u001b[K./main.c:941:13:\u001b[m\u001b[K \u001b[01;35m\u001b[Kwarning: \u001b[m\u001b[Kformat ‘\u001b[01m\u001b[K%x\u001b[m\u001b[K’ expects argument of type ‘\u001b[01m\u001b[Kunsigned int\u001b[m\u001b[K’, but argument 2 has type ‘\u001b[01m\u001b[Kvoid *\u001b[m\u001b[K’ [\u001b[01;35m\u001b[K-Wformat=\u001b[m\u001b[K]\n",
            "    printf(\"\u001b[01;35m\u001b[K%x\u001b[m\u001b[K \", \u001b[32m\u001b[Kn->pointers[order - 1]\u001b[m\u001b[K);\n",
            "            \u001b[01;35m\u001b[K~^\u001b[m\u001b[K    \u001b[32m\u001b[K~~~~~~~~~~~~~~~~~~~~~~\u001b[m\u001b[K\n",
            "            \u001b[32m\u001b[K%p\u001b[m\u001b[K\n",
            "\u001b[01m\u001b[K./main.c:943:13:\u001b[m\u001b[K \u001b[01;35m\u001b[Kwarning: \u001b[m\u001b[Kformat ‘\u001b[01m\u001b[K%x\u001b[m\u001b[K’ expects argument of type ‘\u001b[01m\u001b[Kunsigned int\u001b[m\u001b[K’, but argument 2 has type ‘\u001b[01m\u001b[Kvoid *\u001b[m\u001b[K’ [\u001b[01;35m\u001b[K-Wformat=\u001b[m\u001b[K]\n",
            "    printf(\"\u001b[01;35m\u001b[K%x\u001b[m\u001b[K \", \u001b[32m\u001b[Kn->pointers[n->num_keys]\u001b[m\u001b[K);\n",
            "            \u001b[01;35m\u001b[K~^\u001b[m\u001b[K    \u001b[32m\u001b[K~~~~~~~~~~~~~~~~~~~~~~~~\u001b[m\u001b[K\n",
            "            \u001b[32m\u001b[K%p\u001b[m\u001b[K\n",
            "\u001b[01m\u001b[K./main.c:\u001b[m\u001b[K In function ‘\u001b[01m\u001b[Kmain\u001b[m\u001b[K’:\n",
            "\u001b[01m\u001b[K./main.c:1866:2:\u001b[m\u001b[K \u001b[01;35m\u001b[Kwarning: \u001b[m\u001b[Kimplicit declaration of function ‘\u001b[01m\u001b[KcudaSetDevice\u001b[m\u001b[K’ [\u001b[01;35m\u001b[K-Wimplicit-function-declaration\u001b[m\u001b[K]\n",
            "  \u001b[01;35m\u001b[KcudaSetDevice\u001b[m\u001b[K(device);\n",
            "  \u001b[01;35m\u001b[K^~~~~~~~~~~~~\u001b[m\u001b[K\n",
            "\u001b[01m\u001b[K./main.c:1958:37:\u001b[m\u001b[K \u001b[01;35m\u001b[Kwarning: \u001b[m\u001b[Kpassing argument 2 of ‘\u001b[01m\u001b[Kfputs\u001b[m\u001b[K’ from incompatible pointer type [\u001b[01;35m\u001b[K-Wincompatible-pointer-types\u001b[m\u001b[K]\n",
            "        fputs (\"Fail to open %s !\\n\",\u001b[01;35m\u001b[Koutput\u001b[m\u001b[K);\n",
            "                                     \u001b[01;35m\u001b[K^~~~~~\u001b[m\u001b[K\n",
            "In file included from \u001b[01m\u001b[K./main.c:60:0\u001b[m\u001b[K:\n",
            "\u001b[01m\u001b[K/usr/include/stdio.h:626:12:\u001b[m\u001b[K \u001b[01;36m\u001b[Knote: \u001b[m\u001b[Kexpected ‘\u001b[01m\u001b[KFILE * restrict {aka struct _IO_FILE * restrict}\u001b[m\u001b[K’ but argument is of type ‘\u001b[01m\u001b[Kchar *\u001b[m\u001b[K’\n",
            " extern int \u001b[01;36m\u001b[Kfputs\u001b[m\u001b[K (const char *__restrict __s, FILE *__restrict __stream);\n",
            "            \u001b[01;36m\u001b[K^~~~~\u001b[m\u001b[K\n",
            "\u001b[01m\u001b[K./main.c:2148:48:\u001b[m\u001b[K \u001b[01;35m\u001b[Kwarning: \u001b[m\u001b[Kcomparison between pointer and integer\n",
            "     while(*commandPointer!=32 && commandPointer\u001b[01;35m\u001b[K!=\u001b[m\u001b[K'\\n')\n",
            "                                                \u001b[01;35m\u001b[K^~\u001b[m\u001b[K\n",
            "\u001b[01m\u001b[K./main.c:2224:38:\u001b[m\u001b[K \u001b[01;35m\u001b[Kwarning: \u001b[m\u001b[Kpassing argument 2 of ‘\u001b[01m\u001b[Kfputs\u001b[m\u001b[K’ from incompatible pointer type [\u001b[01;35m\u001b[K-Wincompatible-pointer-types\u001b[m\u001b[K]\n",
            "         fputs (\"Fail to open %s !\\n\",\u001b[01;35m\u001b[Koutput\u001b[m\u001b[K);\n",
            "                                      \u001b[01;35m\u001b[K^~~~~~\u001b[m\u001b[K\n",
            "In file included from \u001b[01m\u001b[K./main.c:60:0\u001b[m\u001b[K:\n",
            "\u001b[01m\u001b[K/usr/include/stdio.h:626:12:\u001b[m\u001b[K \u001b[01;36m\u001b[Knote: \u001b[m\u001b[Kexpected ‘\u001b[01m\u001b[KFILE * restrict {aka struct _IO_FILE * restrict}\u001b[m\u001b[K’ but argument is of type ‘\u001b[01m\u001b[Kchar *\u001b[m\u001b[K’\n",
            " extern int \u001b[01;36m\u001b[Kfputs\u001b[m\u001b[K (const char *__restrict __s, FILE *__restrict __stream);\n",
            "            \u001b[01;36m\u001b[K^~~~~\u001b[m\u001b[K\n",
            "\u001b[01m\u001b[K./main.c:2278:48:\u001b[m\u001b[K \u001b[01;35m\u001b[Kwarning: \u001b[m\u001b[Kcomparison between pointer and integer\n",
            "     while(*commandPointer!=32 && commandPointer\u001b[01;35m\u001b[K!=\u001b[m\u001b[K'\\n')\n",
            "                                                \u001b[01;35m\u001b[K^~\u001b[m\u001b[K\n",
            "\u001b[01m\u001b[K./main.c:2283:48:\u001b[m\u001b[K \u001b[01;35m\u001b[Kwarning: \u001b[m\u001b[Kcomparison between pointer and integer\n",
            "     while(*commandPointer!=32 && commandPointer\u001b[01;35m\u001b[K!=\u001b[m\u001b[K'\\n')\n",
            "                                                \u001b[01;35m\u001b[K^~\u001b[m\u001b[K\n",
            "\u001b[01m\u001b[K./main.c:2371:38:\u001b[m\u001b[K \u001b[01;35m\u001b[Kwarning: \u001b[m\u001b[Kpassing argument 2 of ‘\u001b[01m\u001b[Kfputs\u001b[m\u001b[K’ from incompatible pointer type [\u001b[01;35m\u001b[K-Wincompatible-pointer-types\u001b[m\u001b[K]\n",
            "         fputs (\"Fail to open %s !\\n\",\u001b[01;35m\u001b[Koutput\u001b[m\u001b[K);\n",
            "                                      \u001b[01;35m\u001b[K^~~~~~\u001b[m\u001b[K\n",
            "In file included from \u001b[01m\u001b[K./main.c:60:0\u001b[m\u001b[K:\n",
            "\u001b[01m\u001b[K/usr/include/stdio.h:626:12:\u001b[m\u001b[K \u001b[01;36m\u001b[Knote: \u001b[m\u001b[Kexpected ‘\u001b[01m\u001b[KFILE * restrict {aka struct _IO_FILE * restrict}\u001b[m\u001b[K’ but argument is of type ‘\u001b[01m\u001b[Kchar *\u001b[m\u001b[K’\n",
            " extern int \u001b[01;36m\u001b[Kfputs\u001b[m\u001b[K (const char *__restrict __s, FILE *__restrict __stream);\n",
            "            \u001b[01;36m\u001b[K^~~~~\u001b[m\u001b[K\n",
            "\u001b[01m\u001b[K./main.c:1994:3:\u001b[m\u001b[K \u001b[01;35m\u001b[Kwarning: \u001b[m\u001b[Kignoring return value of ‘\u001b[01m\u001b[Kfscanf\u001b[m\u001b[K’, declared with attribute warn_unused_result [\u001b[01;35m\u001b[K-Wunused-result\u001b[m\u001b[K]\n",
            "   \u001b[01;35m\u001b[Kfscanf(file_pointer, \"%d\\n\", &input)\u001b[m\u001b[K;\n",
            "   \u001b[01;35m\u001b[K^~~~~~~~~~~~~~~~~~~~~~~~~~~~~~~~~~~~\u001b[m\u001b[K\n",
            "\u001b[01m\u001b[K./main.c:1999:4:\u001b[m\u001b[K \u001b[01;35m\u001b[Kwarning: \u001b[m\u001b[Kignoring return value of ‘\u001b[01m\u001b[Kfscanf\u001b[m\u001b[K’, declared with attribute warn_unused_result [\u001b[01;35m\u001b[K-Wunused-result\u001b[m\u001b[K]\n",
            "    \u001b[01;35m\u001b[Kfscanf(file_pointer, \"%d\\n\", &input)\u001b[m\u001b[K;\n",
            "    \u001b[01;35m\u001b[K^~~~~~~~~~~~~~~~~~~~~~~~~~~~~~~~~~~~\u001b[m\u001b[K\n",
            "\u001b[01m\u001b[K./main.c:2039:5:\u001b[m\u001b[K \u001b[01;35m\u001b[Kwarning: \u001b[m\u001b[Kignoring return value of ‘\u001b[01m\u001b[Kscanf\u001b[m\u001b[K’, declared with attribute warn_unused_result [\u001b[01;35m\u001b[K-Wunused-result\u001b[m\u001b[K]\n",
            "     \u001b[01;35m\u001b[Kscanf(\"%d\", &input)\u001b[m\u001b[K;\n",
            "     \u001b[01;35m\u001b[K^~~~~~~~~~~~~~~~~~~\u001b[m\u001b[K\n",
            "\u001b[01m\u001b[K./main.c:2060:5:\u001b[m\u001b[K \u001b[01;35m\u001b[Kwarning: \u001b[m\u001b[Kignoring return value of ‘\u001b[01m\u001b[Kscanf\u001b[m\u001b[K’, declared with attribute warn_unused_result [\u001b[01;35m\u001b[K-Wunused-result\u001b[m\u001b[K]\n",
            "     \u001b[01;35m\u001b[Kscanf(\"%d\", &input)\u001b[m\u001b[K;\n",
            "     \u001b[01;35m\u001b[K^~~~~~~~~~~~~~~~~~~\u001b[m\u001b[K\n",
            "\u001b[01m\u001b[K./main.c:2076:5:\u001b[m\u001b[K \u001b[01;35m\u001b[Kwarning: \u001b[m\u001b[Kignoring return value of ‘\u001b[01m\u001b[Kscanf\u001b[m\u001b[K’, declared with attribute warn_unused_result [\u001b[01;35m\u001b[K-Wunused-result\u001b[m\u001b[K]\n",
            "     \u001b[01;35m\u001b[Kscanf(\"%d\", &input)\u001b[m\u001b[K;\n",
            "     \u001b[01;35m\u001b[K^~~~~~~~~~~~~~~~~~~\u001b[m\u001b[K\n",
            "\u001b[01m\u001b[K./main.c:2252:5:\u001b[m\u001b[K \u001b[01;35m\u001b[Kwarning: \u001b[m\u001b[Kignoring return value of ‘\u001b[01m\u001b[Kscanf\u001b[m\u001b[K’, declared with attribute warn_unused_result [\u001b[01;35m\u001b[K-Wunused-result\u001b[m\u001b[K]\n",
            "     \u001b[01;35m\u001b[Kscanf(\"%d\", &start)\u001b[m\u001b[K;\n",
            "     \u001b[01;35m\u001b[K^~~~~~~~~~~~~~~~~~~\u001b[m\u001b[K\n",
            "\u001b[01m\u001b[K./main.c:2253:5:\u001b[m\u001b[K \u001b[01;35m\u001b[Kwarning: \u001b[m\u001b[Kignoring return value of ‘\u001b[01m\u001b[Kscanf\u001b[m\u001b[K’, declared with attribute warn_unused_result [\u001b[01;35m\u001b[K-Wunused-result\u001b[m\u001b[K]\n",
            "     \u001b[01;35m\u001b[Kscanf(\"%d\", &end)\u001b[m\u001b[K;\n",
            "     \u001b[01;35m\u001b[K^~~~~~~~~~~~~~~~~\u001b[m\u001b[K\n",
            "nvcc -DRD_WG_SIZE_0=256 ./kernel/kernel_gpu_cuda_wrapper.cu \\\n",
            "\t\t\t-c \\\n",
            "\t\t\t-o ./kernel/kernel_gpu_cuda_wrapper.o \\\n",
            "\t\t\t-O3 \\\n",
            "\t\t\t-arch sm_75\n",
            "\u001b[01m\u001b[K./kernel/kernel_gpu_cuda_wrapper.cu:\u001b[m\u001b[K In function ‘\u001b[01m\u001b[Kvoid kernel_gpu_cuda_wrapper(record*, long int, knode*, long int, long int, int, long int, int, long int*, long int*, int*, record*)\u001b[m\u001b[K’:\n",
            "\u001b[01m\u001b[K./kernel/kernel_gpu_cuda_wrapper.cu:78:23:\u001b[m\u001b[K \u001b[01;35m\u001b[Kwarning: \u001b[m\u001b[K‘\u001b[01m\u001b[KcudaError_t cudaThreadSynchronize()\u001b[m\u001b[K’ is deprecated [\u001b[01;35m\u001b[K-Wdeprecated-declarations\u001b[m\u001b[K]\n",
            "  cudaThreadSynchronize\u001b[01;35m\u001b[K(\u001b[m\u001b[K);\n",
            "                       \u001b[01;35m\u001b[K^\u001b[m\u001b[K\n",
            "\u001b[01m\u001b[K/usr/local/cuda/bin/../targets/x86_64-linux/include/cuda_runtime_api.h:1011:46:\u001b[m\u001b[K \u001b[01;36m\u001b[Knote: \u001b[m\u001b[Kdeclared here\n",
            " extern __CUDA_DEPRECATED __host__ cudaError_t\u001b[01;36m\u001b[K CUDARTAPI cudaThread\u001b[m\u001b[KSynchronize(void);\n",
            "                                              \u001b[01;36m\u001b[K^~~~~~~~~~~~~~~~~~~~~\u001b[m\u001b[K\n",
            "\u001b[01m\u001b[K./kernel/kernel_gpu_cuda_wrapper.cu:226:23:\u001b[m\u001b[K \u001b[01;35m\u001b[Kwarning: \u001b[m\u001b[K‘\u001b[01m\u001b[KcudaError_t cudaThreadSynchronize()\u001b[m\u001b[K’ is deprecated [\u001b[01;35m\u001b[K-Wdeprecated-declarations\u001b[m\u001b[K]\n",
            "  cudaThreadSynchronize\u001b[01;35m\u001b[K(\u001b[m\u001b[K);\n",
            "                       \u001b[01;35m\u001b[K^\u001b[m\u001b[K\n",
            "\u001b[01m\u001b[K/usr/local/cuda/bin/../targets/x86_64-linux/include/cuda_runtime_api.h:1011:46:\u001b[m\u001b[K \u001b[01;36m\u001b[Knote: \u001b[m\u001b[Kdeclared here\n",
            " extern __CUDA_DEPRECATED __host__ cudaError_t\u001b[01;36m\u001b[K CUDARTAPI cudaThread\u001b[m\u001b[KSynchronize(void);\n",
            "                                              \u001b[01;36m\u001b[K^~~~~~~~~~~~~~~~~~~~~\u001b[m\u001b[K\n",
            "\u001b[01m\u001b[K./kernel/kernel_gpu_cuda_wrapper.cu:268:165:\u001b[m\u001b[K \u001b[01;35m\u001b[Kwarning: \u001b[m\u001b[Kunknown conversion type character ‘\u001b[01m\u001b[K:\u001b[m\u001b[K’ in format [\u001b[01;35m\u001b[K-Wformat=\u001b[m\u001b[K]\n",
            "  printf(\"%15.12f s, %15.12f % : GPU: SET DEVICE / DRIVER INIT\\n\", (float) (time1-time0) / 1000000, (float) (time1-time0) / (float) (time6-time0) * 100);\n",
            "                                                                                                                                                                     \u001b[01;35m\u001b[K^\u001b[m\u001b[K\n",
            "\u001b[01m\u001b[K./kernel/kernel_gpu_cuda_wrapper.cu:269:148:\u001b[m\u001b[K \u001b[01;35m\u001b[Kwarning: \u001b[m\u001b[Kunknown conversion type character ‘\u001b[01m\u001b[K:\u001b[m\u001b[K’ in format [\u001b[01;35m\u001b[K-Wformat=\u001b[m\u001b[K]\n",
            "  printf(\"%15.12f s, %15.12f % : GPU MEM: ALO\\n\",      (float) (time2-time1) / 1000000, (float) (time2-time1) / (float) (time6-time0) * 100);\n",
            "                                                                                                                                                    \u001b[01;35m\u001b[K^\u001b[m\u001b[K\n",
            "\u001b[01m\u001b[K./kernel/kernel_gpu_cuda_wrapper.cu:270:152:\u001b[m\u001b[K \u001b[01;35m\u001b[Kwarning: \u001b[m\u001b[Kunknown conversion type character ‘\u001b[01m\u001b[K:\u001b[m\u001b[K’ in format [\u001b[01;35m\u001b[K-Wformat=\u001b[m\u001b[K]\n",
            "  printf(\"%15.12f s, %15.12f % : GPU MEM: COPY IN\\n\",     (float) (time3-time2) / 1000000, (float) (time3-time2) / (float) (time6-time0) * 100);\n",
            "                                                                                                                                                        \u001b[01;35m\u001b[K^\u001b[m\u001b[K\n",
            "\u001b[01m\u001b[K./kernel/kernel_gpu_cuda_wrapper.cu:272:147:\u001b[m\u001b[K \u001b[01;35m\u001b[Kwarning: \u001b[m\u001b[Kunknown conversion type character ‘\u001b[01m\u001b[K:\u001b[m\u001b[K’ in format [\u001b[01;35m\u001b[K-Wformat=\u001b[m\u001b[K]\n",
            "  printf(\"%15.12f s, %15.12f % : GPU: KERNEL\\n\",      (float) (time4-time3) / 1000000, (float) (time4-time3) / (float) (time6-time0) * 100);\n",
            "                                                                                                                                                   \u001b[01;35m\u001b[K^\u001b[m\u001b[K\n",
            "\u001b[01m\u001b[K./kernel/kernel_gpu_cuda_wrapper.cu:274:153:\u001b[m\u001b[K \u001b[01;35m\u001b[Kwarning: \u001b[m\u001b[Kunknown conversion type character ‘\u001b[01m\u001b[K:\u001b[m\u001b[K’ in format [\u001b[01;35m\u001b[K-Wformat=\u001b[m\u001b[K]\n",
            "  printf(\"%15.12f s, %15.12f % : GPU MEM: COPY OUT\\n\",    (float) (time5-time4) / 1000000, (float) (time5-time4) / (float) (time6-time0) * 100);\n",
            "                                                                                                                                                         \u001b[01;35m\u001b[K^\u001b[m\u001b[K\n",
            "\u001b[01m\u001b[K./kernel/kernel_gpu_cuda_wrapper.cu:275:148:\u001b[m\u001b[K \u001b[01;35m\u001b[Kwarning: \u001b[m\u001b[Kunknown conversion type character ‘\u001b[01m\u001b[K:\u001b[m\u001b[K’ in format [\u001b[01;35m\u001b[K-Wformat=\u001b[m\u001b[K]\n",
            "  printf(\"%15.12f s, %15.12f % : GPU MEM: FRE\\n\",      (float) (time6-time5) / 1000000, (float) (time6-time5) / (float) (time6-time0) * 100);\n",
            "                                                                                                                                                    \u001b[01;35m\u001b[K^\u001b[m\u001b[K\n",
            "nvcc -DRD_WG_SIZE_0=256 ./kernel/kernel_gpu_cuda_wrapper_2.cu \\\n",
            "\t\t\t-c \\\n",
            "\t\t\t-o ./kernel/kernel_gpu_cuda_wrapper_2.o \\\n",
            "\t\t\t-O3 \\\n",
            "\t\t\t-arch sm_75\n",
            "\u001b[01m\u001b[K./kernel/kernel_gpu_cuda_wrapper_2.cu:\u001b[m\u001b[K In function ‘\u001b[01m\u001b[Kvoid kernel_gpu_cuda_wrapper_2(knode*, long int, long int, int, long int, int, long int*, long int*, long int*, long int*, int*, int*, int*, int*)\u001b[m\u001b[K’:\n",
            "\u001b[01m\u001b[K./kernel/kernel_gpu_cuda_wrapper_2.cu:80:23:\u001b[m\u001b[K \u001b[01;35m\u001b[Kwarning: \u001b[m\u001b[K‘\u001b[01m\u001b[KcudaError_t cudaThreadSynchronize()\u001b[m\u001b[K’ is deprecated [\u001b[01;35m\u001b[K-Wdeprecated-declarations\u001b[m\u001b[K]\n",
            "  cudaThreadSynchronize\u001b[01;35m\u001b[K(\u001b[m\u001b[K);\n",
            "                       \u001b[01;35m\u001b[K^\u001b[m\u001b[K\n",
            "\u001b[01m\u001b[K/usr/local/cuda/bin/../targets/x86_64-linux/include/cuda_runtime_api.h:1011:46:\u001b[m\u001b[K \u001b[01;36m\u001b[Knote: \u001b[m\u001b[Kdeclared here\n",
            " extern __CUDA_DEPRECATED __host__ cudaError_t\u001b[01;36m\u001b[K CUDARTAPI cudaThread\u001b[m\u001b[KSynchronize(void);\n",
            "                                              \u001b[01;36m\u001b[K^~~~~~~~~~~~~~~~~~~~~\u001b[m\u001b[K\n",
            "\u001b[01m\u001b[K./kernel/kernel_gpu_cuda_wrapper_2.cu:275:23:\u001b[m\u001b[K \u001b[01;35m\u001b[Kwarning: \u001b[m\u001b[K‘\u001b[01m\u001b[KcudaError_t cudaThreadSynchronize()\u001b[m\u001b[K’ is deprecated [\u001b[01;35m\u001b[K-Wdeprecated-declarations\u001b[m\u001b[K]\n",
            "  cudaThreadSynchronize\u001b[01;35m\u001b[K(\u001b[m\u001b[K);\n",
            "                       \u001b[01;35m\u001b[K^\u001b[m\u001b[K\n",
            "\u001b[01m\u001b[K/usr/local/cuda/bin/../targets/x86_64-linux/include/cuda_runtime_api.h:1011:46:\u001b[m\u001b[K \u001b[01;36m\u001b[Knote: \u001b[m\u001b[Kdeclared here\n",
            " extern __CUDA_DEPRECATED __host__ cudaError_t\u001b[01;36m\u001b[K CUDARTAPI cudaThread\u001b[m\u001b[KSynchronize(void);\n",
            "                                              \u001b[01;36m\u001b[K^~~~~~~~~~~~~~~~~~~~~\u001b[m\u001b[K\n",
            "\u001b[01m\u001b[K./kernel/kernel_gpu_cuda_wrapper_2.cu:327:165:\u001b[m\u001b[K \u001b[01;35m\u001b[Kwarning: \u001b[m\u001b[Kunknown conversion type character ‘\u001b[01m\u001b[K:\u001b[m\u001b[K’ in format [\u001b[01;35m\u001b[K-Wformat=\u001b[m\u001b[K]\n",
            "  printf(\"%15.12f s, %15.12f % : GPU: SET DEVICE / DRIVER INIT\\n\", (float) (time1-time0) / 1000000, (float) (time1-time0) / (float) (time6-time0) * 100);\n",
            "                                                                                                                                                                     \u001b[01;35m\u001b[K^\u001b[m\u001b[K\n",
            "\u001b[01m\u001b[K./kernel/kernel_gpu_cuda_wrapper_2.cu:328:148:\u001b[m\u001b[K \u001b[01;35m\u001b[Kwarning: \u001b[m\u001b[Kunknown conversion type character ‘\u001b[01m\u001b[K:\u001b[m\u001b[K’ in format [\u001b[01;35m\u001b[K-Wformat=\u001b[m\u001b[K]\n",
            "  printf(\"%15.12f s, %15.12f % : GPU MEM: ALO\\n\",      (float) (time2-time1) / 1000000, (float) (time2-time1) / (float) (time6-time0) * 100);\n",
            "                                                                                                                                                    \u001b[01;35m\u001b[K^\u001b[m\u001b[K\n",
            "\u001b[01m\u001b[K./kernel/kernel_gpu_cuda_wrapper_2.cu:329:152:\u001b[m\u001b[K \u001b[01;35m\u001b[Kwarning: \u001b[m\u001b[Kunknown conversion type character ‘\u001b[01m\u001b[K:\u001b[m\u001b[K’ in format [\u001b[01;35m\u001b[K-Wformat=\u001b[m\u001b[K]\n",
            "  printf(\"%15.12f s, %15.12f % : GPU MEM: COPY IN\\n\",     (float) (time3-time2) / 1000000, (float) (time3-time2) / (float) (time6-time0) * 100);\n",
            "                                                                                                                                                        \u001b[01;35m\u001b[K^\u001b[m\u001b[K\n",
            "\u001b[01m\u001b[K./kernel/kernel_gpu_cuda_wrapper_2.cu:331:147:\u001b[m\u001b[K \u001b[01;35m\u001b[Kwarning: \u001b[m\u001b[Kunknown conversion type character ‘\u001b[01m\u001b[K:\u001b[m\u001b[K’ in format [\u001b[01;35m\u001b[K-Wformat=\u001b[m\u001b[K]\n",
            "  printf(\"%15.12f s, %15.12f % : GPU: KERNEL\\n\",      (float) (time4-time3) / 1000000, (float) (time4-time3) / (float) (time6-time0) * 100);\n",
            "                                                                                                                                                   \u001b[01;35m\u001b[K^\u001b[m\u001b[K\n",
            "\u001b[01m\u001b[K./kernel/kernel_gpu_cuda_wrapper_2.cu:333:153:\u001b[m\u001b[K \u001b[01;35m\u001b[Kwarning: \u001b[m\u001b[Kunknown conversion type character ‘\u001b[01m\u001b[K:\u001b[m\u001b[K’ in format [\u001b[01;35m\u001b[K-Wformat=\u001b[m\u001b[K]\n",
            "  printf(\"%15.12f s, %15.12f % : GPU MEM: COPY OUT\\n\",    (float) (time5-time4) / 1000000, (float) (time5-time4) / (float) (time6-time0) * 100);\n",
            "                                                                                                                                                         \u001b[01;35m\u001b[K^\u001b[m\u001b[K\n",
            "\u001b[01m\u001b[K./kernel/kernel_gpu_cuda_wrapper_2.cu:334:148:\u001b[m\u001b[K \u001b[01;35m\u001b[Kwarning: \u001b[m\u001b[Kunknown conversion type character ‘\u001b[01m\u001b[K:\u001b[m\u001b[K’ in format [\u001b[01;35m\u001b[K-Wformat=\u001b[m\u001b[K]\n",
            "  printf(\"%15.12f s, %15.12f % : GPU MEM: FRE\\n\",      (float) (time6-time5) / 1000000, (float) (time6-time5) / (float) (time6-time0) * 100);\n",
            "                                                                                                                                                    \u001b[01;35m\u001b[K^\u001b[m\u001b[K\n",
            "gcc\t./util/timer/timer.c \\\n",
            "\t\t-c \\\n",
            "\t\t-o ./util/timer/timer.o \\\n",
            "\t\t-O3\n",
            "\u001b[01m\u001b[K./util/timer/timer.c:\u001b[m\u001b[K In function ‘\u001b[01m\u001b[Kget_time\u001b[m\u001b[K’:\n",
            "\u001b[01m\u001b[K./util/timer/timer.c:26:2:\u001b[m\u001b[K \u001b[01;35m\u001b[Kwarning: \u001b[m\u001b[Kimplicit declaration of function ‘\u001b[01m\u001b[Kgettimeofday\u001b[m\u001b[K’; did you mean ‘\u001b[01m\u001b[Kget_time\u001b[m\u001b[K’? [\u001b[01;35m\u001b[K-Wimplicit-function-declaration\u001b[m\u001b[K]\n",
            "  \u001b[01;35m\u001b[Kgettimeofday\u001b[m\u001b[K(&tv, NULL);\n",
            "  \u001b[01;35m\u001b[K^~~~~~~~~~~~\u001b[m\u001b[K\n",
            "  \u001b[32m\u001b[Kget_time\u001b[m\u001b[K\n",
            "gcc\t./util/num/num.c \\\n",
            "\t\t-c \\\n",
            "\t\t-o ./util/num/num.o \\\n",
            "\t\t-O3\n",
            "nvcc\t./util/cuda/cuda.cu \\\n",
            "\t\t\t-c \\\n",
            "\t\t\t-o ./util/cuda/cuda.o \\\n",
            "\t\t\t-O3 \\\n",
            "\t\t\t-arch sm_75\n",
            "gcc\t./main.o \\\n",
            "\t\t./kernel/kernel_gpu_cuda_wrapper.o \\\n",
            "\t\t./kernel/kernel_gpu_cuda_wrapper_2.o \\\n",
            "\t\t./util/timer/timer.o \\\n",
            "\t\t./util/num/num.o \\\n",
            "\t\t./util/cuda/cuda.o \\\n",
            "\t\t-lm \\\n",
            "\t\t-L/usr/local/cuda/lib64 \\\n",
            "\t\t-lcuda -lcudart\\\n",
            "                       -o b+tree.out\n"
          ]
        }
      ]
    },
    {
      "cell_type": "code",
      "source": [
        "!cp -rf \"/content/drive//My Drive/rodinia_3.1/cuda/b+tree\" ./run"
      ],
      "metadata": {
        "id": "HLtVqqXfZi2j"
      },
      "execution_count": null,
      "outputs": []
    },
    {
      "cell_type": "code",
      "source": [
        "! nvidia-smi\n",
        "\n"
      ],
      "metadata": {
        "colab": {
          "base_uri": "https://localhost:8080/"
        },
        "id": "ovzdOX_YOtss",
        "outputId": "068cf7d2-051d-4eb4-c554-6c36edab05bd"
      },
      "execution_count": null,
      "outputs": [
        {
          "output_type": "stream",
          "name": "stdout",
          "text": [
            "Tue Nov 29 21:12:08 2022       \n",
            "+-----------------------------------------------------------------------------+\n",
            "| NVIDIA-SMI 460.32.03    Driver Version: 460.32.03    CUDA Version: 11.2     |\n",
            "|-------------------------------+----------------------+----------------------+\n",
            "| GPU  Name        Persistence-M| Bus-Id        Disp.A | Volatile Uncorr. ECC |\n",
            "| Fan  Temp  Perf  Pwr:Usage/Cap|         Memory-Usage | GPU-Util  Compute M. |\n",
            "|                               |                      |               MIG M. |\n",
            "|===============================+======================+======================|\n",
            "|   0  Tesla T4            Off  | 00000000:00:04.0 Off |                    0 |\n",
            "| N/A   35C    P8     9W /  70W |      0MiB / 15109MiB |      0%      Default |\n",
            "|                               |                      |                  N/A |\n",
            "+-------------------------------+----------------------+----------------------+\n",
            "                                                                               \n",
            "+-----------------------------------------------------------------------------+\n",
            "| Processes:                                                                  |\n",
            "|  GPU   GI   CI        PID   Type   Process name                  GPU Memory |\n",
            "|        ID   ID                                                   Usage      |\n",
            "|=============================================================================|\n",
            "|  No running processes found                                                 |\n",
            "+-----------------------------------------------------------------------------+\n"
          ]
        }
      ]
    }
  ]
}