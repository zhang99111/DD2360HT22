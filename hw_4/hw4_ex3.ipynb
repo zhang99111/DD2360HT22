{
  "cells": [
    {
      "cell_type": "markdown",
      "metadata": {
        "id": "view-in-github",
        "colab_type": "text"
      },
      "source": [
        "<a href=\"https://colab.research.google.com/github/zhang99111/DD2360HT22/blob/main/hw_4/hw4_ex3.ipynb\" target=\"_parent\"><img src=\"https://colab.research.google.com/assets/colab-badge.svg\" alt=\"Open In Colab\"/></a>"
      ]
    },
    {
      "cell_type": "code",
      "source": [
        "from google.colab import drive\n",
        "drive.mount('/content/drive')\n",
        "%cd '/content/drive/MyDrive'"
      ],
      "metadata": {
        "colab": {
          "base_uri": "https://localhost:8080/"
        },
        "id": "oGARkbrtvXuy",
        "outputId": "25dbe842-ea80-4099-8e04-f931785f94d9"
      },
      "execution_count": 7,
      "outputs": [
        {
          "output_type": "stream",
          "name": "stdout",
          "text": [
            "Mounted at /content/drive\n",
            "/content/drive/MyDrive\n"
          ]
        }
      ]
    },
    {
      "cell_type": "code",
      "execution_count": 8,
      "metadata": {
        "id": "VL0y7Ay_bkw1"
      },
      "outputs": [],
      "source": [
        "!nvcc -arch=sm_75 ./hw4_ex3_pinned.cu -o lab4_ex3_pinned"
      ]
    },
    {
      "cell_type": "code",
      "execution_count": null,
      "metadata": {
        "colab": {
          "base_uri": "https://localhost:8080/"
        },
        "id": "W5f8QUpFcAHa",
        "outputId": "7667589a-1839-4c0e-d302-79995d1ab0e9"
      },
      "outputs": [
        {
          "output_type": "stream",
          "name": "stdout",
          "text": [
            "Input matrix dim (768 x 1024) (1024 x 4096) (768 x 4096)\n",
            "==14771== NVPROF is profiling process 14771, command: ./lab4_ex3_pinned 768 1024 1024 4096\n",
            "the commdan is correct==14771== Profiling application: ./lab4_ex3_pinned 768 1024 1024 4096\n",
            "==14771== Profiling result:\n",
            "            Type  Time(%)      Time     Calls       Avg       Min       Max  Name\n",
            " GPU activities:   93.13%  71.532ms         1  71.532ms  71.532ms  71.532ms  gemm(double*, double*, double*, int, int, int, int)\n",
            "                    4.34%  3.3304ms         2  1.6652ms  533.40us  2.7970ms  [CUDA memcpy HtoD]\n",
            "                    2.54%  1.9494ms         1  1.9494ms  1.9494ms  1.9494ms  [CUDA memcpy DtoH]\n",
            "      API calls:   77.69%  313.65ms         3  104.55ms  10.690ms  288.35ms  cudaHostAlloc\n",
            "                   17.72%  71.541ms         1  71.541ms  71.541ms  71.541ms  cudaDeviceSynchronize\n",
            "                    2.59%  10.472ms         3  3.4907ms  2.2425ms  4.6847ms  cudaFreeHost\n",
            "                    1.33%  5.3704ms         3  1.7901ms  578.72us  2.8103ms  cudaMemcpy\n",
            "                    0.40%  1.5989ms         3  532.98us  171.33us  1.0950ms  cudaFree\n",
            "                    0.13%  507.25us         3  169.08us  111.77us  249.05us  cudaMalloc\n",
            "                    0.09%  346.41us         1  346.41us  346.41us  346.41us  cuDeviceTotalMem\n",
            "                    0.04%  161.34us       101  1.5970us     133ns  70.478us  cuDeviceGetAttribute\n",
            "                    0.01%  32.312us         1  32.312us  32.312us  32.312us  cudaLaunchKernel\n",
            "                    0.01%  26.675us         1  26.675us  26.675us  26.675us  cuDeviceGetName\n",
            "                    0.00%  5.6300us         1  5.6300us  5.6300us  5.6300us  cuDeviceGetPCIBusId\n",
            "                    0.00%  1.7080us         3     569ns     224ns  1.2190us  cuDeviceGetCount\n",
            "                    0.00%  1.2900us         2     645ns     203ns  1.0870us  cuDeviceGet\n",
            "                    0.00%     274ns         1     274ns     274ns     274ns  cuDeviceGetUuid\n"
          ]
        }
      ],
      "source": [
        "!nvprof ./lab4_ex3_pinned 768 1024 1024 4096"
      ]
    },
    {
      "cell_type": "code",
      "source": [
        "!nvprof ./lab4_ex3_pinned 1024 1024 1024 4096"
      ],
      "metadata": {
        "colab": {
          "base_uri": "https://localhost:8080/"
        },
        "id": "iOOJinhKcnNP",
        "outputId": "2a7e9795-3c4d-47b8-ce0d-a2606fede214"
      },
      "execution_count": null,
      "outputs": [
        {
          "output_type": "stream",
          "name": "stdout",
          "text": [
            "Input matrix dim (1024 x 1024) (1024 x 4096) (1024 x 4096)\n",
            "==14450== NVPROF is profiling process 14450, command: ./lab4_ex3_pinned 1024 1024 1024 4096\n",
            "the commdan is correct==14450== Profiling application: ./lab4_ex3_pinned 1024 1024 1024 4096\n",
            "==14450== Profiling result:\n",
            "            Type  Time(%)      Time     Calls       Avg       Min       Max  Name\n",
            " GPU activities:   94.08%  95.626ms         1  95.626ms  95.626ms  95.626ms  gemm(double*, double*, double*, int, int, int, int)\n",
            "                    3.41%  3.4645ms         2  1.7323ms  696.25us  2.7683ms  [CUDA memcpy HtoD]\n",
            "                    2.51%  2.5546ms         1  2.5546ms  2.5546ms  2.5546ms  [CUDA memcpy DtoH]\n",
            "      API calls:   73.42%  323.25ms         3  107.75ms  13.092ms  296.35ms  cudaHostAlloc\n",
            "                   21.72%  95.637ms         1  95.637ms  95.637ms  95.637ms  cudaDeviceSynchronize\n",
            "                    2.81%  12.358ms         3  4.1192ms  2.9275ms  4.7531ms  cudaFreeHost\n",
            "                    1.39%  6.1288ms         3  2.0429ms  755.14us  2.7818ms  cudaMemcpy\n",
            "                    0.39%  1.7241ms         3  574.72us  187.28us  1.1142ms  cudaFree\n",
            "                    0.12%  543.64us         3  181.21us  114.81us  276.59us  cudaMalloc\n",
            "                    0.09%  376.03us         1  376.03us  376.03us  376.03us  cuDeviceTotalMem\n",
            "                    0.03%  145.41us       101  1.4390us     130ns  60.495us  cuDeviceGetAttribute\n",
            "                    0.01%  42.667us         1  42.667us  42.667us  42.667us  cudaLaunchKernel\n",
            "                    0.01%  40.353us         1  40.353us  40.353us  40.353us  cuDeviceGetName\n",
            "                    0.00%  6.6630us         1  6.6630us  6.6630us  6.6630us  cuDeviceGetPCIBusId\n",
            "                    0.00%  2.1770us         3     725ns     241ns  1.6860us  cuDeviceGetCount\n",
            "                    0.00%  1.2240us         2     612ns     172ns  1.0520us  cuDeviceGet\n",
            "                    0.00%     322ns         1     322ns     322ns     322ns  cuDeviceGetUuid\n"
          ]
        }
      ]
    },
    {
      "cell_type": "code",
      "source": [
        "!nvprof ./lab4_ex3_pinned 1536 1536 1536 4096"
      ],
      "metadata": {
        "colab": {
          "base_uri": "https://localhost:8080/"
        },
        "id": "Irr4rYfQcr69",
        "outputId": "16ca5637-15f5-4191-b4d2-46f30727dd93"
      },
      "execution_count": null,
      "outputs": [
        {
          "output_type": "stream",
          "name": "stdout",
          "text": [
            "Input matrix dim (1536 x 1536) (1536 x 4096) (1536 x 4096)\n",
            "==2281== NVPROF is profiling process 2281, command: ./lab4_ex3_pinned 1536 1536 1536 4096\n",
            "the commdan is correct==2281== Profiling application: ./lab4_ex3_pinned 1536 1536 1536 4096\n",
            "==2281== Profiling result:\n",
            "            Type  Time(%)      Time     Calls       Avg       Min       Max  Name\n",
            " GPU activities:   95.23%  189.07ms         1  189.07ms  189.07ms  189.07ms  gemm(double*, double*, double*, int, int, int, int)\n",
            "                    2.84%  5.6324ms         2  2.8162ms  1.5458ms  4.0865ms  [CUDA memcpy HtoD]\n",
            "                    1.93%  3.8372ms         1  3.8372ms  3.8372ms  3.8372ms  [CUDA memcpy DtoH]\n",
            "      API calls:   59.85%  330.69ms         3  110.23ms  19.159ms  290.72ms  cudaHostAlloc\n",
            "                   34.22%  189.09ms         1  189.09ms  189.09ms  189.09ms  cudaDeviceSynchronize\n",
            "                    3.52%  19.428ms         3  6.4759ms  5.2906ms  7.0915ms  cudaFreeHost\n",
            "                    1.74%  9.6215ms         3  3.2072ms  1.6348ms  4.1030ms  cudaMemcpy\n",
            "                    0.43%  2.4020ms         3  800.65us  230.24us  1.5589ms  cudaFree\n",
            "                    0.12%  674.95us         3  224.98us  142.80us  378.40us  cudaMalloc\n",
            "                    0.06%  354.22us         1  354.22us  354.22us  354.22us  cuDeviceTotalMem\n",
            "                    0.03%  148.96us       101  1.4740us     133ns  60.801us  cuDeviceGetAttribute\n",
            "                    0.01%  60.470us         1  60.470us  60.470us  60.470us  cudaLaunchKernel\n",
            "                    0.01%  42.725us         1  42.725us  42.725us  42.725us  cuDeviceGetName\n",
            "                    0.00%  5.5390us         1  5.5390us  5.5390us  5.5390us  cuDeviceGetPCIBusId\n",
            "                    0.00%  1.7190us         3     573ns     214ns  1.2220us  cuDeviceGetCount\n",
            "                    0.00%  1.2860us         2     643ns     226ns  1.0600us  cuDeviceGet\n",
            "                    0.00%     268ns         1     268ns     268ns     268ns  cuDeviceGetUuid\n"
          ]
        }
      ]
    },
    {
      "cell_type": "code",
      "source": [
        "!nvcc -arch=sm_75 ./hw4_ex3_uni.cu -o lab4_ex3_uni"
      ],
      "metadata": {
        "id": "bUSbCLLOdwCJ"
      },
      "execution_count": null,
      "outputs": []
    },
    {
      "cell_type": "code",
      "source": [
        "!nvprof ./lab4_ex3_uni 768 1024 1024 4096"
      ],
      "metadata": {
        "colab": {
          "base_uri": "https://localhost:8080/"
        },
        "id": "REsTdR0Dq_Ad",
        "outputId": "7717691f-57f6-4c93-ff57-02620eb8e894"
      },
      "execution_count": null,
      "outputs": [
        {
          "output_type": "stream",
          "name": "stdout",
          "text": [
            "Input matrix dim (768 x 1024) (1024 x 4096) (768 x 4096)\n",
            "==17182== NVPROF is profiling process 17182, command: ./lab4_ex3_uni 768 1024 1024 4096\n",
            "the commdan is correct==17182== Profiling application: ./lab4_ex3_uni 768 1024 1024 4096\n",
            "==17182== Profiling result:\n",
            "            Type  Time(%)      Time     Calls       Avg       Min       Max  Name\n",
            " GPU activities:  100.00%  84.174ms         1  84.174ms  84.174ms  84.174ms  gemm(double*, double*, double*, int, int, int, int)\n",
            "      API calls:   77.42%  304.92ms         3  101.64ms  11.664us  304.87ms  cudaMallocManaged\n",
            "                   21.37%  84.187ms         1  84.187ms  84.187ms  84.187ms  cudaDeviceSynchronize\n",
            "                    1.00%  3.9374ms         3  1.3125ms  491.06us  1.7547ms  cudaFree\n",
            "                    0.10%  396.16us         1  396.16us  396.16us  396.16us  cuDeviceTotalMem\n",
            "                    0.06%  248.44us         1  248.44us  248.44us  248.44us  cudaLaunchKernel\n",
            "                    0.04%  144.03us       101  1.4260us     128ns  60.337us  cuDeviceGetAttribute\n",
            "                    0.01%  27.352us         1  27.352us  27.352us  27.352us  cuDeviceGetName\n",
            "                    0.00%  5.4580us         1  5.4580us  5.4580us  5.4580us  cuDeviceGetPCIBusId\n",
            "                    0.00%  1.5450us         3     515ns     218ns  1.0820us  cuDeviceGetCount\n",
            "                    0.00%  1.2090us         2     604ns     301ns     908ns  cuDeviceGet\n",
            "                    0.00%     305ns         1     305ns     305ns     305ns  cuDeviceGetUuid\n",
            "\n",
            "==17182== Unified Memory profiling result:\n",
            "Device \"Tesla T4 (0)\"\n",
            "   Count  Avg Size  Min Size  Max Size  Total Size  Total Time  Name\n",
            "     810  48.039KB  4.0000KB  956.00KB  38.00000MB  5.285601ms  Host To Device\n",
            "     144  170.67KB  4.0000KB  0.9961MB  24.00000MB  2.185024ms  Device To Host\n",
            "     142         -         -         -           -  16.39835ms  Gpu page fault groups\n",
            "Total CPU Page faults: 186\n"
          ]
        }
      ]
    },
    {
      "cell_type": "code",
      "source": [
        "!nvprof ./lab4_ex3_uni 1024 1024 1024 4096"
      ],
      "metadata": {
        "colab": {
          "base_uri": "https://localhost:8080/"
        },
        "id": "qwxf3EoYd3WT",
        "outputId": "ba678e51-b4e4-4d77-89db-da81cbe9b62f"
      },
      "execution_count": null,
      "outputs": [
        {
          "output_type": "stream",
          "name": "stdout",
          "text": [
            "Input matrix dim (1024 x 1024) (1024 x 4096) (1024 x 4096)\n",
            "==17371== NVPROF is profiling process 17371, command: ./lab4_ex3_uni 1024 1024 1024 4096\n",
            "the commdan is correct==17371== Profiling application: ./lab4_ex3_uni 1024 1024 1024 4096\n",
            "==17371== Profiling result:\n",
            "            Type  Time(%)      Time     Calls       Avg       Min       Max  Name\n",
            " GPU activities:  100.00%  115.74ms         1  115.74ms  115.74ms  115.74ms  gemm(double*, double*, double*, int, int, int, int)\n",
            "      API calls:   71.69%  307.97ms         3  102.66ms  14.592us  307.90ms  cudaMallocManaged\n",
            "                   26.95%  115.76ms         1  115.76ms  115.76ms  115.76ms  cudaDeviceSynchronize\n",
            "                    1.23%  5.2788ms         3  1.7596ms  667.32us  2.5730ms  cudaFree\n",
            "                    0.08%  348.50us         1  348.50us  348.50us  348.50us  cuDeviceTotalMem\n",
            "                    0.03%  141.28us       101  1.3980us     129ns  59.977us  cuDeviceGetAttribute\n",
            "                    0.01%  56.770us         1  56.770us  56.770us  56.770us  cudaLaunchKernel\n",
            "                    0.01%  27.439us         1  27.439us  27.439us  27.439us  cuDeviceGetName\n",
            "                    0.00%  6.7660us         1  6.7660us  6.7660us  6.7660us  cuDeviceGetPCIBusId\n",
            "                    0.00%  1.9890us         3     663ns     215ns  1.3070us  cuDeviceGetCount\n",
            "                    0.00%  1.2280us         2     614ns     334ns     894ns  cuDeviceGet\n",
            "                    0.00%     308ns         1     308ns     308ns     308ns  cuDeviceGetUuid\n",
            "\n",
            "==17371== Unified Memory profiling result:\n",
            "Device \"Tesla T4 (0)\"\n",
            "   Count  Avg Size  Min Size  Max Size  Total Size  Total Time  Name\n",
            "     901  45.460KB  4.0000KB  924.00KB  40.00000MB  5.695355ms  Host To Device\n",
            "     192  170.67KB  4.0000KB  0.9961MB  32.00000MB  2.885246ms  Device To Host\n",
            "     161         -         -         -           -  24.49441ms  Gpu page fault groups\n",
            "Total CPU Page faults: 216\n"
          ]
        }
      ]
    },
    {
      "cell_type": "code",
      "source": [
        "!nvprof ./lab4_ex3_uni 1536 1536 1536 4096"
      ],
      "metadata": {
        "colab": {
          "base_uri": "https://localhost:8080/"
        },
        "id": "D7Hsp1l6eB97",
        "outputId": "cc523d67-124c-4278-c8d6-127792ea1d5d"
      },
      "execution_count": null,
      "outputs": [
        {
          "output_type": "stream",
          "name": "stdout",
          "text": [
            "Input matrix dim (1536 x 1536) (1536 x 4096) (1536 x 4096)\n",
            "==16567== NVPROF is profiling process 16567, command: ./lab4_ex3_uni 1536 1536 1536 4096\n",
            "the commdan is correct==16567== Profiling application: ./lab4_ex3_uni 1536 1536 1536 4096\n",
            "==16567== Profiling result:\n",
            "            Type  Time(%)      Time     Calls       Avg       Min       Max  Name\n",
            " GPU activities:  100.00%  202.34ms         1  202.34ms  202.34ms  202.34ms  gemm(double*, double*, double*, int, int, int, int)\n",
            "      API calls:   59.07%  308.09ms         3  102.70ms  19.242us  308.03ms  cudaMallocManaged\n",
            "                   38.80%  202.35ms         1  202.35ms  202.35ms  202.35ms  cudaDeviceSynchronize\n",
            "                    2.00%  10.421ms         3  3.4738ms  2.6229ms  4.5210ms  cudaFree\n",
            "                    0.07%  371.37us         1  371.37us  371.37us  371.37us  cuDeviceTotalMem\n",
            "                    0.03%  159.85us       101  1.5820us     126ns  65.083us  cuDeviceGetAttribute\n",
            "                    0.03%  132.85us         1  132.85us  132.85us  132.85us  cudaLaunchKernel\n",
            "                    0.01%  32.877us         1  32.877us  32.877us  32.877us  cuDeviceGetName\n",
            "                    0.00%  6.4400us         1  6.4400us  6.4400us  6.4400us  cuDeviceGetPCIBusId\n",
            "                    0.00%  1.5720us         3     524ns     180ns     999ns  cuDeviceGetCount\n",
            "                    0.00%  1.3690us         2     684ns     419ns     950ns  cuDeviceGet\n",
            "                    0.00%     251ns         1     251ns     251ns     251ns  cuDeviceGetUuid\n",
            "\n",
            "==16567== Unified Memory profiling result:\n",
            "Device \"Tesla T4 (0)\"\n",
            "   Count  Avg Size  Min Size  Max Size  Total Size  Total Time  Name\n",
            "    1542  43.828KB  4.0000KB  980.00KB  66.00000MB  9.503664ms  Host To Device\n",
            "     288  170.67KB  4.0000KB  0.9961MB  48.00000MB  4.233426ms  Device To Host\n",
            "     277         -         -         -           -  30.84190ms  Gpu page fault groups\n",
            "Total CPU Page faults: 342\n"
          ]
        }
      ]
    }
  ],
  "metadata": {
    "colab": {
      "provenance": [],
      "authorship_tag": "ABX9TyOGpRaDDf4q4r1ZBiaSH9dJ",
      "include_colab_link": true
    },
    "gpuClass": "standard",
    "kernelspec": {
      "display_name": "Python 3",
      "name": "python3"
    },
    "language_info": {
      "name": "python"
    },
    "accelerator": "GPU"
  },
  "nbformat": 4,
  "nbformat_minor": 0
}