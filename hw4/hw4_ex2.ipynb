{
  "nbformat": 4,
  "nbformat_minor": 0,
  "metadata": {
    "colab": {
      "provenance": [],
      "authorship_tag": "ABX9TyMaVJ4Z2sF/sjvIq7hubkBY",
      "include_colab_link": true
    },
    "kernelspec": {
      "name": "python3",
      "display_name": "Python 3"
    },
    "language_info": {
      "name": "python"
    },
    "gpuClass": "standard",
    "accelerator": "GPU"
  },
  "cells": [
    {
      "cell_type": "markdown",
      "metadata": {
        "id": "view-in-github",
        "colab_type": "text"
      },
      "source": [
        "<a href=\"https://colab.research.google.com/github/zhang99111/DD2360HT22/blob/main/hw4/hw4_ex2.ipynb\" target=\"_parent\"><img src=\"https://colab.research.google.com/assets/colab-badge.svg\" alt=\"Open In Colab\"/></a>"
      ]
    },
    {
      "cell_type": "code",
      "source": [
        "!ls /usr/local/cuda-11/bin/*"
      ],
      "metadata": {
        "colab": {
          "base_uri": "https://localhost:8080/"
        },
        "id": "1VQLwsf4ENos",
        "outputId": "212eb948-826d-4324-bc7a-89fb4d0dc978"
      },
      "execution_count": null,
      "outputs": [
        {
          "output_type": "stream",
          "name": "stdout",
          "text": [
            "/usr/local/cuda-11/bin/bin2c\n",
            "/usr/local/cuda-11/bin/computeprof\n",
            "/usr/local/cuda-11/bin/compute-sanitizer\n",
            "/usr/local/cuda-11/bin/cudafe++\n",
            "/usr/local/cuda-11/bin/cuda-gdb\n",
            "/usr/local/cuda-11/bin/cuda-gdbserver\n",
            "/usr/local/cuda-11/bin/cuda-install-samples-11.2.sh\n",
            "/usr/local/cuda-11/bin/cuda-memcheck\n",
            "/usr/local/cuda-11/bin/cu++filt\n",
            "/usr/local/cuda-11/bin/cuobjdump\n",
            "/usr/local/cuda-11/bin/fatbinary\n",
            "/usr/local/cuda-11/bin/ncu\n",
            "/usr/local/cuda-11/bin/ncu-ui\n",
            "/usr/local/cuda-11/bin/nsight_ee_plugins_manage.sh\n",
            "/usr/local/cuda-11/bin/nsight-sys\n",
            "/usr/local/cuda-11/bin/nsys\n",
            "/usr/local/cuda-11/bin/nsys-exporter\n",
            "/usr/local/cuda-11/bin/nsys-ui\n",
            "/usr/local/cuda-11/bin/nvcc\n",
            "/usr/local/cuda-11/bin/nvcc.profile\n",
            "/usr/local/cuda-11/bin/nvdisasm\n",
            "/usr/local/cuda-11/bin/nvlink\n",
            "/usr/local/cuda-11/bin/nv-nsight-cu\n",
            "/usr/local/cuda-11/bin/nv-nsight-cu-cli\n",
            "/usr/local/cuda-11/bin/nvprof\n",
            "/usr/local/cuda-11/bin/nvprune\n",
            "/usr/local/cuda-11/bin/nvvp\n",
            "/usr/local/cuda-11/bin/ptxas\n",
            "\n",
            "/usr/local/cuda-11/bin/crt:\n",
            "link.stub  prelink.stub\n"
          ]
        }
      ]
    },
    {
      "cell_type": "code",
      "source": [
        "from google.colab import drive\n",
        "drive.mount('/content/drive')\n",
        "%cd '/content/drive/MyDrive'"
      ],
      "metadata": {
        "colab": {
          "base_uri": "https://localhost:8080/"
        },
        "id": "dNTim4HQJZHG",
        "outputId": "8df38c0a-8334-49f4-eeff-c49a2b35d3ff"
      },
      "execution_count": null,
      "outputs": [
        {
          "output_type": "stream",
          "name": "stdout",
          "text": [
            "Mounted at /content/drive\n",
            "/content/drive/MyDrive\n"
          ]
        }
      ]
    },
    {
      "cell_type": "code",
      "source": [
        "!nvcc -arch=sm_75 ./lab3_ex1.cu -o lab3_ex1"
      ],
      "metadata": {
        "id": "pxq6CCBWeHGf"
      },
      "execution_count": null,
      "outputs": []
    },
    {
      "cell_type": "code",
      "source": [
        "!nvprof --output-profile hw4_ex2_no_streamed_262144.nvvp -f ./lab3_ex1 262144"
      ],
      "metadata": {
        "colab": {
          "base_uri": "https://localhost:8080/"
        },
        "id": "MRz0vzOF7OJ6",
        "outputId": "2aa75b46-2f6c-46e8-cf21-408361266fa1"
      },
      "execution_count": null,
      "outputs": [
        {
          "output_type": "stream",
          "name": "stdout",
          "text": [
            "The input length is 262144\n",
            "==4045== NVPROF is profiling process 4045, command: ./lab3_ex1 262144\n",
            "cost Host->Device: 0.001417 - cost Device->Host: 0.001402\n",
            "CPU cost: 0.002017 - GPU cost: 0.000057\n",
            "==4045== Generated result file: /content/drive/MyDrive/hw4_ex2_no_streamed_262144.nvvp\n"
          ]
        }
      ]
    },
    {
      "cell_type": "code",
      "source": [
        "!nvprof --output-profile hw4_ex2_no_streamed_1024.nvvp -f ./lab3_ex1 1024"
      ],
      "metadata": {
        "colab": {
          "base_uri": "https://localhost:8080/"
        },
        "id": "craBQut_eRrf",
        "outputId": "0cf2ace0-4c1e-4a38-cf25-21f744c9bad4"
      },
      "execution_count": null,
      "outputs": [
        {
          "output_type": "stream",
          "name": "stdout",
          "text": [
            "The input length is 1024\n",
            "==4026== NVPROF is profiling process 4026, command: ./lab3_ex1 1024\n",
            "cost Host->Device: 0.000353 - cost Device->Host: 0.000030\n",
            "CPU cost: 0.000005 - GPU cost: 0.000036\n",
            "==4026== Generated result file: /content/drive/MyDrive/hw4_ex2_no_streamed_1024.nvvp\n"
          ]
        }
      ]
    },
    {
      "cell_type": "code",
      "source": [
        "!nvprof --output-profile hw4_ex2_no_streamed_20480.nvvp -f ./lab3_ex1 20480"
      ],
      "metadata": {
        "colab": {
          "base_uri": "https://localhost:8080/"
        },
        "id": "jegi-2_n7m2i",
        "outputId": "8cf79881-3bae-47eb-c3d9-6f52d4b87fd3"
      },
      "execution_count": null,
      "outputs": [
        {
          "output_type": "stream",
          "name": "stdout",
          "text": [
            "The input length is 20480\n",
            "==7275== NVPROF is profiling process 7275, command: ./lab3_ex1 20480\n",
            "cost Host->Device: 0.000150 - cost Device->Host: 0.000161\n",
            "CPU cost: 0.000139 - GPU cost: 0.000038\n",
            "==7275== Generated result file: /content/drive/MyDrive/hw4_ex2_no_streamed_20480.nvvp\n"
          ]
        }
      ]
    },
    {
      "cell_type": "code",
      "source": [
        "!nvprof --output-profile hw4_ex2_no_streamed_204800.nvvp -f ./lab3_ex1 204800"
      ],
      "metadata": {
        "colab": {
          "base_uri": "https://localhost:8080/"
        },
        "id": "T86Te7_m9OUS",
        "outputId": "56a6b1c1-b540-4259-c516-a6d45819cf1d"
      },
      "execution_count": null,
      "outputs": [
        {
          "output_type": "stream",
          "name": "stdout",
          "text": [
            "The input length is 204800\n",
            "==8787== NVPROF is profiling process 8787, command: ./lab3_ex1 204800\n",
            "cost Host->Device: 0.000863 - cost Device->Host: 0.001253\n",
            "CPU cost: 0.001410 - GPU cost: 0.000088\n",
            "==8787== Generated result file: /content/drive/MyDrive/hw4_ex2_no_streamed_204800.nvvp\n"
          ]
        }
      ]
    },
    {
      "cell_type": "code",
      "source": [
        "!nvcc -arch=sm_75 ./hw4_ex2.cu -o hw4_ex2"
      ],
      "metadata": {
        "id": "ZdiDHV7EIcFp"
      },
      "execution_count": null,
      "outputs": []
    },
    {
      "cell_type": "code",
      "source": [
        "!nvprof --output-profile hw4_ex2_20480_stream.nvvp -f ./hw4_ex2 20480 1024"
      ],
      "metadata": {
        "colab": {
          "base_uri": "https://localhost:8080/"
        },
        "id": "GtmRpLF89mRC",
        "outputId": "fa6ebfea-78f9-4034-9bb3-426278b990ff"
      },
      "execution_count": null,
      "outputs": [
        {
          "output_type": "stream",
          "name": "stdout",
          "text": [
            "The input length is 20480\n",
            "the input segnebt lengrh is 1024\n",
            "the number of the segment is 20\n",
            "==862== NVPROF is profiling process 862, command: ./hw4_ex2 20480 1024\n",
            "==862== Generated result file: /content/drive/MyDrive/hw4_ex2_20480_stream.nvvp\n"
          ]
        }
      ]
    },
    {
      "cell_type": "code",
      "source": [
        "!nvprof --output-profile hw4_ex2_204800__1024_stream.nvvp -f ./hw4_ex2 204800 1024"
      ],
      "metadata": {
        "colab": {
          "base_uri": "https://localhost:8080/"
        },
        "id": "SBpqqPpE9tbG",
        "outputId": "91c1cee8-a183-42a0-f9e9-8632dc22e8a6"
      },
      "execution_count": null,
      "outputs": [
        {
          "output_type": "stream",
          "name": "stdout",
          "text": [
            "The input length is 204800\n",
            "the input segnebt lengrh is 1024\n",
            "the number of the segment is 200\n",
            "==915== NVPROF is profiling process 915, command: ./hw4_ex2 204800 1024\n",
            "==915== Generated result file: /content/drive/MyDrive/hw4_ex2_204800__1024_stream.nvvp\n"
          ]
        }
      ]
    },
    {
      "cell_type": "code",
      "source": [
        "!nvprof --output-profile hw4_ex2_204800_10240_stream.nvvp -f ./hw4_ex2 204800 10240"
      ],
      "metadata": {
        "colab": {
          "base_uri": "https://localhost:8080/"
        },
        "id": "sp-uk6JFU1yq",
        "outputId": "20340050-2f23-46e0-c7ad-9e988534762b"
      },
      "execution_count": null,
      "outputs": [
        {
          "output_type": "stream",
          "name": "stdout",
          "text": [
            "The input length is 204800\n",
            "the input segnebt lengrh is 10240\n",
            "the number of the segment is 20\n",
            "==952== NVPROF is profiling process 952, command: ./hw4_ex2 204800 10240\n",
            "==952== Generated result file: /content/drive/MyDrive/hw4_ex2_204800_10240_stream.nvvp\n"
          ]
        }
      ]
    },
    {
      "cell_type": "code",
      "source": [
        "!nvprof --output-profile hw4_ex2_204800_20480_stream.nvvp -f ./hw4_ex2 204800 20480"
      ],
      "metadata": {
        "colab": {
          "base_uri": "https://localhost:8080/"
        },
        "id": "8cte9yNbx-KN",
        "outputId": "a8f9dc37-2483-4584-e98b-f560ef7c58ae"
      },
      "execution_count": null,
      "outputs": [
        {
          "output_type": "stream",
          "name": "stdout",
          "text": [
            "The input length is 204800\n",
            "the input segnebt lengrh is 20480\n",
            "the number of the segment is 10\n",
            "==989== NVPROF is profiling process 989, command: ./hw4_ex2 204800 20480\n",
            "==989== Generated result file: /content/drive/MyDrive/hw4_ex2_204800_20480_stream.nvvp\n"
          ]
        }
      ]
    },
    {
      "cell_type": "code",
      "source": [
        "!nvprof --output-profile hw4_ex2_204800_102400_stream.nvvp -f ./hw4_ex2 204800 102400"
      ],
      "metadata": {
        "id": "O2J4X3TTB3IY",
        "colab": {
          "base_uri": "https://localhost:8080/"
        },
        "outputId": "e5a3ef27-1b23-4c41-bda8-3aecac1f7938"
      },
      "execution_count": null,
      "outputs": [
        {
          "output_type": "stream",
          "name": "stdout",
          "text": [
            "The input length is 204800\n",
            "the input segnebt lengrh is 102400\n",
            "the number of the segment is 2\n",
            "==1018== NVPROF is profiling process 1018, command: ./hw4_ex2 204800 102400\n",
            "==1018== Generated result file: /content/drive/MyDrive/hw4_ex2_204800_102400_stream.nvvp\n"
          ]
        }
      ]
    },
    {
      "cell_type": "code",
      "source": [
        "!nvprof --output-profile hw4_ex2_204800_204800_stream.nvvp -f ./hw4_ex2 204800 204800"
      ],
      "metadata": {
        "colab": {
          "base_uri": "https://localhost:8080/"
        },
        "id": "-E7n3-iJ09s-",
        "outputId": "ed05e804-0d39-4280-b744-b6aad544f66b"
      },
      "execution_count": null,
      "outputs": [
        {
          "output_type": "stream",
          "name": "stdout",
          "text": [
            "The input length is 204800\n",
            "the input segnebt lengrh is 204800\n",
            "the number of the segment is 1\n",
            "==1049== NVPROF is profiling process 1049, command: ./hw4_ex2 204800 204800\n",
            "==1049== Generated result file: /content/drive/MyDrive/hw4_ex2_204800_204800_stream.nvvp\n"
          ]
        }
      ]
    },
    {
      "cell_type": "code",
      "source": [
        "!nvprof --output-profile hw4_ex2_8192000.nvvp -f ./hw4_ex2 524288 8192000"
      ],
      "metadata": {
        "colab": {
          "base_uri": "https://localhost:8080/"
        },
        "id": "q_CTL0GD1cgs",
        "outputId": "df2c6b0e-2272-4182-dc7c-fa5476290436"
      },
      "execution_count": null,
      "outputs": [
        {
          "output_type": "stream",
          "name": "stdout",
          "text": [
            "The input length is 524288\n",
            "the input segnebt lengrh is 8192000\n",
            "the number of the segment is 0\n",
            "==1072== NVPROF is profiling process 1072, command: ./hw4_ex2 524288 8192000\n",
            "error counted:1.464544==1072== Generated result file: /content/drive/MyDrive/hw4_ex2_8192000.nvvp\n"
          ]
        }
      ]
    }
  ]
}